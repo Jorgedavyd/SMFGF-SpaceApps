{
 "cells": [
  {
   "cell_type": "code",
   "execution_count": 1,
   "metadata": {},
   "outputs": [],
   "source": [
    "import pandas as pd\n",
    "import tarfile\n",
    "import zipfile\n",
    "import gzip\n",
    "import io\n",
    "import csv\n",
    "from data.preprocessing import SOHO, interval_years"
   ]
  },
  {
   "cell_type": "code",
   "execution_count": 2,
   "metadata": {},
   "outputs": [
    {
     "name": "stdout",
     "output_type": "stream",
     "text": [
      "Downloading https://soho.nascom.nasa.gov/data/EntireMissionBundles/CELIAS_Proton_Monitor_5min.tar.gz to data/SOHO/CELIAS_Proton_Monitor_5min.tar.gz\n"
     ]
    },
    {
     "name": "stderr",
     "output_type": "stream",
     "text": [
      "100%|██████████| 37024528/37024528 [00:25<00:00, 1465235.22it/s]\n"
     ]
    }
   ],
   "source": [
    "scrap_date = interval_years('20200901', '20221010')\n",
    "satellite = SOHO()\n",
    "monitor = satellite.CELIAS_Proton_Monitor_data(scrap_date)"
   ]
  },
  {
   "cell_type": "code",
   "execution_count": 4,
   "metadata": {},
   "outputs": [],
   "source": [
    "df = monitor"
   ]
  },
  {
   "cell_type": "code",
   "execution_count": 5,
   "metadata": {},
   "outputs": [
    {
     "data": {
      "text/html": [
       "<div>\n",
       "<style scoped>\n",
       "    .dataframe tbody tr th:only-of-type {\n",
       "        vertical-align: middle;\n",
       "    }\n",
       "\n",
       "    .dataframe tbody tr th {\n",
       "        vertical-align: top;\n",
       "    }\n",
       "\n",
       "    .dataframe thead th {\n",
       "        text-align: right;\n",
       "    }\n",
       "</style>\n",
       "<table border=\"1\" class=\"dataframe\">\n",
       "  <thead>\n",
       "    <tr style=\"text-align: right;\">\n",
       "      <th></th>\n",
       "      <th>YY</th>\n",
       "      <th>MON</th>\n",
       "      <th>DY</th>\n",
       "      <th>DOY:HH:MM:SS</th>\n",
       "      <th>SPEED</th>\n",
       "      <th>Np</th>\n",
       "      <th>Vth</th>\n",
       "      <th>N/S</th>\n",
       "      <th>V_He</th>\n",
       "    </tr>\n",
       "  </thead>\n",
       "  <tbody>\n",
       "    <tr>\n",
       "      <th>0</th>\n",
       "      <td>22</td>\n",
       "      <td>Jan</td>\n",
       "      <td>1</td>\n",
       "      <td>001:01:46:58</td>\n",
       "      <td>474</td>\n",
       "      <td>2.56</td>\n",
       "      <td>37</td>\n",
       "      <td>-4.5</td>\n",
       "      <td>489</td>\n",
       "    </tr>\n",
       "    <tr>\n",
       "      <th>1</th>\n",
       "      <td>22</td>\n",
       "      <td>Jan</td>\n",
       "      <td>1</td>\n",
       "      <td>001:01:52:00</td>\n",
       "      <td>458</td>\n",
       "      <td>1.83</td>\n",
       "      <td>33</td>\n",
       "      <td>-2.4</td>\n",
       "      <td>471</td>\n",
       "    </tr>\n",
       "    <tr>\n",
       "      <th>2</th>\n",
       "      <td>22</td>\n",
       "      <td>Jan</td>\n",
       "      <td>1</td>\n",
       "      <td>001:01:57:03</td>\n",
       "      <td>456</td>\n",
       "      <td>1.93</td>\n",
       "      <td>33</td>\n",
       "      <td>-3.4</td>\n",
       "      <td>468</td>\n",
       "    </tr>\n",
       "    <tr>\n",
       "      <th>3</th>\n",
       "      <td>22</td>\n",
       "      <td>Jan</td>\n",
       "      <td>1</td>\n",
       "      <td>001:02:02:03</td>\n",
       "      <td>457</td>\n",
       "      <td>1.93</td>\n",
       "      <td>32</td>\n",
       "      <td>-4.4</td>\n",
       "      <td>468</td>\n",
       "    </tr>\n",
       "    <tr>\n",
       "      <th>4</th>\n",
       "      <td>22</td>\n",
       "      <td>Jan</td>\n",
       "      <td>1</td>\n",
       "      <td>001:02:07:06</td>\n",
       "      <td>459</td>\n",
       "      <td>1.86</td>\n",
       "      <td>38</td>\n",
       "      <td>-2.6</td>\n",
       "      <td>476</td>\n",
       "    </tr>\n",
       "    <tr>\n",
       "      <th>...</th>\n",
       "      <td>...</td>\n",
       "      <td>...</td>\n",
       "      <td>...</td>\n",
       "      <td>...</td>\n",
       "      <td>...</td>\n",
       "      <td>...</td>\n",
       "      <td>...</td>\n",
       "      <td>...</td>\n",
       "      <td>...</td>\n",
       "    </tr>\n",
       "    <tr>\n",
       "      <th>275115</th>\n",
       "      <td>20</td>\n",
       "      <td>Dec</td>\n",
       "      <td>31</td>\n",
       "      <td>366:23:35:08</td>\n",
       "      <td>404</td>\n",
       "      <td>2.53</td>\n",
       "      <td>28</td>\n",
       "      <td>-0.1</td>\n",
       "      <td>413</td>\n",
       "    </tr>\n",
       "    <tr>\n",
       "      <th>275116</th>\n",
       "      <td>20</td>\n",
       "      <td>Dec</td>\n",
       "      <td>31</td>\n",
       "      <td>366:23:40:12</td>\n",
       "      <td>397</td>\n",
       "      <td>2.68</td>\n",
       "      <td>26</td>\n",
       "      <td>-0.3</td>\n",
       "      <td>404</td>\n",
       "    </tr>\n",
       "    <tr>\n",
       "      <th>275117</th>\n",
       "      <td>20</td>\n",
       "      <td>Dec</td>\n",
       "      <td>31</td>\n",
       "      <td>366:23:45:13</td>\n",
       "      <td>405</td>\n",
       "      <td>1.95</td>\n",
       "      <td>31</td>\n",
       "      <td>-0.7</td>\n",
       "      <td>416</td>\n",
       "    </tr>\n",
       "    <tr>\n",
       "      <th>275118</th>\n",
       "      <td>20</td>\n",
       "      <td>Dec</td>\n",
       "      <td>31</td>\n",
       "      <td>366:23:50:15</td>\n",
       "      <td>398</td>\n",
       "      <td>2.28</td>\n",
       "      <td>30</td>\n",
       "      <td>-0.6</td>\n",
       "      <td>408</td>\n",
       "    </tr>\n",
       "    <tr>\n",
       "      <th>275119</th>\n",
       "      <td>20</td>\n",
       "      <td>Dec</td>\n",
       "      <td>31</td>\n",
       "      <td>366:23:55:21</td>\n",
       "      <td>392</td>\n",
       "      <td>2.67</td>\n",
       "      <td>28</td>\n",
       "      <td>-0.4</td>\n",
       "      <td>400</td>\n",
       "    </tr>\n",
       "  </tbody>\n",
       "</table>\n",
       "<p>275120 rows × 9 columns</p>\n",
       "</div>"
      ],
      "text/plain": [
       "        YY  MON  DY  DOY:HH:MM:SS  SPEED    Np  Vth  N/S  V_He\n",
       "0       22  Jan   1  001:01:46:58    474  2.56   37 -4.5   489\n",
       "1       22  Jan   1  001:01:52:00    458  1.83   33 -2.4   471\n",
       "2       22  Jan   1  001:01:57:03    456  1.93   33 -3.4   468\n",
       "3       22  Jan   1  001:02:02:03    457  1.93   32 -4.4   468\n",
       "4       22  Jan   1  001:02:07:06    459  1.86   38 -2.6   476\n",
       "...     ..  ...  ..           ...    ...   ...  ...  ...   ...\n",
       "275115  20  Dec  31  366:23:35:08    404  2.53   28 -0.1   413\n",
       "275116  20  Dec  31  366:23:40:12    397  2.68   26 -0.3   404\n",
       "275117  20  Dec  31  366:23:45:13    405  1.95   31 -0.7   416\n",
       "275118  20  Dec  31  366:23:50:15    398  2.28   30 -0.6   408\n",
       "275119  20  Dec  31  366:23:55:21    392  2.67   28 -0.4   400\n",
       "\n",
       "[275120 rows x 9 columns]"
      ]
     },
     "execution_count": 5,
     "metadata": {},
     "output_type": "execute_result"
    }
   ],
   "source": [
    "df"
   ]
  },
  {
   "cell_type": "code",
   "execution_count": 13,
   "metadata": {},
   "outputs": [
    {
     "data": {
      "text/plain": [
       "['001', '01', '46', '58']"
      ]
     },
     "execution_count": 13,
     "metadata": {},
     "output_type": "execute_result"
    }
   ],
   "source": [
    "df['DOY:HH:MM:SS'][0].split(':')"
   ]
  },
  {
   "cell_type": "code",
   "execution_count": 15,
   "metadata": {},
   "outputs": [],
   "source": [
    "\n",
    "# Split the \"DOY:HH:MM:SS\" column into separate columns\n",
    "df[['DOY', 'HH', 'MM', 'SS']] = df['DOY:HH:MM:SS'].str.split(':', expand=True)\n",
    "\n",
    "# Create a 'datetime' column by combining the separate columns\n",
    "df['datetime'] = pd.to_datetime(\n",
    "    '20' + df['YY'].apply(str) + df['MON'] + df['DY'].apply(str) + ' ' +\n",
    "    df['DOY'] + ' ' + df['HH'] + ':' +\n",
    "    df['MM'] + ':' + df['SS'],\n",
    "    format='%Y%b%d %j %H:%M:%S')"
   ]
  },
  {
   "cell_type": "code",
   "execution_count": 22,
   "metadata": {},
   "outputs": [
    {
     "ename": "TypeError",
     "evalue": "DataFrame.set_index() got an unexpected keyword argument 'axis'",
     "output_type": "error",
     "traceback": [
      "\u001b[1;31m---------------------------------------------------------------------------\u001b[0m",
      "\u001b[1;31mTypeError\u001b[0m                                 Traceback (most recent call last)",
      "\u001b[1;32mc:\\Users\\jorge\\Desktop\\SMFGF\\SMFGF-SpaceApps\\exploratory_soho.ipynb Cell 7\u001b[0m line \u001b[0;36m1\n\u001b[1;32m----> <a href='vscode-notebook-cell:/c%3A/Users/jorge/Desktop/SMFGF/SMFGF-SpaceApps/exploratory_soho.ipynb#X13sZmlsZQ%3D%3D?line=0'>1</a>\u001b[0m df\u001b[39m.\u001b[39;49mset_index(\u001b[39m'\u001b[39;49m\u001b[39mdatetime\u001b[39;49m\u001b[39m'\u001b[39;49m, axis \u001b[39m=\u001b[39;49m \u001b[39m1\u001b[39;49m)\u001b[39m.\u001b[39mdrop([\u001b[39m'\u001b[39m\u001b[39mYY\u001b[39m\u001b[39m'\u001b[39m, \u001b[39m'\u001b[39m\u001b[39mMON\u001b[39m\u001b[39m'\u001b[39m, \u001b[39m'\u001b[39m\u001b[39mDY\u001b[39m\u001b[39m'\u001b[39m, \u001b[39m'\u001b[39m\u001b[39mDOY\u001b[39m\u001b[39m'\u001b[39m, \u001b[39m'\u001b[39m\u001b[39mDOY:HH:MM:SS\u001b[39m\u001b[39m'\u001b[39m, \u001b[39m'\u001b[39m\u001b[39mHH\u001b[39m\u001b[39m'\u001b[39m, \u001b[39m'\u001b[39m\u001b[39mMM\u001b[39m\u001b[39m'\u001b[39m, \u001b[39m'\u001b[39m\u001b[39mSS\u001b[39m\u001b[39m'\u001b[39m, \u001b[39m'\u001b[39m\u001b[39mdatetime\u001b[39m\u001b[39m'\u001b[39m], axis \u001b[39m=\u001b[39m\u001b[39m1\u001b[39m)\n",
      "File \u001b[1;32mc:\\Users\\jorge\\AppData\\Local\\Programs\\Python\\Python311\\Lib\\site-packages\\pandas\\util\\_decorators.py:331\u001b[0m, in \u001b[0;36mdeprecate_nonkeyword_arguments.<locals>.decorate.<locals>.wrapper\u001b[1;34m(*args, **kwargs)\u001b[0m\n\u001b[0;32m    325\u001b[0m \u001b[39mif\u001b[39;00m \u001b[39mlen\u001b[39m(args) \u001b[39m>\u001b[39m num_allow_args:\n\u001b[0;32m    326\u001b[0m     warnings\u001b[39m.\u001b[39mwarn(\n\u001b[0;32m    327\u001b[0m         msg\u001b[39m.\u001b[39mformat(arguments\u001b[39m=\u001b[39m_format_argument_list(allow_args)),\n\u001b[0;32m    328\u001b[0m         \u001b[39mFutureWarning\u001b[39;00m,\n\u001b[0;32m    329\u001b[0m         stacklevel\u001b[39m=\u001b[39mfind_stack_level(),\n\u001b[0;32m    330\u001b[0m     )\n\u001b[1;32m--> 331\u001b[0m \u001b[39mreturn\u001b[39;00m func(\u001b[39m*\u001b[39;49margs, \u001b[39m*\u001b[39;49m\u001b[39m*\u001b[39;49mkwargs)\n",
      "\u001b[1;31mTypeError\u001b[0m: DataFrame.set_index() got an unexpected keyword argument 'axis'"
     ]
    }
   ],
   "source": [
    "df.set_index('datetime', axis = 1).drop(['YY', 'MON', 'DY', 'DOY', 'DOY:HH:MM:SS', 'HH', 'MM', 'SS', 'datetime'], axis =1)"
   ]
  },
  {
   "cell_type": "markdown",
   "metadata": {},
   "source": [
    "ftp://sohoftp.nascom.nasa.gov/qkl/lasco/quicklook/level_05/\n"
   ]
  },
  {
   "cell_type": "code",
   "execution_count": 23,
   "metadata": {},
   "outputs": [
    {
     "name": "stderr",
     "output_type": "stream",
     "text": [
      "Files Downloaded: 100%|██████████| 1/1 [01:06<00:00, 66.87s/file]\n"
     ]
    },
    {
     "ename": "OSError",
     "evalue": "/home/jenci/Desktop/SMFGF-SpaceApps/data/SOHO_L2/COSTEP_EPHIN_5min/data/costep_ephin_l3_l31_1440_60_30_10_5_1_min_cdf_tar is not a CDF file or a non-supported CDF!",
     "output_type": "error",
     "traceback": [
      "\u001b[0;31m---------------------------------------------------------------------------\u001b[0m",
      "\u001b[0;31mOSError\u001b[0m                                   Traceback (most recent call last)",
      "\u001b[1;32m/home/jenci/Desktop/SMFGF-SpaceApps/exploratory_soho.ipynb Cell 9\u001b[0m line \u001b[0;36m7\n\u001b[1;32m      <a href='vscode-notebook-cell:/home/jenci/Desktop/SMFGF-SpaceApps/exploratory_soho.ipynb#X12sZmlsZQ%3D%3D?line=4'>5</a>\u001b[0m result \u001b[39m=\u001b[39m Fido\u001b[39m.\u001b[39msearch(a\u001b[39m.\u001b[39mTime(\u001b[39m'\u001b[39m\u001b[39m1995/1/1\u001b[39m\u001b[39m'\u001b[39m, \u001b[39m'\u001b[39m\u001b[39m2023/12/31\u001b[39m\u001b[39m'\u001b[39m), a\u001b[39m.\u001b[39mInstrument\u001b[39m.\u001b[39mcostep, a\u001b[39m.\u001b[39mSample(\u001b[39m5\u001b[39m\u001b[39m*\u001b[39mu\u001b[39m.\u001b[39mminute))\n\u001b[1;32m      <a href='vscode-notebook-cell:/home/jenci/Desktop/SMFGF-SpaceApps/exploratory_soho.ipynb#X12sZmlsZQ%3D%3D?line=5'>6</a>\u001b[0m downloaded_files \u001b[39m=\u001b[39m Fido\u001b[39m.\u001b[39mfetch(result, path\u001b[39m=\u001b[39m\u001b[39mf\u001b[39m\u001b[39m'\u001b[39m\u001b[39m./data/SOHO_L2/COSTEP_EPHIN_5min/data\u001b[39m\u001b[39m'\u001b[39m) \n\u001b[0;32m----> <a href='vscode-notebook-cell:/home/jenci/Desktop/SMFGF-SpaceApps/exploratory_soho.ipynb#X12sZmlsZQ%3D%3D?line=6'>7</a>\u001b[0m cdf_file \u001b[39m=\u001b[39m cdflib\u001b[39m.\u001b[39;49mCDF(\u001b[39m'\u001b[39;49m\u001b[39m./data/SOHO_L2/COSTEP_EPHIN_5min/data/costep_ephin_l3_l31_1440_60_30_10_5_1_min_cdf_tar\u001b[39;49m\u001b[39m'\u001b[39;49m)\n\u001b[1;32m      <a href='vscode-notebook-cell:/home/jenci/Desktop/SMFGF-SpaceApps/exploratory_soho.ipynb#X12sZmlsZQ%3D%3D?line=7'>8</a>\u001b[0m variables \u001b[39m=\u001b[39m cdf_file\u001b[39m.\u001b[39mcdf_info()\n\u001b[1;32m      <a href='vscode-notebook-cell:/home/jenci/Desktop/SMFGF-SpaceApps/exploratory_soho.ipynb#X12sZmlsZQ%3D%3D?line=8'>9</a>\u001b[0m \u001b[39mfor\u001b[39;00m var \u001b[39min\u001b[39;00m variables[\u001b[39m'\u001b[39m\u001b[39mzVariables\u001b[39m\u001b[39m'\u001b[39m]:\n",
      "File \u001b[0;32m~/.local/lib/python3.10/site-packages/cdflib/cdfread.py:102\u001b[0m, in \u001b[0;36mCDF.__init__\u001b[0;34m(self, path, validate, string_encoding, s3_read_method)\u001b[0m\n\u001b[1;32m     99\u001b[0m compressed_bool \u001b[39m=\u001b[39m \u001b[39mself\u001b[39m\u001b[39m.\u001b[39m_f\u001b[39m.\u001b[39mread(\u001b[39m4\u001b[39m)\u001b[39m.\u001b[39mhex()\n\u001b[1;32m    101\u001b[0m \u001b[39mif\u001b[39;00m magic_number \u001b[39mnot\u001b[39;00m \u001b[39min\u001b[39;00m (\u001b[39m\"\u001b[39m\u001b[39mcdf30001\u001b[39m\u001b[39m\"\u001b[39m, \u001b[39m\"\u001b[39m\u001b[39mcdf26002\u001b[39m\u001b[39m\"\u001b[39m, \u001b[39m\"\u001b[39m\u001b[39m0000ffff\u001b[39m\u001b[39m\"\u001b[39m):\n\u001b[0;32m--> 102\u001b[0m     \u001b[39mraise\u001b[39;00m \u001b[39mOSError\u001b[39;00m(\u001b[39mf\u001b[39m\u001b[39m\"\u001b[39m\u001b[39m{\u001b[39;00mpath\u001b[39m}\u001b[39;00m\u001b[39m is not a CDF file or a non-supported CDF!\u001b[39m\u001b[39m\"\u001b[39m)\n\u001b[1;32m    104\u001b[0m \u001b[39mself\u001b[39m\u001b[39m.\u001b[39mcdfversion \u001b[39m=\u001b[39m \u001b[39m3\u001b[39m \u001b[39mif\u001b[39;00m magic_number \u001b[39m==\u001b[39m \u001b[39m\"\u001b[39m\u001b[39mcdf30001\u001b[39m\u001b[39m\"\u001b[39m \u001b[39melse\u001b[39;00m \u001b[39m2\u001b[39m\n\u001b[1;32m    106\u001b[0m \u001b[39mself\u001b[39m\u001b[39m.\u001b[39m_compressed \u001b[39m=\u001b[39m \u001b[39mnot\u001b[39;00m (compressed_bool \u001b[39m==\u001b[39m \u001b[39m\"\u001b[39m\u001b[39m0000ffff\u001b[39m\u001b[39m\"\u001b[39m)\n",
      "\u001b[0;31mOSError\u001b[0m: /home/jenci/Desktop/SMFGF-SpaceApps/data/SOHO_L2/COSTEP_EPHIN_5min/data/costep_ephin_l3_l31_1440_60_30_10_5_1_min_cdf_tar is not a CDF file or a non-supported CDF!"
     ]
    }
   ],
   "source": [
    "from sunpy.net import Fido, attrs as a\n",
    "import astropy.units as u\n",
    "import cdflib\n",
    "#copy for COSTEP\n",
    "result = Fido.search(a.Time('1995/1/1', '2023/12/31'), a.Instrument.costep, a.Sample(5*u.minute))\n",
    "downloaded_files = Fido.fetch(result, path=f'./data/SOHO_L2/COSTEP_EPHIN_5min/data') \n",
    "cdf_file = cdflib.CDF('./data/SOHO_L2/COSTEP_EPHIN_5min/data/costep_ephin_l3_l31_1440_60_30_10_5_1_min_cdf_tar')\n",
    "variables = cdf_file.cdf_info()\n",
    "for var in variables['zVariables']:\n",
    "    print(var)"
   ]
  },
  {
   "cell_type": "code",
   "execution_count": 24,
   "metadata": {},
   "outputs": [
    {
     "ename": "AttributeError",
     "evalue": "module 'sunpy' has no attribute 'io'",
     "output_type": "error",
     "traceback": [
      "\u001b[0;31m---------------------------------------------------------------------------\u001b[0m",
      "\u001b[0;31mAttributeError\u001b[0m                            Traceback (most recent call last)",
      "\u001b[1;32m/home/jenci/Desktop/SMFGF-SpaceApps/exploratory_soho.ipynb Cell 10\u001b[0m line \u001b[0;36m2\n\u001b[1;32m      <a href='vscode-notebook-cell:/home/jenci/Desktop/SMFGF-SpaceApps/exploratory_soho.ipynb#X20sZmlsZQ%3D%3D?line=0'>1</a>\u001b[0m \u001b[39mimport\u001b[39;00m \u001b[39msunpy\u001b[39;00m\n\u001b[0;32m----> <a href='vscode-notebook-cell:/home/jenci/Desktop/SMFGF-SpaceApps/exploratory_soho.ipynb#X20sZmlsZQ%3D%3D?line=1'>2</a>\u001b[0m sunpy\u001b[39m.\u001b[39;49mio\u001b[39m.\u001b[39mread_file(\u001b[39m'\u001b[39m\u001b[39m./data/SOHO_L2/COSTEP_EPHIN_5min/data/costep_ephin_l3_l31_1440_60_30_10_5_1_min_cdf_tar\u001b[39m\u001b[39m'\u001b[39m)\n",
      "\u001b[0;31mAttributeError\u001b[0m: module 'sunpy' has no attribute 'io'"
     ]
    }
   ],
   "source": [
    "import sunpy\n",
    "sunpy.io.read_file('./data/SOHO_L2/COSTEP_EPHIN_5min/data/costep_ephin_l3_l31_1440_60_30_10_5_1_min_cdf_tar')"
   ]
  },
  {
   "cell_type": "code",
   "execution_count": 22,
   "metadata": {},
   "outputs": [
    {
     "data": {
      "text/plain": [
       "<parfive.results.Results object at 0x7ff0babba230>\n",
       "['data/SOHO_L2/COSTEP_EPHIN_5min/data/costep_ephin_l3_l31_1440_60_30_10_5_1_min_cdf_tar.gz']"
      ]
     },
     "execution_count": 22,
     "metadata": {},
     "output_type": "execute_result"
    }
   ],
   "source": [
    "downloaded_files"
   ]
  },
  {
   "cell_type": "code",
   "execution_count": 13,
   "metadata": {},
   "outputs": [
    {
     "name": "stdout",
     "output_type": "stream",
     "text": [
      "sunpy.net.attrs.Instrument\n",
      "\n",
      "Specifies the Instrument name for the search.\n",
      "\n",
      "       Attribute Name       ...\n",
      "--------------------------- ...\n",
      "aia                         ...\n",
      "bcs                         ...\n",
      "be_continuum                ...\n",
      "be_halpha                   ...\n",
      "bigbear                     ...\n",
      "caii                        ...\n",
      "cds                         ...\n",
      "celias                      ...\n",
      "cerrotololo                 ...\n",
      "chp                         ...\n",
      "cook                        ...\n",
      "costep                      ...\n",
      "cp                          ...\n",
      "dpm                         ...\n",
      "eis                         ...\n",
      "eit                         ...\n",
      "elteide                     ...\n",
      "erne                        ...\n",
      "eui                         ...\n",
      "eve                         ...\n",
      "eve                         ...\n",
      "film                        ...\n",
      "five_12_channelmagnetograph ...\n",
      "foxsi                       ...\n",
      "gbm                         ...\n",
      "goes                        ...\n",
      "golf                        ...\n",
      "gong                        ...\n",
      "ha2                         ...\n",
      "hi_c                        ...\n",
      "hi_c21                      ...\n",
      "hmi                         ...\n",
      "hxeclipse                   ...\n",
      "hxt                         ...\n",
      "imax                        ...\n",
      "impact                      ...\n",
      "iris                        ...\n",
      "isoon                       ...\n",
      "iss                         ...\n",
      "ivm                         ...\n",
      "k_cor                       ...\n",
      "kpdc                        ...\n",
      "lasco                       ...\n",
      "learmonth                   ...\n",
      "longwave_lobe_06            ...\n",
      "longwave_lobe_07            ...\n",
      "longwave_slit_06            ...\n",
      "longwave_slit_07            ...\n",
      "lyra                        ...\n",
      "lyra                        ...\n",
      "maunaloa                    ...\n",
      "mdi                         ...\n",
      "mees                        ...\n",
      "mergedgong                  ...\n",
      "meudonspectroheliograph     ...\n",
      "mk4                         ...\n",
      "noaa_indices                ...\n",
      "noaa_predict                ...\n",
      "norh                        ...\n",
      "phoenix                     ...\n",
      "phoka                       ...\n",
      "plastic                     ...\n",
      "ptmc                        ...\n",
      "rhessi                      ...\n",
      "rhessi                      ...\n",
      "secchi                      ...\n",
      "shortwave_lobe_06           ...\n",
      "shortwave_lobe_07           ...\n",
      "shortwave_slit_06           ...\n",
      "shortwave_slit_07           ...\n",
      "six_0_ftshg                 ...\n",
      "sj                          ...\n",
      "solarftsspectrometer        ...\n",
      "solohi                      ...\n",
      "soon                        ...\n",
      "sot                         ...\n",
      "sp1                         ...\n",
      "sp2                         ...\n",
      "spectroheliograph           ...\n",
      "spectromagnetograph         ...\n",
      "spice                       ...\n",
      "srs_table                   ...\n",
      "sufi                        ...\n",
      "sumer                       ...\n",
      "sutri                       ...\n",
      "suvi                        ...\n",
      "suvi                        ...\n",
      "swan                        ...\n",
      "swap                        ...\n",
      "swaves                      ...\n",
      "sxt                         ...\n",
      "t1_halpha                   ...\n",
      "tm_1001                     ...\n",
      "tm_1010                     ...\n",
      "trace                       ...\n",
      "udaipur                     ...\n",
      "uvcs                        ...\n",
      "vault_1999                  ...\n",
      "vault_2002                  ...\n",
      "vault_2014                  ...\n",
      "virgo                       ...\n",
      "vsm                         ...\n",
      "wbs                         ...\n",
      "wispr                       ...\n",
      "x123                        ...\n",
      "xrs                         ...\n",
      "xrt                         ...\n"
     ]
    }
   ],
   "source": [
    "print(a.Instrument)"
   ]
  },
  {
   "cell_type": "code",
   "execution_count": 20,
   "metadata": {},
   "outputs": [
    {
     "name": "stderr",
     "output_type": "stream",
     "text": [
      "WARNING: SunpyUserWarning: VSO-C500 :soap:Server : ERROR:  relation \"vso.aia_lev1\" does not exist\n",
      "LINE 1: SELECT count(*) FROM vso.aia_lev1 WHERE 1=1 AND  (wave BETWE...\n",
      "                             ^\n",
      " [sunpy.net.vso.vso]\n",
      "WARNING:sunpy:SunpyUserWarning: VSO-C500 :soap:Server : ERROR:  relation \"vso.aia_lev1\" does not exist\n",
      "LINE 1: SELECT count(*) FROM vso.aia_lev1 WHERE 1=1 AND  (wave BETWE...\n",
      "                             ^\n",
      "\n"
     ]
    },
    {
     "data": {
      "text/html": [
       "Results from 1 Provider:</br></br>2494 Results from the VSOClient:</br><div><i>VSOQueryResponseTable length=2494</i>\n",
       "<table id=\"table140671902733104\" class=\"table-striped table-bordered table-condensed\">\n",
       "<thead><tr><th>Start Time</th><th>End Time</th><th>Source</th><th>Instrument</th><th>Wavelength</th><th>Provider</th><th>Physobs</th><th>Wavetype</th><th>Extent Type</th><th>Size</th></tr></thead>\n",
       "<thead><tr><th></th><th></th><th></th><th></th><th>Angstrom</th><th></th><th></th><th></th><th></th><th>Mibyte</th></tr></thead>\n",
       "<thead><tr><th>Time</th><th>Time</th><th>str3</th><th>str3</th><th>float64[2]</th><th>str8</th><th>str9</th><th>str6</th><th>str8</th><th>float64</th></tr></thead>\n",
       "<tr><td>2023-11-29 18:54:00.000</td><td>2023-11-29 18:54:00.000</td><td>SDO</td><td>AIA</td><td>193.0 .. 193.0</td><td>SDAC_AIA</td><td>intensity</td><td>NARROW</td><td>FULLDISK</td><td>4.01562</td></tr>\n",
       "<tr><td>2023-11-29 18:57:00.000</td><td>2023-11-29 18:57:00.000</td><td>SDO</td><td>AIA</td><td>193.0 .. 193.0</td><td>SDAC_AIA</td><td>intensity</td><td>NARROW</td><td>FULLDISK</td><td>4.01562</td></tr>\n",
       "<tr><td>2023-11-29 19:00:00.000</td><td>2023-11-29 19:00:00.000</td><td>SDO</td><td>AIA</td><td>193.0 .. 193.0</td><td>SDAC_AIA</td><td>intensity</td><td>NARROW</td><td>FULLDISK</td><td>4.01562</td></tr>\n",
       "<tr><td>2023-11-29 19:03:00.000</td><td>2023-11-29 19:03:00.000</td><td>SDO</td><td>AIA</td><td>193.0 .. 193.0</td><td>SDAC_AIA</td><td>intensity</td><td>NARROW</td><td>FULLDISK</td><td>4.01562</td></tr>\n",
       "<tr><td>2023-11-29 19:06:00.000</td><td>2023-11-29 19:06:00.000</td><td>SDO</td><td>AIA</td><td>193.0 .. 193.0</td><td>SDAC_AIA</td><td>intensity</td><td>NARROW</td><td>FULLDISK</td><td>4.01562</td></tr>\n",
       "<tr><td>2023-11-29 19:09:00.000</td><td>2023-11-29 19:09:00.000</td><td>SDO</td><td>AIA</td><td>193.0 .. 193.0</td><td>SDAC_AIA</td><td>intensity</td><td>NARROW</td><td>FULLDISK</td><td>4.01562</td></tr>\n",
       "<tr><td>2023-11-29 19:12:00.000</td><td>2023-11-29 19:12:00.000</td><td>SDO</td><td>AIA</td><td>193.0 .. 193.0</td><td>SDAC_AIA</td><td>intensity</td><td>NARROW</td><td>FULLDISK</td><td>4.01562</td></tr>\n",
       "<tr><td>2023-11-29 19:15:00.000</td><td>2023-11-29 19:15:00.000</td><td>SDO</td><td>AIA</td><td>193.0 .. 193.0</td><td>SDAC_AIA</td><td>intensity</td><td>NARROW</td><td>FULLDISK</td><td>4.01562</td></tr>\n",
       "<tr><td>2023-11-29 19:18:00.000</td><td>2023-11-29 19:18:00.000</td><td>SDO</td><td>AIA</td><td>193.0 .. 193.0</td><td>SDAC_AIA</td><td>intensity</td><td>NARROW</td><td>FULLDISK</td><td>4.01562</td></tr>\n",
       "<tr><td>...</td><td>...</td><td>...</td><td>...</td><td>...</td><td>...</td><td>...</td><td>...</td><td>...</td><td>...</td></tr>\n",
       "<tr><td>2023-12-04 23:06:00.000</td><td>2023-12-04 23:06:00.000</td><td>SDO</td><td>AIA</td><td>193.0 .. 193.0</td><td>SDAC_AIA</td><td>intensity</td><td>NARROW</td><td>FULLDISK</td><td>4.01562</td></tr>\n",
       "<tr><td>2023-12-04 23:09:00.000</td><td>2023-12-04 23:09:00.000</td><td>SDO</td><td>AIA</td><td>193.0 .. 193.0</td><td>SDAC_AIA</td><td>intensity</td><td>NARROW</td><td>FULLDISK</td><td>4.01562</td></tr>\n",
       "<tr><td>2023-12-04 23:12:00.000</td><td>2023-12-04 23:12:00.000</td><td>SDO</td><td>AIA</td><td>193.0 .. 193.0</td><td>SDAC_AIA</td><td>intensity</td><td>NARROW</td><td>FULLDISK</td><td>4.01562</td></tr>\n",
       "<tr><td>2023-12-04 23:15:00.000</td><td>2023-12-04 23:15:00.000</td><td>SDO</td><td>AIA</td><td>193.0 .. 193.0</td><td>SDAC_AIA</td><td>intensity</td><td>NARROW</td><td>FULLDISK</td><td>4.01562</td></tr>\n",
       "<tr><td>2023-12-04 23:18:00.000</td><td>2023-12-04 23:18:00.000</td><td>SDO</td><td>AIA</td><td>193.0 .. 193.0</td><td>SDAC_AIA</td><td>intensity</td><td>NARROW</td><td>FULLDISK</td><td>4.01562</td></tr>\n",
       "<tr><td>2023-12-04 23:21:00.000</td><td>2023-12-04 23:21:00.000</td><td>SDO</td><td>AIA</td><td>193.0 .. 193.0</td><td>SDAC_AIA</td><td>intensity</td><td>NARROW</td><td>FULLDISK</td><td>4.01562</td></tr>\n",
       "<tr><td>2023-12-04 23:24:00.000</td><td>2023-12-04 23:24:00.000</td><td>SDO</td><td>AIA</td><td>193.0 .. 193.0</td><td>SDAC_AIA</td><td>intensity</td><td>NARROW</td><td>FULLDISK</td><td>4.01562</td></tr>\n",
       "<tr><td>2023-12-04 23:27:00.000</td><td>2023-12-04 23:27:00.000</td><td>SDO</td><td>AIA</td><td>193.0 .. 193.0</td><td>SDAC_AIA</td><td>intensity</td><td>NARROW</td><td>FULLDISK</td><td>4.01562</td></tr>\n",
       "<tr><td>2023-12-04 23:30:00.000</td><td>2023-12-04 23:30:00.000</td><td>SDO</td><td>AIA</td><td>193.0 .. 193.0</td><td>SDAC_AIA</td><td>intensity</td><td>NARROW</td><td>FULLDISK</td><td>4.01562</td></tr>\n",
       "<tr><td>2023-12-04 23:33:00.000</td><td>2023-12-04 23:33:00.000</td><td>SDO</td><td>AIA</td><td>193.0 .. 193.0</td><td>SDAC_AIA</td><td>intensity</td><td>NARROW</td><td>FULLDISK</td><td>4.01562</td></tr>\n",
       "</table></div></br>"
      ],
      "text/plain": [
       "<sunpy.net.fido_factory.UnifiedResponse object at 0x7ff0c117ace0>\n",
       "Results from 1 Provider:\n",
       "\n",
       "2494 Results from the VSOClient:\n",
       "Source: http://vso.stanford.edu/cgi-bin/search\n",
       "Total estimated size: 10.501 Gbyte\n",
       "\n",
       "       Start Time               End Time        Source ... Extent Type   Size \n",
       "                                                       ...              Mibyte\n",
       "----------------------- ----------------------- ------ ... ----------- -------\n",
       "2023-11-29 18:54:00.000 2023-11-29 18:54:00.000    SDO ...    FULLDISK 4.01562\n",
       "2023-11-29 18:57:00.000 2023-11-29 18:57:00.000    SDO ...    FULLDISK 4.01562\n",
       "2023-11-29 19:00:00.000 2023-11-29 19:00:00.000    SDO ...    FULLDISK 4.01562\n",
       "2023-11-29 19:03:00.000 2023-11-29 19:03:00.000    SDO ...    FULLDISK 4.01562\n",
       "2023-11-29 19:06:00.000 2023-11-29 19:06:00.000    SDO ...    FULLDISK 4.01562\n",
       "2023-11-29 19:09:00.000 2023-11-29 19:09:00.000    SDO ...    FULLDISK 4.01562\n",
       "2023-11-29 19:12:00.000 2023-11-29 19:12:00.000    SDO ...    FULLDISK 4.01562\n",
       "2023-11-29 19:15:00.000 2023-11-29 19:15:00.000    SDO ...    FULLDISK 4.01562\n",
       "2023-11-29 19:18:00.000 2023-11-29 19:18:00.000    SDO ...    FULLDISK 4.01562\n",
       "2023-11-29 19:21:00.000 2023-11-29 19:21:00.000    SDO ...    FULLDISK 4.01562\n",
       "                    ...                     ...    ... ...         ...     ...\n",
       "2023-12-04 23:06:00.000 2023-12-04 23:06:00.000    SDO ...    FULLDISK 4.01562\n",
       "2023-12-04 23:09:00.000 2023-12-04 23:09:00.000    SDO ...    FULLDISK 4.01562\n",
       "2023-12-04 23:12:00.000 2023-12-04 23:12:00.000    SDO ...    FULLDISK 4.01562\n",
       "2023-12-04 23:15:00.000 2023-12-04 23:15:00.000    SDO ...    FULLDISK 4.01562\n",
       "2023-12-04 23:18:00.000 2023-12-04 23:18:00.000    SDO ...    FULLDISK 4.01562\n",
       "2023-12-04 23:21:00.000 2023-12-04 23:21:00.000    SDO ...    FULLDISK 4.01562\n",
       "2023-12-04 23:24:00.000 2023-12-04 23:24:00.000    SDO ...    FULLDISK 4.01562\n",
       "2023-12-04 23:27:00.000 2023-12-04 23:27:00.000    SDO ...    FULLDISK 4.01562\n",
       "2023-12-04 23:30:00.000 2023-12-04 23:30:00.000    SDO ...    FULLDISK 4.01562\n",
       "2023-12-04 23:33:00.000 2023-12-04 23:33:00.000    SDO ...    FULLDISK 4.01562\n",
       "Length = 2494 rows\n"
      ]
     },
     "execution_count": 20,
     "metadata": {},
     "output_type": "execute_result"
    }
   ],
   "source": [
    "#COPY FOR SDO/AIA\n",
    "result = Fido.search(a.Time('1995/1/1', '2023/12/31'), a.Instrument.aia, a.Wavelength(193*u.AA))\n",
    "result"
   ]
  },
  {
   "cell_type": "code",
   "execution_count": null,
   "metadata": {},
   "outputs": [],
   "source": [
    "result = Fido.search(a.Time('1995/1/1', '2023/12/31'), a.Instrument.hmi, a.Sample(5*u.minute))\n",
    "result"
   ]
  },
  {
   "cell_type": "code",
   "execution_count": 3,
   "metadata": {},
   "outputs": [
    {
     "data": {
      "text/plain": [
       "<sunpy.net.jsoc.attrs.Series(aia.lev1: AIA Level 1) object at 0x7f4926282a40>"
      ]
     },
     "execution_count": 3,
     "metadata": {},
     "output_type": "execute_result"
    }
   ],
   "source": [
    "from sunpy.net import Fido, attrs as a\n",
    "a.jsoc.Series.aia_lev1"
   ]
  },
  {
   "cell_type": "code",
   "execution_count": 6,
   "metadata": {},
   "outputs": [],
   "source": [
    "res = Fido.search(a.Time('2000-01-01T00:00:00', '2023-01-01T01:00:00'),\n",
    "\n",
    "                  a.jsoc.Series('hmi.v_45s')) \n",
    "res"
   ]
  }
 ],
 "metadata": {
  "kernelspec": {
   "display_name": "Python 3 (ipykernel)",
   "language": "python",
   "name": "python3"
  },
  "language_info": {
   "codemirror_mode": {
    "name": "ipython",
    "version": 3
   },
   "file_extension": ".py",
   "mimetype": "text/x-python",
   "name": "python",
   "nbconvert_exporter": "python",
   "pygments_lexer": "ipython3",
   "version": "3.10.12"
  }
 },
 "nbformat": 4,
 "nbformat_minor": 4
}
