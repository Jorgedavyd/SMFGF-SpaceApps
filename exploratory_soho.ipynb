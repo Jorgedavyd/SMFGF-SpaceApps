{
 "cells": [
  {
   "cell_type": "code",
   "execution_count": 2,
   "metadata": {},
   "outputs": [],
   "source": [
    "import pandas as pd\n",
    "import tarfile\n",
    "import zipfile\n",
    "import gzip\n",
    "import io\n",
    "import csv\n",
    "from data.preprocessing import interval_time, CELIAS_Proton_Monitor_data"
   ]
  },
  {
   "cell_type": "code",
   "execution_count": 3,
   "metadata": {},
   "outputs": [
    {
     "name": "stdout",
     "output_type": "stream",
     "text": [
      "Downloading https://soho.nascom.nasa.gov/data/EntireMissionBundles/CELIAS_Proton_Monitor_5min.tar.gz to data/SOHO/CELIAS_Proton_Monitor_5min.tar.gz\n"
     ]
    },
    {
     "name": "stderr",
     "output_type": "stream",
     "text": [
      "100%|██████████| 37024528/37024528 [00:15<00:00, 2363112.91it/s]\n"
     ]
    },
    {
     "ename": "KeyError",
     "evalue": "\"There is no item named '{year}_CELIAS_Proton_Monitor_5min.txt' in the archive\"",
     "output_type": "error",
     "traceback": [
      "\u001b[1;31m---------------------------------------------------------------------------\u001b[0m",
      "\u001b[1;31mKeyError\u001b[0m                                  Traceback (most recent call last)",
      "\u001b[1;32mc:\\Users\\jorge\\Desktop\\SMFGF\\SMFGF-SpaceApps\\exploratory_soho.ipynb Cell 2\u001b[0m line \u001b[0;36m2\n\u001b[0;32m      <a href='vscode-notebook-cell:/c%3A/Users/jorge/Desktop/SMFGF/SMFGF-SpaceApps/exploratory_soho.ipynb#W1sZmlsZQ%3D%3D?line=0'>1</a>\u001b[0m scrap_date \u001b[39m=\u001b[39m interval_time(\u001b[39m'\u001b[39m\u001b[39m20200901\u001b[39m\u001b[39m'\u001b[39m, \u001b[39m'\u001b[39m\u001b[39m20221010\u001b[39m\u001b[39m'\u001b[39m)\n\u001b[1;32m----> <a href='vscode-notebook-cell:/c%3A/Users/jorge/Desktop/SMFGF/SMFGF-SpaceApps/exploratory_soho.ipynb#W1sZmlsZQ%3D%3D?line=1'>2</a>\u001b[0m monitor \u001b[39m=\u001b[39m CELIAS_Proton_Monitor_data(scrap_date)\n",
      "File \u001b[1;32mc:\\Users\\jorge\\Desktop\\SMFGF\\SMFGF-SpaceApps\\data\\preprocessing.py:43\u001b[0m, in \u001b[0;36mCELIAS_Proton_Monitor_data\u001b[1;34m(scrap_date)\u001b[0m\n\u001b[0;32m     41\u001b[0m file \u001b[39m=\u001b[39m \u001b[39mf\u001b[39m\u001b[39m'\u001b[39m\u001b[39mdata/SOHO/\u001b[39m\u001b[39m{\u001b[39;00myear\u001b[39m}\u001b[39;00m\u001b[39m_CELIAS_Proton_Monitor_5min.zip\u001b[39m\u001b[39m'\u001b[39m\n\u001b[0;32m     42\u001b[0m \u001b[39mwith\u001b[39;00m zipfile\u001b[39m.\u001b[39mZipFile(file, \u001b[39m'\u001b[39m\u001b[39mr\u001b[39m\u001b[39m'\u001b[39m) \u001b[39mas\u001b[39;00m archive:\n\u001b[1;32m---> 43\u001b[0m     \u001b[39mwith\u001b[39;00m archive\u001b[39m.\u001b[39;49mopen(\u001b[39m'\u001b[39;49m\u001b[39m{year}\u001b[39;49;00m\u001b[39m_CELIAS_Proton_Monitor_5min.txt\u001b[39;49m\u001b[39m'\u001b[39;49m) \u001b[39mas\u001b[39;00m file:\n\u001b[0;32m     44\u001b[0m         lines \u001b[39m=\u001b[39m file\u001b[39m.\u001b[39mreadlines()\n\u001b[0;32m     45\u001b[0m         \u001b[39mfor\u001b[39;00m line \u001b[39min\u001b[39;00m lines[\u001b[39m29\u001b[39m:]:\n",
      "File \u001b[1;32mc:\\Users\\jorge\\AppData\\Local\\Programs\\Python\\Python311\\Lib\\zipfile.py:1547\u001b[0m, in \u001b[0;36mZipFile.open\u001b[1;34m(self, name, mode, pwd, force_zip64)\u001b[0m\n\u001b[0;32m   1544\u001b[0m     zinfo\u001b[39m.\u001b[39m_compresslevel \u001b[39m=\u001b[39m \u001b[39mself\u001b[39m\u001b[39m.\u001b[39mcompresslevel\n\u001b[0;32m   1545\u001b[0m \u001b[39melse\u001b[39;00m:\n\u001b[0;32m   1546\u001b[0m     \u001b[39m# Get info object for name\u001b[39;00m\n\u001b[1;32m-> 1547\u001b[0m     zinfo \u001b[39m=\u001b[39m \u001b[39mself\u001b[39;49m\u001b[39m.\u001b[39;49mgetinfo(name)\n\u001b[0;32m   1549\u001b[0m \u001b[39mif\u001b[39;00m mode \u001b[39m==\u001b[39m \u001b[39m'\u001b[39m\u001b[39mw\u001b[39m\u001b[39m'\u001b[39m:\n\u001b[0;32m   1550\u001b[0m     \u001b[39mreturn\u001b[39;00m \u001b[39mself\u001b[39m\u001b[39m.\u001b[39m_open_to_write(zinfo, force_zip64\u001b[39m=\u001b[39mforce_zip64)\n",
      "File \u001b[1;32mc:\\Users\\jorge\\AppData\\Local\\Programs\\Python\\Python311\\Lib\\zipfile.py:1476\u001b[0m, in \u001b[0;36mZipFile.getinfo\u001b[1;34m(self, name)\u001b[0m\n\u001b[0;32m   1474\u001b[0m info \u001b[39m=\u001b[39m \u001b[39mself\u001b[39m\u001b[39m.\u001b[39mNameToInfo\u001b[39m.\u001b[39mget(name)\n\u001b[0;32m   1475\u001b[0m \u001b[39mif\u001b[39;00m info \u001b[39mis\u001b[39;00m \u001b[39mNone\u001b[39;00m:\n\u001b[1;32m-> 1476\u001b[0m     \u001b[39mraise\u001b[39;00m \u001b[39mKeyError\u001b[39;00m(\n\u001b[0;32m   1477\u001b[0m         \u001b[39m'\u001b[39m\u001b[39mThere is no item named \u001b[39m\u001b[39m%r\u001b[39;00m\u001b[39m in the archive\u001b[39m\u001b[39m'\u001b[39m \u001b[39m%\u001b[39m name)\n\u001b[0;32m   1479\u001b[0m \u001b[39mreturn\u001b[39;00m info\n",
      "\u001b[1;31mKeyError\u001b[0m: \"There is no item named '{year}_CELIAS_Proton_Monitor_5min.txt' in the archive\""
     ]
    }
   ],
   "source": [
    "scrap_date = interval_time('20200901', '20221010')\n",
    "monitor = CELIAS_Proton_Monitor_data(scrap_date)"
   ]
  },
  {
   "cell_type": "code",
   "execution_count": null,
   "metadata": {},
   "outputs": [],
   "source": [
    "monitor"
   ]
  },
  {
   "cell_type": "markdown",
   "metadata": {},
   "source": [
    "ftp://sohoftp.nascom.nasa.gov/qkl/lasco/quicklook/level_05/\n"
   ]
  }
 ],
 "metadata": {
  "kernelspec": {
   "display_name": "Python 3",
   "language": "python",
   "name": "python3"
  },
  "language_info": {
   "codemirror_mode": {
    "name": "ipython",
    "version": 3
   },
   "file_extension": ".py",
   "mimetype": "text/x-python",
   "name": "python",
   "nbconvert_exporter": "python",
   "pygments_lexer": "ipython3",
   "version": "3.11.6"
  }
 },
 "nbformat": 4,
 "nbformat_minor": 2
}
