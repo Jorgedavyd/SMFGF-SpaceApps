{
 "cells": [
  {
   "cell_type": "code",
   "execution_count": 1,
   "metadata": {},
   "outputs": [],
   "source": [
    "import pandas as pd\n",
    "import tarfile\n",
    "import zipfile\n",
    "import gzip\n",
    "import io\n",
    "import csv\n",
    "from data.preprocessing import SOHO, interval_years"
   ]
  },
  {
   "cell_type": "code",
   "execution_count": 2,
   "metadata": {},
   "outputs": [
    {
     "name": "stdout",
     "output_type": "stream",
     "text": [
      "Downloading https://soho.nascom.nasa.gov/data/EntireMissionBundles/CELIAS_Proton_Monitor_5min.tar.gz to data/SOHO/CELIAS_Proton_Monitor_5min.tar.gz\n"
     ]
    },
    {
     "name": "stderr",
     "output_type": "stream",
     "text": [
      "100%|██████████| 37024528/37024528 [00:25<00:00, 1465235.22it/s]\n"
     ]
    }
   ],
   "source": [
    "scrap_date = interval_years('20200901', '20221010')\n",
    "satellite = SOHO()\n",
    "monitor = satellite.CELIAS_Proton_Monitor_data(scrap_date)"
   ]
  },
  {
   "cell_type": "code",
   "execution_count": 4,
   "metadata": {},
   "outputs": [],
   "source": [
    "df = monitor"
   ]
  },
  {
   "cell_type": "code",
   "execution_count": 5,
   "metadata": {},
   "outputs": [
    {
     "data": {
      "text/html": [
       "<div>\n",
       "<style scoped>\n",
       "    .dataframe tbody tr th:only-of-type {\n",
       "        vertical-align: middle;\n",
       "    }\n",
       "\n",
       "    .dataframe tbody tr th {\n",
       "        vertical-align: top;\n",
       "    }\n",
       "\n",
       "    .dataframe thead th {\n",
       "        text-align: right;\n",
       "    }\n",
       "</style>\n",
       "<table border=\"1\" class=\"dataframe\">\n",
       "  <thead>\n",
       "    <tr style=\"text-align: right;\">\n",
       "      <th></th>\n",
       "      <th>YY</th>\n",
       "      <th>MON</th>\n",
       "      <th>DY</th>\n",
       "      <th>DOY:HH:MM:SS</th>\n",
       "      <th>SPEED</th>\n",
       "      <th>Np</th>\n",
       "      <th>Vth</th>\n",
       "      <th>N/S</th>\n",
       "      <th>V_He</th>\n",
       "    </tr>\n",
       "  </thead>\n",
       "  <tbody>\n",
       "    <tr>\n",
       "      <th>0</th>\n",
       "      <td>22</td>\n",
       "      <td>Jan</td>\n",
       "      <td>1</td>\n",
       "      <td>001:01:46:58</td>\n",
       "      <td>474</td>\n",
       "      <td>2.56</td>\n",
       "      <td>37</td>\n",
       "      <td>-4.5</td>\n",
       "      <td>489</td>\n",
       "    </tr>\n",
       "    <tr>\n",
       "      <th>1</th>\n",
       "      <td>22</td>\n",
       "      <td>Jan</td>\n",
       "      <td>1</td>\n",
       "      <td>001:01:52:00</td>\n",
       "      <td>458</td>\n",
       "      <td>1.83</td>\n",
       "      <td>33</td>\n",
       "      <td>-2.4</td>\n",
       "      <td>471</td>\n",
       "    </tr>\n",
       "    <tr>\n",
       "      <th>2</th>\n",
       "      <td>22</td>\n",
       "      <td>Jan</td>\n",
       "      <td>1</td>\n",
       "      <td>001:01:57:03</td>\n",
       "      <td>456</td>\n",
       "      <td>1.93</td>\n",
       "      <td>33</td>\n",
       "      <td>-3.4</td>\n",
       "      <td>468</td>\n",
       "    </tr>\n",
       "    <tr>\n",
       "      <th>3</th>\n",
       "      <td>22</td>\n",
       "      <td>Jan</td>\n",
       "      <td>1</td>\n",
       "      <td>001:02:02:03</td>\n",
       "      <td>457</td>\n",
       "      <td>1.93</td>\n",
       "      <td>32</td>\n",
       "      <td>-4.4</td>\n",
       "      <td>468</td>\n",
       "    </tr>\n",
       "    <tr>\n",
       "      <th>4</th>\n",
       "      <td>22</td>\n",
       "      <td>Jan</td>\n",
       "      <td>1</td>\n",
       "      <td>001:02:07:06</td>\n",
       "      <td>459</td>\n",
       "      <td>1.86</td>\n",
       "      <td>38</td>\n",
       "      <td>-2.6</td>\n",
       "      <td>476</td>\n",
       "    </tr>\n",
       "    <tr>\n",
       "      <th>...</th>\n",
       "      <td>...</td>\n",
       "      <td>...</td>\n",
       "      <td>...</td>\n",
       "      <td>...</td>\n",
       "      <td>...</td>\n",
       "      <td>...</td>\n",
       "      <td>...</td>\n",
       "      <td>...</td>\n",
       "      <td>...</td>\n",
       "    </tr>\n",
       "    <tr>\n",
       "      <th>275115</th>\n",
       "      <td>20</td>\n",
       "      <td>Dec</td>\n",
       "      <td>31</td>\n",
       "      <td>366:23:35:08</td>\n",
       "      <td>404</td>\n",
       "      <td>2.53</td>\n",
       "      <td>28</td>\n",
       "      <td>-0.1</td>\n",
       "      <td>413</td>\n",
       "    </tr>\n",
       "    <tr>\n",
       "      <th>275116</th>\n",
       "      <td>20</td>\n",
       "      <td>Dec</td>\n",
       "      <td>31</td>\n",
       "      <td>366:23:40:12</td>\n",
       "      <td>397</td>\n",
       "      <td>2.68</td>\n",
       "      <td>26</td>\n",
       "      <td>-0.3</td>\n",
       "      <td>404</td>\n",
       "    </tr>\n",
       "    <tr>\n",
       "      <th>275117</th>\n",
       "      <td>20</td>\n",
       "      <td>Dec</td>\n",
       "      <td>31</td>\n",
       "      <td>366:23:45:13</td>\n",
       "      <td>405</td>\n",
       "      <td>1.95</td>\n",
       "      <td>31</td>\n",
       "      <td>-0.7</td>\n",
       "      <td>416</td>\n",
       "    </tr>\n",
       "    <tr>\n",
       "      <th>275118</th>\n",
       "      <td>20</td>\n",
       "      <td>Dec</td>\n",
       "      <td>31</td>\n",
       "      <td>366:23:50:15</td>\n",
       "      <td>398</td>\n",
       "      <td>2.28</td>\n",
       "      <td>30</td>\n",
       "      <td>-0.6</td>\n",
       "      <td>408</td>\n",
       "    </tr>\n",
       "    <tr>\n",
       "      <th>275119</th>\n",
       "      <td>20</td>\n",
       "      <td>Dec</td>\n",
       "      <td>31</td>\n",
       "      <td>366:23:55:21</td>\n",
       "      <td>392</td>\n",
       "      <td>2.67</td>\n",
       "      <td>28</td>\n",
       "      <td>-0.4</td>\n",
       "      <td>400</td>\n",
       "    </tr>\n",
       "  </tbody>\n",
       "</table>\n",
       "<p>275120 rows × 9 columns</p>\n",
       "</div>"
      ],
      "text/plain": [
       "        YY  MON  DY  DOY:HH:MM:SS  SPEED    Np  Vth  N/S  V_He\n",
       "0       22  Jan   1  001:01:46:58    474  2.56   37 -4.5   489\n",
       "1       22  Jan   1  001:01:52:00    458  1.83   33 -2.4   471\n",
       "2       22  Jan   1  001:01:57:03    456  1.93   33 -3.4   468\n",
       "3       22  Jan   1  001:02:02:03    457  1.93   32 -4.4   468\n",
       "4       22  Jan   1  001:02:07:06    459  1.86   38 -2.6   476\n",
       "...     ..  ...  ..           ...    ...   ...  ...  ...   ...\n",
       "275115  20  Dec  31  366:23:35:08    404  2.53   28 -0.1   413\n",
       "275116  20  Dec  31  366:23:40:12    397  2.68   26 -0.3   404\n",
       "275117  20  Dec  31  366:23:45:13    405  1.95   31 -0.7   416\n",
       "275118  20  Dec  31  366:23:50:15    398  2.28   30 -0.6   408\n",
       "275119  20  Dec  31  366:23:55:21    392  2.67   28 -0.4   400\n",
       "\n",
       "[275120 rows x 9 columns]"
      ]
     },
     "execution_count": 5,
     "metadata": {},
     "output_type": "execute_result"
    }
   ],
   "source": [
    "df"
   ]
  },
  {
   "cell_type": "code",
   "execution_count": 13,
   "metadata": {},
   "outputs": [
    {
     "data": {
      "text/plain": [
       "['001', '01', '46', '58']"
      ]
     },
     "execution_count": 13,
     "metadata": {},
     "output_type": "execute_result"
    }
   ],
   "source": [
    "df['DOY:HH:MM:SS'][0].split(':')"
   ]
  },
  {
   "cell_type": "code",
   "execution_count": 15,
   "metadata": {},
   "outputs": [],
   "source": [
    "\n",
    "# Split the \"DOY:HH:MM:SS\" column into separate columns\n",
    "df[['DOY', 'HH', 'MM', 'SS']] = df['DOY:HH:MM:SS'].str.split(':', expand=True)\n",
    "\n",
    "# Create a 'datetime' column by combining the separate columns\n",
    "df['datetime'] = pd.to_datetime(\n",
    "    '20' + df['YY'].apply(str) + df['MON'] + df['DY'].apply(str) + ' ' +\n",
    "    df['DOY'] + ' ' + df['HH'] + ':' +\n",
    "    df['MM'] + ':' + df['SS'],\n",
    "    format='%Y%b%d %j %H:%M:%S')"
   ]
  },
  {
   "cell_type": "code",
   "execution_count": 22,
   "metadata": {},
   "outputs": [
    {
     "ename": "TypeError",
     "evalue": "DataFrame.set_index() got an unexpected keyword argument 'axis'",
     "output_type": "error",
     "traceback": [
      "\u001b[1;31m---------------------------------------------------------------------------\u001b[0m",
      "\u001b[1;31mTypeError\u001b[0m                                 Traceback (most recent call last)",
      "\u001b[1;32mc:\\Users\\jorge\\Desktop\\SMFGF\\SMFGF-SpaceApps\\exploratory_soho.ipynb Cell 7\u001b[0m line \u001b[0;36m1\n\u001b[1;32m----> <a href='vscode-notebook-cell:/c%3A/Users/jorge/Desktop/SMFGF/SMFGF-SpaceApps/exploratory_soho.ipynb#X13sZmlsZQ%3D%3D?line=0'>1</a>\u001b[0m df\u001b[39m.\u001b[39;49mset_index(\u001b[39m'\u001b[39;49m\u001b[39mdatetime\u001b[39;49m\u001b[39m'\u001b[39;49m, axis \u001b[39m=\u001b[39;49m \u001b[39m1\u001b[39;49m)\u001b[39m.\u001b[39mdrop([\u001b[39m'\u001b[39m\u001b[39mYY\u001b[39m\u001b[39m'\u001b[39m, \u001b[39m'\u001b[39m\u001b[39mMON\u001b[39m\u001b[39m'\u001b[39m, \u001b[39m'\u001b[39m\u001b[39mDY\u001b[39m\u001b[39m'\u001b[39m, \u001b[39m'\u001b[39m\u001b[39mDOY\u001b[39m\u001b[39m'\u001b[39m, \u001b[39m'\u001b[39m\u001b[39mDOY:HH:MM:SS\u001b[39m\u001b[39m'\u001b[39m, \u001b[39m'\u001b[39m\u001b[39mHH\u001b[39m\u001b[39m'\u001b[39m, \u001b[39m'\u001b[39m\u001b[39mMM\u001b[39m\u001b[39m'\u001b[39m, \u001b[39m'\u001b[39m\u001b[39mSS\u001b[39m\u001b[39m'\u001b[39m, \u001b[39m'\u001b[39m\u001b[39mdatetime\u001b[39m\u001b[39m'\u001b[39m], axis \u001b[39m=\u001b[39m\u001b[39m1\u001b[39m)\n",
      "File \u001b[1;32mc:\\Users\\jorge\\AppData\\Local\\Programs\\Python\\Python311\\Lib\\site-packages\\pandas\\util\\_decorators.py:331\u001b[0m, in \u001b[0;36mdeprecate_nonkeyword_arguments.<locals>.decorate.<locals>.wrapper\u001b[1;34m(*args, **kwargs)\u001b[0m\n\u001b[0;32m    325\u001b[0m \u001b[39mif\u001b[39;00m \u001b[39mlen\u001b[39m(args) \u001b[39m>\u001b[39m num_allow_args:\n\u001b[0;32m    326\u001b[0m     warnings\u001b[39m.\u001b[39mwarn(\n\u001b[0;32m    327\u001b[0m         msg\u001b[39m.\u001b[39mformat(arguments\u001b[39m=\u001b[39m_format_argument_list(allow_args)),\n\u001b[0;32m    328\u001b[0m         \u001b[39mFutureWarning\u001b[39;00m,\n\u001b[0;32m    329\u001b[0m         stacklevel\u001b[39m=\u001b[39mfind_stack_level(),\n\u001b[0;32m    330\u001b[0m     )\n\u001b[1;32m--> 331\u001b[0m \u001b[39mreturn\u001b[39;00m func(\u001b[39m*\u001b[39;49margs, \u001b[39m*\u001b[39;49m\u001b[39m*\u001b[39;49mkwargs)\n",
      "\u001b[1;31mTypeError\u001b[0m: DataFrame.set_index() got an unexpected keyword argument 'axis'"
     ]
    }
   ],
   "source": [
    "df.set_index('datetime', axis = 1).drop(['YY', 'MON', 'DY', 'DOY', 'DOY:HH:MM:SS', 'HH', 'MM', 'SS', 'datetime'], axis =1)"
   ]
  },
  {
   "cell_type": "markdown",
   "metadata": {},
   "source": [
    "ftp://sohoftp.nascom.nasa.gov/qkl/lasco/quicklook/level_05/\n"
   ]
  },
  {
   "cell_type": "code",
   "execution_count": 1,
   "metadata": {},
   "outputs": [
    {
     "ename": "TypeError",
     "evalue": "list indices must be integers or slices, not tuple",
     "output_type": "error",
     "traceback": [
      "\u001b[1;31m---------------------------------------------------------------------------\u001b[0m",
      "\u001b[1;31mTypeError\u001b[0m                                 Traceback (most recent call last)",
      "\u001b[1;32mc:\\Users\\jorge\\Desktop\\SMFGF\\SMFGF-SpaceApps\\exploratory_soho.ipynb Cell 9\u001b[0m line \u001b[0;36m2\n\u001b[0;32m      <a href='vscode-notebook-cell:/c%3A/Users/jorge/Desktop/SMFGF/SMFGF-SpaceApps/exploratory_soho.ipynb#X11sZmlsZQ%3D%3D?line=0'>1</a>\u001b[0m lista \u001b[39m=\u001b[39m [\u001b[39m1\u001b[39m,\u001b[39m2\u001b[39m,\u001b[39m3\u001b[39m,\u001b[39m4\u001b[39m,\u001b[39m5\u001b[39m,\u001b[39m6\u001b[39m]\n\u001b[1;32m----> <a href='vscode-notebook-cell:/c%3A/Users/jorge/Desktop/SMFGF/SMFGF-SpaceApps/exploratory_soho.ipynb#X11sZmlsZQ%3D%3D?line=1'>2</a>\u001b[0m lista[\u001b[39m1\u001b[39;49m,\u001b[39m2\u001b[39;49m]\n",
      "\u001b[1;31mTypeError\u001b[0m: list indices must be integers or slices, not tuple"
     ]
    }
   ],
   "source": [
    "lista = [1,2,3,4,5,6]\n",
    "lista[1,2]"
   ]
  }
 ],
 "metadata": {
  "kernelspec": {
   "display_name": "Python 3 (ipykernel)",
   "language": "python",
   "name": "python3"
  },
  "language_info": {
   "codemirror_mode": {
    "name": "ipython",
    "version": 3
   },
   "file_extension": ".py",
   "mimetype": "text/x-python",
   "name": "python",
   "nbconvert_exporter": "python",
   "pygments_lexer": "ipython3",
   "version": "3.11.6"
  }
 },
 "nbformat": 4,
 "nbformat_minor": 4
}
