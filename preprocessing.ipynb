{
 "cells": [
  {
   "cell_type": "code",
   "execution_count": 4,
   "metadata": {},
   "outputs": [
    {
     "ename": "gaierror",
     "evalue": "[Errno -2] Name or service not known",
     "output_type": "error",
     "traceback": [
      "\u001b[0;31m---------------------------------------------------------------------------\u001b[0m",
      "\u001b[0;31mgaierror\u001b[0m                                  Traceback (most recent call last)",
      "\u001b[1;32m/home/jenci/Desktop/SMFGF-SpaceApps/preprocessing.ipynb Cell 1\u001b[0m line \u001b[0;36m3\n\u001b[1;32m      <a href='vscode-notebook-cell:/home/jenci/Desktop/SMFGF-SpaceApps/preprocessing.ipynb#X16sZmlsZQ%3D%3D?line=0'>1</a>\u001b[0m \u001b[39mfrom\u001b[39;00m \u001b[39mftplib\u001b[39;00m \u001b[39mimport\u001b[39;00m FTP\n\u001b[0;32m----> <a href='vscode-notebook-cell:/home/jenci/Desktop/SMFGF-SpaceApps/preprocessing.ipynb#X16sZmlsZQ%3D%3D?line=2'>3</a>\u001b[0m ftp \u001b[39m=\u001b[39m FTP(\u001b[39m'\u001b[39;49m\u001b[39mftp://mussel.srl.caltech.edu/pub/ace/level2\u001b[39;49m\u001b[39m'\u001b[39;49m)\n\u001b[1;32m      <a href='vscode-notebook-cell:/home/jenci/Desktop/SMFGF-SpaceApps/preprocessing.ipynb#X16sZmlsZQ%3D%3D?line=3'>4</a>\u001b[0m ftp\u001b[39m.\u001b[39mlogin()\n\u001b[1;32m      <a href='vscode-notebook-cell:/home/jenci/Desktop/SMFGF-SpaceApps/preprocessing.ipynb#X16sZmlsZQ%3D%3D?line=5'>6</a>\u001b[0m files \u001b[39m=\u001b[39m ftp\u001b[39m.\u001b[39mnlst()\n",
      "File \u001b[0;32m/usr/lib/python3.10/ftplib.py:121\u001b[0m, in \u001b[0;36mFTP.__init__\u001b[0;34m(self, host, user, passwd, acct, timeout, source_address, encoding)\u001b[0m\n\u001b[1;32m    119\u001b[0m \u001b[39mself\u001b[39m\u001b[39m.\u001b[39mtimeout \u001b[39m=\u001b[39m timeout\n\u001b[1;32m    120\u001b[0m \u001b[39mif\u001b[39;00m host:\n\u001b[0;32m--> 121\u001b[0m     \u001b[39mself\u001b[39;49m\u001b[39m.\u001b[39;49mconnect(host)\n\u001b[1;32m    122\u001b[0m     \u001b[39mif\u001b[39;00m user:\n\u001b[1;32m    123\u001b[0m         \u001b[39mself\u001b[39m\u001b[39m.\u001b[39mlogin(user, passwd, acct)\n",
      "File \u001b[0;32m/usr/lib/python3.10/ftplib.py:158\u001b[0m, in \u001b[0;36mFTP.connect\u001b[0;34m(self, host, port, timeout, source_address)\u001b[0m\n\u001b[1;32m    156\u001b[0m     \u001b[39mself\u001b[39m\u001b[39m.\u001b[39msource_address \u001b[39m=\u001b[39m source_address\n\u001b[1;32m    157\u001b[0m sys\u001b[39m.\u001b[39maudit(\u001b[39m\"\u001b[39m\u001b[39mftplib.connect\u001b[39m\u001b[39m\"\u001b[39m, \u001b[39mself\u001b[39m, \u001b[39mself\u001b[39m\u001b[39m.\u001b[39mhost, \u001b[39mself\u001b[39m\u001b[39m.\u001b[39mport)\n\u001b[0;32m--> 158\u001b[0m \u001b[39mself\u001b[39m\u001b[39m.\u001b[39msock \u001b[39m=\u001b[39m socket\u001b[39m.\u001b[39;49mcreate_connection((\u001b[39mself\u001b[39;49m\u001b[39m.\u001b[39;49mhost, \u001b[39mself\u001b[39;49m\u001b[39m.\u001b[39;49mport), \u001b[39mself\u001b[39;49m\u001b[39m.\u001b[39;49mtimeout,\n\u001b[1;32m    159\u001b[0m                                      source_address\u001b[39m=\u001b[39;49m\u001b[39mself\u001b[39;49m\u001b[39m.\u001b[39;49msource_address)\n\u001b[1;32m    160\u001b[0m \u001b[39mself\u001b[39m\u001b[39m.\u001b[39maf \u001b[39m=\u001b[39m \u001b[39mself\u001b[39m\u001b[39m.\u001b[39msock\u001b[39m.\u001b[39mfamily\n\u001b[1;32m    161\u001b[0m \u001b[39mself\u001b[39m\u001b[39m.\u001b[39mfile \u001b[39m=\u001b[39m \u001b[39mself\u001b[39m\u001b[39m.\u001b[39msock\u001b[39m.\u001b[39mmakefile(\u001b[39m'\u001b[39m\u001b[39mr\u001b[39m\u001b[39m'\u001b[39m, encoding\u001b[39m=\u001b[39m\u001b[39mself\u001b[39m\u001b[39m.\u001b[39mencoding)\n",
      "File \u001b[0;32m/usr/lib/python3.10/socket.py:824\u001b[0m, in \u001b[0;36mcreate_connection\u001b[0;34m(address, timeout, source_address)\u001b[0m\n\u001b[1;32m    822\u001b[0m host, port \u001b[39m=\u001b[39m address\n\u001b[1;32m    823\u001b[0m err \u001b[39m=\u001b[39m \u001b[39mNone\u001b[39;00m\n\u001b[0;32m--> 824\u001b[0m \u001b[39mfor\u001b[39;00m res \u001b[39min\u001b[39;00m getaddrinfo(host, port, \u001b[39m0\u001b[39;49m, SOCK_STREAM):\n\u001b[1;32m    825\u001b[0m     af, socktype, proto, canonname, sa \u001b[39m=\u001b[39m res\n\u001b[1;32m    826\u001b[0m     sock \u001b[39m=\u001b[39m \u001b[39mNone\u001b[39;00m\n",
      "File \u001b[0;32m/usr/lib/python3.10/socket.py:955\u001b[0m, in \u001b[0;36mgetaddrinfo\u001b[0;34m(host, port, family, type, proto, flags)\u001b[0m\n\u001b[1;32m    952\u001b[0m \u001b[39m# We override this function since we want to translate the numeric family\u001b[39;00m\n\u001b[1;32m    953\u001b[0m \u001b[39m# and socket type values to enum constants.\u001b[39;00m\n\u001b[1;32m    954\u001b[0m addrlist \u001b[39m=\u001b[39m []\n\u001b[0;32m--> 955\u001b[0m \u001b[39mfor\u001b[39;00m res \u001b[39min\u001b[39;00m _socket\u001b[39m.\u001b[39;49mgetaddrinfo(host, port, family, \u001b[39mtype\u001b[39;49m, proto, flags):\n\u001b[1;32m    956\u001b[0m     af, socktype, proto, canonname, sa \u001b[39m=\u001b[39m res\n\u001b[1;32m    957\u001b[0m     addrlist\u001b[39m.\u001b[39mappend((_intenum_converter(af, AddressFamily),\n\u001b[1;32m    958\u001b[0m                      _intenum_converter(socktype, SocketKind),\n\u001b[1;32m    959\u001b[0m                      proto, canonname, sa))\n",
      "\u001b[0;31mgaierror\u001b[0m: [Errno -2] Name or service not known"
     ]
    }
   ],
   "source": [
    "from ftplib import FTP\n",
    "\n",
    "ftp = FTP('ftp://mussel.srl.caltech.edu/pub/ace/level2')\n",
    "ftp.login()\n",
    "\n",
    "files = ftp.nlst()\n",
    "print(\"Files in the current directory:\")\n",
    "for file in files:\n",
    "    print(file)"
   ]
  },
  {
   "cell_type": "code",
   "execution_count": 2,
   "metadata": {},
   "outputs": [
    {
     "name": "stdout",
     "output_type": "stream",
     "text": [
      "Downloading https://izw1.caltech.edu/ACE/ASC/DATA/level2/epam/epam_data_5min_year2023.hdf to ./epam_2023\n"
     ]
    },
    {
     "name": "stderr",
     "output_type": "stream",
     "text": [
      "100%|██████████| 30964121/30964121 [00:05<00:00, 5296306.78it/s]\n"
     ]
    }
   ],
   "source": [
    "from torchvision.datasets.utils import download_url\n",
    "\n",
    "download_url('https://izw1.caltech.edu/ACE/ASC/DATA/level2/epam/epam_data_5min_year2023.hdf', '.', 'epam_2023')"
   ]
  },
  {
   "cell_type": "code",
   "execution_count": 3,
   "metadata": {},
   "outputs": [
    {
     "ename": "OSError",
     "evalue": "Unable to synchronously open file (file signature not found)",
     "output_type": "error",
     "traceback": [
      "\u001b[0;31m---------------------------------------------------------------------------\u001b[0m",
      "\u001b[0;31mOSError\u001b[0m                                   Traceback (most recent call last)",
      "\u001b[1;32m/home/jenci/Desktop/SMFGF-SpaceApps/preprocessing.ipynb Cell 3\u001b[0m line \u001b[0;36m5\n\u001b[1;32m      <a href='vscode-notebook-cell:/home/jenci/Desktop/SMFGF-SpaceApps/preprocessing.ipynb#X21sZmlsZQ%3D%3D?line=2'>3</a>\u001b[0m \u001b[39m# Open the HDF5 file\u001b[39;00m\n\u001b[1;32m      <a href='vscode-notebook-cell:/home/jenci/Desktop/SMFGF-SpaceApps/preprocessing.ipynb#X21sZmlsZQ%3D%3D?line=3'>4</a>\u001b[0m file_path \u001b[39m=\u001b[39m \u001b[39m'\u001b[39m\u001b[39mepam_2023.hdf\u001b[39m\u001b[39m'\u001b[39m  \u001b[39m# Replace with your HDF file path\u001b[39;00m\n\u001b[0;32m----> <a href='vscode-notebook-cell:/home/jenci/Desktop/SMFGF-SpaceApps/preprocessing.ipynb#X21sZmlsZQ%3D%3D?line=4'>5</a>\u001b[0m hdf_file \u001b[39m=\u001b[39m h5py\u001b[39m.\u001b[39;49mFile(file_path, \u001b[39m'\u001b[39;49m\u001b[39mr\u001b[39;49m\u001b[39m'\u001b[39;49m)\n\u001b[1;32m      <a href='vscode-notebook-cell:/home/jenci/Desktop/SMFGF-SpaceApps/preprocessing.ipynb#X21sZmlsZQ%3D%3D?line=6'>7</a>\u001b[0m \u001b[39m# List all groups and datasets in the file\u001b[39;00m\n\u001b[1;32m      <a href='vscode-notebook-cell:/home/jenci/Desktop/SMFGF-SpaceApps/preprocessing.ipynb#X21sZmlsZQ%3D%3D?line=7'>8</a>\u001b[0m \u001b[39mprint\u001b[39m(\u001b[39m\"\u001b[39m\u001b[39mGroups and Datasets in the HDF file:\u001b[39m\u001b[39m\"\u001b[39m)\n",
      "File \u001b[0;32m~/.local/lib/python3.10/site-packages/h5py/_hl/files.py:562\u001b[0m, in \u001b[0;36mFile.__init__\u001b[0;34m(self, name, mode, driver, libver, userblock_size, swmr, rdcc_nslots, rdcc_nbytes, rdcc_w0, track_order, fs_strategy, fs_persist, fs_threshold, fs_page_size, page_buf_size, min_meta_keep, min_raw_keep, locking, alignment_threshold, alignment_interval, meta_block_size, **kwds)\u001b[0m\n\u001b[1;32m    553\u001b[0m     fapl \u001b[39m=\u001b[39m make_fapl(driver, libver, rdcc_nslots, rdcc_nbytes, rdcc_w0,\n\u001b[1;32m    554\u001b[0m                      locking, page_buf_size, min_meta_keep, min_raw_keep,\n\u001b[1;32m    555\u001b[0m                      alignment_threshold\u001b[39m=\u001b[39malignment_threshold,\n\u001b[1;32m    556\u001b[0m                      alignment_interval\u001b[39m=\u001b[39malignment_interval,\n\u001b[1;32m    557\u001b[0m                      meta_block_size\u001b[39m=\u001b[39mmeta_block_size,\n\u001b[1;32m    558\u001b[0m                      \u001b[39m*\u001b[39m\u001b[39m*\u001b[39mkwds)\n\u001b[1;32m    559\u001b[0m     fcpl \u001b[39m=\u001b[39m make_fcpl(track_order\u001b[39m=\u001b[39mtrack_order, fs_strategy\u001b[39m=\u001b[39mfs_strategy,\n\u001b[1;32m    560\u001b[0m                      fs_persist\u001b[39m=\u001b[39mfs_persist, fs_threshold\u001b[39m=\u001b[39mfs_threshold,\n\u001b[1;32m    561\u001b[0m                      fs_page_size\u001b[39m=\u001b[39mfs_page_size)\n\u001b[0;32m--> 562\u001b[0m     fid \u001b[39m=\u001b[39m make_fid(name, mode, userblock_size, fapl, fcpl, swmr\u001b[39m=\u001b[39;49mswmr)\n\u001b[1;32m    564\u001b[0m \u001b[39mif\u001b[39;00m \u001b[39misinstance\u001b[39m(libver, \u001b[39mtuple\u001b[39m):\n\u001b[1;32m    565\u001b[0m     \u001b[39mself\u001b[39m\u001b[39m.\u001b[39m_libver \u001b[39m=\u001b[39m libver\n",
      "File \u001b[0;32m~/.local/lib/python3.10/site-packages/h5py/_hl/files.py:235\u001b[0m, in \u001b[0;36mmake_fid\u001b[0;34m(name, mode, userblock_size, fapl, fcpl, swmr)\u001b[0m\n\u001b[1;32m    233\u001b[0m     \u001b[39mif\u001b[39;00m swmr \u001b[39mand\u001b[39;00m swmr_support:\n\u001b[1;32m    234\u001b[0m         flags \u001b[39m|\u001b[39m\u001b[39m=\u001b[39m h5f\u001b[39m.\u001b[39mACC_SWMR_READ\n\u001b[0;32m--> 235\u001b[0m     fid \u001b[39m=\u001b[39m h5f\u001b[39m.\u001b[39;49mopen(name, flags, fapl\u001b[39m=\u001b[39;49mfapl)\n\u001b[1;32m    236\u001b[0m \u001b[39melif\u001b[39;00m mode \u001b[39m==\u001b[39m \u001b[39m'\u001b[39m\u001b[39mr+\u001b[39m\u001b[39m'\u001b[39m:\n\u001b[1;32m    237\u001b[0m     fid \u001b[39m=\u001b[39m h5f\u001b[39m.\u001b[39mopen(name, h5f\u001b[39m.\u001b[39mACC_RDWR, fapl\u001b[39m=\u001b[39mfapl)\n",
      "File \u001b[0;32mh5py/_objects.pyx:54\u001b[0m, in \u001b[0;36mh5py._objects.with_phil.wrapper\u001b[0;34m()\u001b[0m\n",
      "File \u001b[0;32mh5py/_objects.pyx:55\u001b[0m, in \u001b[0;36mh5py._objects.with_phil.wrapper\u001b[0;34m()\u001b[0m\n",
      "File \u001b[0;32mh5py/h5f.pyx:102\u001b[0m, in \u001b[0;36mh5py.h5f.open\u001b[0;34m()\u001b[0m\n",
      "\u001b[0;31mOSError\u001b[0m: Unable to synchronously open file (file signature not found)"
     ]
    }
   ],
   "source": [
    "from pyhdf import SD\n",
    " \n",
    "# HDF file and SDS names\n",
    "FILE_NAME = \"epam_2023.hdf\"\n",
    "SDS_NAME  = \"Optical_Depth_Land_And_Ocean\"\n",
    " \n",
    "# open the hdf file\n",
    "hdf = SD.SD(FILE_NAME)\n",
    " \n",
    "# select and read the sds data\n",
    "sds = hdf.select(SDS_NAME)\n",
    "data = sds.get()\n",
    " \n",
    "# get dataset dimensions\n",
    "nrows, ncols = data.shape  # data.shape: (3712, 3712) in the SEVIRI AER-OC example, 203\n",
    "print data.shape # data.shape: (3712, 3712) in the SEVIRI AER-OC example, (203, 135)\n",
    " \n",
    "i=200 # row index\n",
    "j=125 # col index\n",
    "print data[200,125]\n",
    " \n",
    "# Terminate access to the data set\n",
    "sds.endaccess()\n",
    " \n",
    "# Terminate access to the SD interface and close the file\n",
    "hdf.end()"
   ]
  },
  {
   "cell_type": "code",
   "execution_count": 3,
   "metadata": {},
   "outputs": [
    {
     "name": "stdout",
     "output_type": "stream",
     "text": [
      "Downloading https://cdaweb.gsfc.nasa.gov/sp_phys/data/ace/sis/level_2_cdaweb/sis_h1/2022/ac_h1_sis_20220112_v06.cdf to ./hola.cdf\n"
     ]
    },
    {
     "name": "stderr",
     "output_type": "stream",
     "text": [
      "100%|██████████| 106025/106025 [00:00<00:00, 160843.74it/s]\n"
     ]
    }
   ],
   "source": [
    "from torchvision.datasets.utils import download_url\n",
    "download_url('https://cdaweb.gsfc.nasa.gov/sp_phys/data/ace/sis/level_2_cdaweb/sis_h1/2022/ac_h1_sis_20220112_v06.cdf', './', 'hola.cdf')"
   ]
  },
  {
   "cell_type": "code",
   "execution_count": 1,
   "metadata": {},
   "outputs": [
    {
     "name": "stdout",
     "output_type": "stream",
     "text": [
      "https://cdaweb.gsfc.nasa.gov/sp_phys/data/ace/sis/level_2_cdaweb/sis_h1/1997/ac_h1_sis_19970829_v04.cdf\n",
      "Downloading https://cdaweb.gsfc.nasa.gov/sp_phys/data/ace/sis/level_2_cdaweb/sis_h1/1997/ac_h1_sis_19970829_v04.cdf to ./data/ACE/SIS/temp/19970829.cdf\n"
     ]
    },
    {
     "name": "stderr",
     "output_type": "stream",
     "text": [
      "100%|██████████| 392051/392051 [00:00<00:00, 455082.02it/s]\n"
     ]
    },
    {
     "ename": "KeyError",
     "evalue": "'Electron_hi: NO_SUCH_VAR: Named variable not found in this CDF.'",
     "output_type": "error",
     "traceback": [
      "\u001b[0;31m---------------------------------------------------------------------------\u001b[0m",
      "\u001b[0;31mCDFError\u001b[0m                                  Traceback (most recent call last)",
      "File \u001b[0;32m~/.local/lib/python3.10/site-packages/spacepy/pycdf/__init__.py:1839\u001b[0m, in \u001b[0;36mCDF.__getitem__\u001b[0;34m(self, name)\u001b[0m\n\u001b[1;32m   1838\u001b[0m \u001b[39mtry\u001b[39;00m:\n\u001b[0;32m-> 1839\u001b[0m     \u001b[39mreturn\u001b[39;00m Var(\u001b[39mself\u001b[39;49m, name)\n\u001b[1;32m   1840\u001b[0m \u001b[39mexcept\u001b[39;00m CDFException \u001b[39mas\u001b[39;00m e:\n",
      "File \u001b[0;32m~/.local/lib/python3.10/site-packages/spacepy/pycdf/__init__.py:3130\u001b[0m, in \u001b[0;36mVar.__init__\u001b[0;34m(self, cdf_file, var_name, *args)\u001b[0m\n\u001b[1;32m   3129\u001b[0m \u001b[39mif\u001b[39;00m \u001b[39mlen\u001b[39m(args) \u001b[39m==\u001b[39m \u001b[39m0\u001b[39m:\n\u001b[0;32m-> 3130\u001b[0m     \u001b[39mself\u001b[39;49m\u001b[39m.\u001b[39;49m_get(var_name)\n\u001b[1;32m   3131\u001b[0m \u001b[39melse\u001b[39;00m:\n",
      "File \u001b[0;32m~/.local/lib/python3.10/site-packages/spacepy/pycdf/__init__.py:3444\u001b[0m, in \u001b[0;36mVar._get\u001b[0;34m(self, var_name)\u001b[0m\n\u001b[1;32m   3443\u001b[0m varNum \u001b[39m=\u001b[39m ctypes\u001b[39m.\u001b[39mc_long(\u001b[39m0\u001b[39m)\n\u001b[0;32m-> 3444\u001b[0m \u001b[39mself\u001b[39;49m\u001b[39m.\u001b[39;49mcdf_file\u001b[39m.\u001b[39;49m_call(const\u001b[39m.\u001b[39;49mGET_, const\u001b[39m.\u001b[39;49mzVAR_NUMBER_, enc_name, ctypes\u001b[39m.\u001b[39;49mbyref(varNum))\n\u001b[1;32m   3445\u001b[0m \u001b[39mself\u001b[39m\u001b[39m.\u001b[39m_name \u001b[39m=\u001b[39m enc_name\n",
      "File \u001b[0;32m~/.local/lib/python3.10/site-packages/spacepy/pycdf/__init__.py:2067\u001b[0m, in \u001b[0;36mCDF._call\u001b[0;34m(self, *args, **kwargs)\u001b[0m\n\u001b[1;32m   2041\u001b[0m \u001b[39m\u001b[39m\u001b[39m\"\"\"Select this CDF as current and call the CDF internal interface\u001b[39;00m\n\u001b[1;32m   2042\u001b[0m \n\u001b[1;32m   2043\u001b[0m \u001b[39mAdds call to select this CDF to L{args} and passes all parameters\u001b[39;00m\n\u001b[0;32m   (...)\u001b[0m\n\u001b[1;32m   2065\u001b[0m \u001b[39m             is set to error on warnings.\u001b[39;00m\n\u001b[1;32m   2066\u001b[0m \u001b[39m\"\"\"\u001b[39;00m\n\u001b[0;32m-> 2067\u001b[0m \u001b[39mreturn\u001b[39;00m lib\u001b[39m.\u001b[39;49mcall(const\u001b[39m.\u001b[39;49mSELECT_, const\u001b[39m.\u001b[39;49mCDF_, \u001b[39mself\u001b[39;49m\u001b[39m.\u001b[39;49m_handle,\n\u001b[1;32m   2068\u001b[0m                 \u001b[39m*\u001b[39;49margs, \u001b[39m*\u001b[39;49m\u001b[39m*\u001b[39;49mkwargs)\n",
      "File \u001b[0;32m~/.local/lib/python3.10/site-packages/spacepy/pycdf/__init__.py:637\u001b[0m, in \u001b[0;36mLibrary.call\u001b[0;34m(self, *args, **kwargs)\u001b[0m\n\u001b[1;32m    636\u001b[0m \u001b[39melse\u001b[39;00m:\n\u001b[0;32m--> 637\u001b[0m     \u001b[39mreturn\u001b[39;00m \u001b[39mself\u001b[39;49m\u001b[39m.\u001b[39;49mcheck_status(\u001b[39mself\u001b[39;49m\u001b[39m.\u001b[39;49m_library\u001b[39m.\u001b[39;49mCDFlib(\n\u001b[1;32m    638\u001b[0m         \u001b[39m*\u001b[39;49m(args \u001b[39m+\u001b[39;49m (const\u001b[39m.\u001b[39;49mNULL_, ))\n\u001b[1;32m    639\u001b[0m         ))\n",
      "File \u001b[0;32m~/.local/lib/python3.10/site-packages/spacepy/pycdf/__init__.py:590\u001b[0m, in \u001b[0;36mLibrary.check_status\u001b[0;34m(self, status, ignore)\u001b[0m\n\u001b[1;32m    589\u001b[0m \u001b[39mif\u001b[39;00m status \u001b[39m<\u001b[39m const\u001b[39m.\u001b[39mCDF_WARN:\n\u001b[0;32m--> 590\u001b[0m     \u001b[39mraise\u001b[39;00m CDFError(status)\n\u001b[1;32m    591\u001b[0m \u001b[39melse\u001b[39;00m:\n",
      "\u001b[0;31mCDFError\u001b[0m: NO_SUCH_VAR: Named variable not found in this CDF.",
      "\nDuring handling of the above exception, another exception occurred:\n",
      "\u001b[0;31mKeyError\u001b[0m                                  Traceback (most recent call last)",
      "\u001b[1;32m/home/jenci/Desktop/SMFGF-SpaceApps/preprocessing.ipynb Cell 5\u001b[0m line \u001b[0;36m5\n\u001b[1;32m      <a href='vscode-notebook-cell:/home/jenci/Desktop/SMFGF-SpaceApps/preprocessing.ipynb#W3sZmlsZQ%3D%3D?line=2'>3</a>\u001b[0m ace \u001b[39m=\u001b[39m ACE()\n\u001b[1;32m      <a href='vscode-notebook-cell:/home/jenci/Desktop/SMFGF-SpaceApps/preprocessing.ipynb#W3sZmlsZQ%3D%3D?line=3'>4</a>\u001b[0m scrap_date \u001b[39m=\u001b[39m interval_time(\u001b[39m'\u001b[39m\u001b[39m19970829\u001b[39m\u001b[39m'\u001b[39m, \u001b[39m'\u001b[39m\u001b[39m20231109\u001b[39m\u001b[39m'\u001b[39m, mode \u001b[39m=\u001b[39m \u001b[39m'\u001b[39m\u001b[39m%\u001b[39m\u001b[39mY\u001b[39m\u001b[39m%\u001b[39m\u001b[39mm\u001b[39m\u001b[39m%d\u001b[39;00m\u001b[39m'\u001b[39m)\n\u001b[0;32m----> <a href='vscode-notebook-cell:/home/jenci/Desktop/SMFGF-SpaceApps/preprocessing.ipynb#W3sZmlsZQ%3D%3D?line=4'>5</a>\u001b[0m ace\u001b[39m.\u001b[39;49mSIS(scrap_date)\n",
      "File \u001b[0;32m~/Desktop/SMFGF-SpaceApps/data/preprocessing.py:54\u001b[0m, in \u001b[0;36mACE.SIS\u001b[0;34m(self, scrap_date)\u001b[0m\n\u001b[1;32m     52\u001b[0m variable_data \u001b[39m=\u001b[39m {}\n\u001b[1;32m     53\u001b[0m \u001b[39mfor\u001b[39;00m variable_name \u001b[39min\u001b[39;00m variables:\n\u001b[0;32m---> 54\u001b[0m     variable_data[variable_name] \u001b[39m=\u001b[39m cdf_file[variable_name][\u001b[39m.\u001b[39m\u001b[39m.\u001b[39m\u001b[39m.\u001b[39m]\n\u001b[1;32m     56\u001b[0m cdf_file\u001b[39m.\u001b[39mclose()\n\u001b[1;32m     58\u001b[0m \u001b[39mwith\u001b[39;00m \u001b[39mopen\u001b[39m(csv_file, \u001b[39m'\u001b[39m\u001b[39ma\u001b[39m\u001b[39m'\u001b[39m, newline\u001b[39m=\u001b[39m\u001b[39m'\u001b[39m\u001b[39m'\u001b[39m) \u001b[39mas\u001b[39;00m csvfile:\n",
      "File \u001b[0;32m~/.local/lib/python3.10/site-packages/spacepy/pycdf/__init__.py:1841\u001b[0m, in \u001b[0;36mCDF.__getitem__\u001b[0;34m(self, name)\u001b[0m\n\u001b[1;32m   1839\u001b[0m     \u001b[39mreturn\u001b[39;00m Var(\u001b[39mself\u001b[39m, name)\n\u001b[1;32m   1840\u001b[0m \u001b[39mexcept\u001b[39;00m CDFException \u001b[39mas\u001b[39;00m e:\n\u001b[0;32m-> 1841\u001b[0m     \u001b[39mraise\u001b[39;00m \u001b[39mKeyError\u001b[39;00m(\u001b[39m'\u001b[39m\u001b[39m{0}\u001b[39;00m\u001b[39m: \u001b[39m\u001b[39m{1}\u001b[39;00m\u001b[39m'\u001b[39m\u001b[39m.\u001b[39mformat(name, e))\n",
      "\u001b[0;31mKeyError\u001b[0m: 'Electron_hi: NO_SUCH_VAR: Named variable not found in this CDF.'"
     ]
    }
   ],
   "source": [
    "from data.preprocessing import ACE, interval_time\n",
    "\n",
    "asdf\n",
    "ace = ACE()\n",
    "scrap_date = interval_time('19970829', '20231109', mode = '%Y%m%d')\n",
    "ace.SIS(scrap_date)"
   ]
  },
  {
   "cell_type": "code",
   "execution_count": 1,
   "metadata": {},
   "outputs": [
    {
     "name": "stderr",
     "output_type": "stream",
     "text": [
      "/home/jenci/Desktop/SMFGF-SpaceApps/data/preprocessing.py:93: DtypeWarning: Columns (0) have mixed types. Specify dtype option on import or set low_memory=False.\n",
      "  df = pd.read_csv(csv_file)\n",
      "/home/jenci/Desktop/SMFGF-SpaceApps/data/preprocessing.py:94: UserWarning: The argument 'infer_datetime_format' is deprecated and will be removed in a future version. A strict version of it is now the default, see https://pandas.pydata.org/pdeps/0004-consistent-to-datetime-parsing.html. You can safely remove this argument.\n",
      "  df['datetime'] = pd.to_datetime(df[['year', 'day', 'hr', 'min', 'sec']], infer_datetime_format=True)\n"
     ]
    },
    {
     "ename": "ValueError",
     "evalue": "to assemble mappings requires at least that [year, month, day] be specified: [month] is missing",
     "output_type": "error",
     "traceback": [
      "\u001b[0;31m---------------------------------------------------------------------------\u001b[0m",
      "\u001b[0;31mValueError\u001b[0m                                Traceback (most recent call last)",
      "\u001b[1;32m/home/jenci/Desktop/SMFGF-SpaceApps/preprocessing.ipynb Cell 6\u001b[0m line \u001b[0;36m2\n\u001b[1;32m      <a href='vscode-notebook-cell:/home/jenci/Desktop/SMFGF-SpaceApps/preprocessing.ipynb#X25sZmlsZQ%3D%3D?line=0'>1</a>\u001b[0m \u001b[39mfrom\u001b[39;00m \u001b[39mdata\u001b[39;00m\u001b[39m.\u001b[39;00m\u001b[39mpreprocessing\u001b[39;00m \u001b[39mimport\u001b[39;00m MAG_preprocessing\n\u001b[0;32m----> <a href='vscode-notebook-cell:/home/jenci/Desktop/SMFGF-SpaceApps/preprocessing.ipynb#X25sZmlsZQ%3D%3D?line=1'>2</a>\u001b[0m mag \u001b[39m=\u001b[39m MAG_preprocessing()\n",
      "File \u001b[0;32m~/Desktop/SMFGF-SpaceApps/data/preprocessing.py:94\u001b[0m, in \u001b[0;36mMAG_preprocessing\u001b[0;34m()\u001b[0m\n\u001b[1;32m     92\u001b[0m             csv_writer\u001b[39m.\u001b[39mwriterow(row)\n\u001b[1;32m     93\u001b[0m df \u001b[39m=\u001b[39m pd\u001b[39m.\u001b[39mread_csv(csv_file)\n\u001b[0;32m---> 94\u001b[0m df[\u001b[39m'\u001b[39m\u001b[39mdatetime\u001b[39m\u001b[39m'\u001b[39m] \u001b[39m=\u001b[39m pd\u001b[39m.\u001b[39;49mto_datetime(df[[\u001b[39m'\u001b[39;49m\u001b[39myear\u001b[39;49m\u001b[39m'\u001b[39;49m, \u001b[39m'\u001b[39;49m\u001b[39mday\u001b[39;49m\u001b[39m'\u001b[39;49m, \u001b[39m'\u001b[39;49m\u001b[39mhr\u001b[39;49m\u001b[39m'\u001b[39;49m, \u001b[39m'\u001b[39;49m\u001b[39mmin\u001b[39;49m\u001b[39m'\u001b[39;49m, \u001b[39m'\u001b[39;49m\u001b[39msec\u001b[39;49m\u001b[39m'\u001b[39;49m]], infer_datetime_format\u001b[39m=\u001b[39;49m\u001b[39mTrue\u001b[39;49;00m)\n\u001b[1;32m     95\u001b[0m df\u001b[39m.\u001b[39mdrop([\u001b[39m'\u001b[39m\u001b[39myear\u001b[39m\u001b[39m'\u001b[39m, \u001b[39m'\u001b[39m\u001b[39mday\u001b[39m\u001b[39m'\u001b[39m, \u001b[39m'\u001b[39m\u001b[39mhr\u001b[39m\u001b[39m'\u001b[39m, \u001b[39m'\u001b[39m\u001b[39mmin\u001b[39m\u001b[39m'\u001b[39m, \u001b[39m'\u001b[39m\u001b[39msec\u001b[39m\u001b[39m'\u001b[39m], axis\u001b[39m=\u001b[39m\u001b[39m1\u001b[39m, inplace\u001b[39m=\u001b[39m\u001b[39mTrue\u001b[39;00m)\n\u001b[1;32m     96\u001b[0m df\u001b[39m.\u001b[39mset_index(\u001b[39m'\u001b[39m\u001b[39mdatetime\u001b[39m\u001b[39m'\u001b[39m, drop \u001b[39m=\u001b[39m \u001b[39mTrue\u001b[39;00m, inplace \u001b[39m=\u001b[39m \u001b[39mTrue\u001b[39;00m)\n",
      "File \u001b[0;32m~/.local/lib/python3.10/site-packages/pandas/core/tools/datetimes.py:1115\u001b[0m, in \u001b[0;36mto_datetime\u001b[0;34m(arg, errors, dayfirst, yearfirst, utc, format, exact, unit, infer_datetime_format, origin, cache)\u001b[0m\n\u001b[1;32m   1113\u001b[0m         result \u001b[39m=\u001b[39m arg\u001b[39m.\u001b[39m_constructor(values, index\u001b[39m=\u001b[39marg\u001b[39m.\u001b[39mindex, name\u001b[39m=\u001b[39marg\u001b[39m.\u001b[39mname)\n\u001b[1;32m   1114\u001b[0m \u001b[39melif\u001b[39;00m \u001b[39misinstance\u001b[39m(arg, (ABCDataFrame, abc\u001b[39m.\u001b[39mMutableMapping)):\n\u001b[0;32m-> 1115\u001b[0m     result \u001b[39m=\u001b[39m _assemble_from_unit_mappings(arg, errors, utc)\n\u001b[1;32m   1116\u001b[0m \u001b[39melif\u001b[39;00m \u001b[39misinstance\u001b[39m(arg, Index):\n\u001b[1;32m   1117\u001b[0m     cache_array \u001b[39m=\u001b[39m _maybe_cache(arg, \u001b[39mformat\u001b[39m, cache, convert_listlike)\n",
      "File \u001b[0;32m~/.local/lib/python3.10/site-packages/pandas/core/tools/datetimes.py:1231\u001b[0m, in \u001b[0;36m_assemble_from_unit_mappings\u001b[0;34m(arg, errors, utc)\u001b[0m\n\u001b[1;32m   1229\u001b[0m \u001b[39mif\u001b[39;00m \u001b[39mlen\u001b[39m(req):\n\u001b[1;32m   1230\u001b[0m     _required \u001b[39m=\u001b[39m \u001b[39m\"\u001b[39m\u001b[39m,\u001b[39m\u001b[39m\"\u001b[39m\u001b[39m.\u001b[39mjoin(req)\n\u001b[0;32m-> 1231\u001b[0m     \u001b[39mraise\u001b[39;00m \u001b[39mValueError\u001b[39;00m(\n\u001b[1;32m   1232\u001b[0m         \u001b[39m\"\u001b[39m\u001b[39mto assemble mappings requires at least that \u001b[39m\u001b[39m\"\u001b[39m\n\u001b[1;32m   1233\u001b[0m         \u001b[39mf\u001b[39m\u001b[39m\"\u001b[39m\u001b[39m[year, month, day] be specified: [\u001b[39m\u001b[39m{\u001b[39;00m_required\u001b[39m}\u001b[39;00m\u001b[39m] is missing\u001b[39m\u001b[39m\"\u001b[39m\n\u001b[1;32m   1234\u001b[0m     )\n\u001b[1;32m   1236\u001b[0m \u001b[39m# keys we don't recognize\u001b[39;00m\n\u001b[1;32m   1237\u001b[0m excess \u001b[39m=\u001b[39m \u001b[39msorted\u001b[39m(\u001b[39mset\u001b[39m(unit_rev\u001b[39m.\u001b[39mkeys()) \u001b[39m-\u001b[39m \u001b[39mset\u001b[39m(_unit_map\u001b[39m.\u001b[39mvalues()))\n",
      "\u001b[0;31mValueError\u001b[0m: to assemble mappings requires at least that [year, month, day] be specified: [month] is missing"
     ]
    }
   ],
   "source": [
    "from data.preprocessing import MAG_preprocessing\n",
    "mag = MAG_preprocessing()\n",
    "\n"
   ]
  },
  {
   "cell_type": "code",
   "execution_count": 1,
   "metadata": {},
   "outputs": [],
   "source": [
    "import spacepy.pycdf\n",
    "\n",
    "# Open the CDF file\n",
    "cdf = spacepy.pycdf.CDF('hola.cdf')  # Replace 'your_file.cdf' with the path to your CDF file\n",
    "\n",
    "# Get a list of all variable names in the CDF file\n",
    "variable_names = cdf.keys()\n",
    "ion_composition = [\n",
    "    'flux_He', 'flux_C', 'flux_N', 'flux_O', 'flux_Ne', 'flux_Mg',\n",
    "    'flux_Si', 'flux_S', 'flux_Ar', 'flux_Ca', 'flux_Fe',\n",
    "    'flux_Ni', 'cnt_He', 'cnt_C', 'cnt_N', 'cnt_O', 'cnt_Ne',\n",
    "    'cnt_Mg', 'cnt_Si', 'cnt_S', 'cnt_Ar', 'cnt_Ca',\n",
    "    'cnt_Fe', 'cnt_Ni'\n",
    "]\n",
    "\n",
    "data_columns = []\n",
    "\n",
    "for var in ion_composition:\n",
    "    data_columns.append(cdf[var][:])\n"
   ]
  },
  {
   "cell_type": "code",
   "execution_count": 2,
   "metadata": {},
   "outputs": [
    {
     "data": {
      "text/plain": [
       "<CDF:\n",
       "Epoch: CDF_EPOCH [337]\n",
       "Time_PB5: CDF_INT4 [0, 3]\n",
       "cnt_Al: CDF_REAL4 [0, 8]\n",
       "cnt_Ar: CDF_REAL4 [337, 8]\n",
       "cnt_C: CDF_REAL4 [337, 8]\n",
       "cnt_Ca: CDF_REAL4 [337, 8]\n",
       "cnt_Fe: CDF_REAL4 [337, 8]\n",
       "cnt_He: CDF_REAL4 [337, 8]\n",
       "cnt_Mg: CDF_REAL4 [337, 8]\n",
       "cnt_N: CDF_REAL4 [337, 8]\n",
       "cnt_Na: CDF_REAL4 [337, 8]\n",
       "cnt_Ne: CDF_REAL4 [337, 8]\n",
       "cnt_Ni: CDF_REAL4 [337, 8]\n",
       "cnt_O: CDF_REAL4 [337, 8]\n",
       "cnt_S: CDF_REAL4 [337, 8]\n",
       "cnt_Si: CDF_REAL4 [337, 8]\n",
       "flux_Al: CDF_REAL4 [337, 8]\n",
       "flux_Ar: CDF_REAL4 [337, 8]\n",
       "flux_C: CDF_REAL4 [337, 8]\n",
       "flux_Ca: CDF_REAL4 [337, 8]\n",
       "flux_Fe: CDF_REAL4 [337, 8]\n",
       "flux_He: CDF_REAL4 [337, 8]\n",
       "flux_Mg: CDF_REAL4 [337, 8]\n",
       "flux_N: CDF_REAL4 [337, 8]\n",
       "flux_Na: CDF_REAL4 [337, 8]\n",
       "flux_Ne: CDF_REAL4 [337, 8]\n",
       "flux_Ni: CDF_REAL4 [337, 8]\n",
       "flux_O: CDF_REAL4 [337, 8]\n",
       "flux_S: CDF_REAL4 [337, 8]\n",
       "flux_Si: CDF_REAL4 [337, 8]\n",
       "format_time: CDF_CHAR*2 [3] NRV\n",
       "label_ebands_cnt_Al: CDF_CHAR*19 [8] NRV\n",
       "label_ebands_cnt_Ar: CDF_CHAR*19 [8] NRV\n",
       "label_ebands_cnt_C: CDF_CHAR*19 [8] NRV\n",
       "label_ebands_cnt_Ca: CDF_CHAR*19 [8] NRV\n",
       "label_ebands_cnt_Fe: CDF_CHAR*19 [8] NRV\n",
       "label_ebands_cnt_He: CDF_CHAR*19 [8] NRV\n",
       "label_ebands_cnt_Mg: CDF_CHAR*19 [8] NRV\n",
       "label_ebands_cnt_N: CDF_CHAR*19 [8] NRV\n",
       "label_ebands_cnt_Na: CDF_CHAR*19 [8] NRV\n",
       "label_ebands_cnt_Ne: CDF_CHAR*19 [8] NRV\n",
       "label_ebands_cnt_Ni: CDF_CHAR*19 [8] NRV\n",
       "label_ebands_cnt_O: CDF_CHAR*19 [8] NRV\n",
       "label_ebands_cnt_S: CDF_CHAR*19 [8] NRV\n",
       "label_ebands_cnt_Si: CDF_CHAR*19 [8] NRV\n",
       "label_ebands_flux_Al: CDF_CHAR*19 [8] NRV\n",
       "label_ebands_flux_Ar: CDF_CHAR*19 [8] NRV\n",
       "label_ebands_flux_C: CDF_CHAR*19 [8] NRV\n",
       "label_ebands_flux_Ca: CDF_CHAR*19 [8] NRV\n",
       "label_ebands_flux_Fe: CDF_CHAR*19 [8] NRV\n",
       "label_ebands_flux_He: CDF_CHAR*19 [8] NRV\n",
       "label_ebands_flux_Mg: CDF_CHAR*19 [8] NRV\n",
       "label_ebands_flux_N: CDF_CHAR*19 [8] NRV\n",
       "label_ebands_flux_Na: CDF_CHAR*19 [8] NRV\n",
       "label_ebands_flux_Ne: CDF_CHAR*19 [8] NRV\n",
       "label_ebands_flux_Ni: CDF_CHAR*19 [8] NRV\n",
       "label_ebands_flux_O: CDF_CHAR*19 [8] NRV\n",
       "label_ebands_flux_S: CDF_CHAR*19 [8] NRV\n",
       "label_ebands_flux_Si: CDF_CHAR*19 [8] NRV\n",
       "label_time: CDF_CHAR*27 [3] NRV\n",
       "unit_time: CDF_CHAR*4 [3] NRV\n",
       ">"
      ]
     },
     "execution_count": 2,
     "metadata": {},
     "output_type": "execute_result"
    }
   ],
   "source": [
    "cdf"
   ]
  },
  {
   "cell_type": "code",
   "execution_count": 6,
   "metadata": {},
   "outputs": [
    {
     "ename": "TypeError",
     "evalue": "Only valid with DatetimeIndex, TimedeltaIndex or PeriodIndex, but got an instance of 'Index'",
     "output_type": "error",
     "traceback": [
      "\u001b[0;31m---------------------------------------------------------------------------\u001b[0m",
      "\u001b[0;31mTypeError\u001b[0m                                 Traceback (most recent call last)",
      "\u001b[1;32m/home/jenci/Desktop/SMFGF-SpaceApps/preprocessing.ipynb Cell 9\u001b[0m line \u001b[0;36m6\n\u001b[1;32m      <a href='vscode-notebook-cell:/home/jenci/Desktop/SMFGF-SpaceApps/preprocessing.ipynb#X10sZmlsZQ%3D%3D?line=3'>4</a>\u001b[0m data \u001b[39m=\u001b[39m np\u001b[39m.\u001b[39mconcatenate(data_columns, axis \u001b[39m=\u001b[39m \u001b[39m1\u001b[39m)\n\u001b[1;32m      <a href='vscode-notebook-cell:/home/jenci/Desktop/SMFGF-SpaceApps/preprocessing.ipynb#X10sZmlsZQ%3D%3D?line=4'>5</a>\u001b[0m columns \u001b[39m=\u001b[39m [\u001b[39mf\u001b[39m\u001b[39m'\u001b[39m\u001b[39m{\u001b[39;00mname\u001b[39m}\u001b[39;00m\u001b[39m_\u001b[39m\u001b[39m{\u001b[39;00mi\u001b[39m}\u001b[39;00m\u001b[39m'\u001b[39m \u001b[39mfor\u001b[39;00m name \u001b[39min\u001b[39;00m ion_composition \u001b[39mfor\u001b[39;00m i \u001b[39min\u001b[39;00m \u001b[39mrange\u001b[39m(\u001b[39m1\u001b[39m,\u001b[39m9\u001b[39m)]\n\u001b[0;32m----> <a href='vscode-notebook-cell:/home/jenci/Desktop/SMFGF-SpaceApps/preprocessing.ipynb#X10sZmlsZQ%3D%3D?line=5'>6</a>\u001b[0m pd\u001b[39m.\u001b[39;49mDataFrame(data, columns \u001b[39m=\u001b[39;49m columns, index \u001b[39m=\u001b[39;49m epoch)\u001b[39m.\u001b[39;49mresample(\u001b[39m'\u001b[39;49m\u001b[39m5T\u001b[39;49m\u001b[39m'\u001b[39;49m)\u001b[39m.\u001b[39mmean()\n",
      "File \u001b[0;32m~/.local/lib/python3.10/site-packages/pandas/core/generic.py:9439\u001b[0m, in \u001b[0;36mNDFrame.resample\u001b[0;34m(self, rule, axis, closed, label, convention, kind, on, level, origin, offset, group_keys)\u001b[0m\n\u001b[1;32m   9436\u001b[0m \u001b[39melse\u001b[39;00m:\n\u001b[1;32m   9437\u001b[0m     axis \u001b[39m=\u001b[39m \u001b[39m0\u001b[39m\n\u001b[0;32m-> 9439\u001b[0m \u001b[39mreturn\u001b[39;00m get_resampler(\n\u001b[1;32m   9440\u001b[0m     cast(\u001b[39m\"\u001b[39;49m\u001b[39mSeries | DataFrame\u001b[39;49m\u001b[39m\"\u001b[39;49m, \u001b[39mself\u001b[39;49m),\n\u001b[1;32m   9441\u001b[0m     freq\u001b[39m=\u001b[39;49mrule,\n\u001b[1;32m   9442\u001b[0m     label\u001b[39m=\u001b[39;49mlabel,\n\u001b[1;32m   9443\u001b[0m     closed\u001b[39m=\u001b[39;49mclosed,\n\u001b[1;32m   9444\u001b[0m     axis\u001b[39m=\u001b[39;49maxis,\n\u001b[1;32m   9445\u001b[0m     kind\u001b[39m=\u001b[39;49mkind,\n\u001b[1;32m   9446\u001b[0m     convention\u001b[39m=\u001b[39;49mconvention,\n\u001b[1;32m   9447\u001b[0m     key\u001b[39m=\u001b[39;49mon,\n\u001b[1;32m   9448\u001b[0m     level\u001b[39m=\u001b[39;49mlevel,\n\u001b[1;32m   9449\u001b[0m     origin\u001b[39m=\u001b[39;49morigin,\n\u001b[1;32m   9450\u001b[0m     offset\u001b[39m=\u001b[39;49moffset,\n\u001b[1;32m   9451\u001b[0m     group_keys\u001b[39m=\u001b[39;49mgroup_keys,\n\u001b[1;32m   9452\u001b[0m )\n",
      "File \u001b[0;32m~/.local/lib/python3.10/site-packages/pandas/core/resample.py:1970\u001b[0m, in \u001b[0;36mget_resampler\u001b[0;34m(obj, kind, **kwds)\u001b[0m\n\u001b[1;32m   1966\u001b[0m \u001b[39m\u001b[39m\u001b[39m\"\"\"\u001b[39;00m\n\u001b[1;32m   1967\u001b[0m \u001b[39mCreate a TimeGrouper and return our resampler.\u001b[39;00m\n\u001b[1;32m   1968\u001b[0m \u001b[39m\"\"\"\u001b[39;00m\n\u001b[1;32m   1969\u001b[0m tg \u001b[39m=\u001b[39m TimeGrouper(\u001b[39m*\u001b[39m\u001b[39m*\u001b[39mkwds)\n\u001b[0;32m-> 1970\u001b[0m \u001b[39mreturn\u001b[39;00m tg\u001b[39m.\u001b[39;49m_get_resampler(obj, kind\u001b[39m=\u001b[39;49mkind)\n",
      "File \u001b[0;32m~/.local/lib/python3.10/site-packages/pandas/core/resample.py:2160\u001b[0m, in \u001b[0;36mTimeGrouper._get_resampler\u001b[0;34m(self, obj, kind)\u001b[0m\n\u001b[1;32m   2151\u001b[0m \u001b[39melif\u001b[39;00m \u001b[39misinstance\u001b[39m(ax, TimedeltaIndex):\n\u001b[1;32m   2152\u001b[0m     \u001b[39mreturn\u001b[39;00m TimedeltaIndexResampler(\n\u001b[1;32m   2153\u001b[0m         obj,\n\u001b[1;32m   2154\u001b[0m         timegrouper\u001b[39m=\u001b[39m\u001b[39mself\u001b[39m,\n\u001b[0;32m   (...)\u001b[0m\n\u001b[1;32m   2157\u001b[0m         gpr_index\u001b[39m=\u001b[39max,\n\u001b[1;32m   2158\u001b[0m     )\n\u001b[0;32m-> 2160\u001b[0m \u001b[39mraise\u001b[39;00m \u001b[39mTypeError\u001b[39;00m(\n\u001b[1;32m   2161\u001b[0m     \u001b[39m\"\u001b[39m\u001b[39mOnly valid with DatetimeIndex, \u001b[39m\u001b[39m\"\u001b[39m\n\u001b[1;32m   2162\u001b[0m     \u001b[39m\"\u001b[39m\u001b[39mTimedeltaIndex or PeriodIndex, \u001b[39m\u001b[39m\"\u001b[39m\n\u001b[1;32m   2163\u001b[0m     \u001b[39mf\u001b[39m\u001b[39m\"\u001b[39m\u001b[39mbut got an instance of \u001b[39m\u001b[39m'\u001b[39m\u001b[39m{\u001b[39;00m\u001b[39mtype\u001b[39m(ax)\u001b[39m.\u001b[39m\u001b[39m__name__\u001b[39m\u001b[39m}\u001b[39;00m\u001b[39m'\u001b[39m\u001b[39m\"\u001b[39m\n\u001b[1;32m   2164\u001b[0m )\n",
      "\u001b[0;31mTypeError\u001b[0m: Only valid with DatetimeIndex, TimedeltaIndex or PeriodIndex, but got an instance of 'Index'"
     ]
    }
   ],
   "source": [
    "import pandas as pd\n",
    "import numpy as np\n",
    "epoch = np.array([str(date.strftime('%Y-%m-%d %H:%M:%S.%f')) for date in cdf['Epoch'][:]]).reshape(-1,1)\n",
    "data = np.concatenate(data_columns, axis = 1)\n",
    "data  = np.concatenate([epoch, data], axis = 1)\n",
    "columns = [f'{name}_{i}' for name in ion_composition for i in range(1,9)]\n",
    "df = pd.DataFrame(data, columns = columns)\n",
    "df['datetime'] = pd.to_datetime(df['Epoch'])\n",
    "df.set_index('datetime', drop = True, inplace = True)\n",
    "df"
   ]
  },
  {
   "cell_type": "code",
   "execution_count": 5,
   "metadata": {},
   "outputs": [
    {
     "data": {
      "text/plain": [
       "['flux_He_1',\n",
       " 'flux_He_2',\n",
       " 'flux_He_3',\n",
       " 'flux_He_4',\n",
       " 'flux_He_5',\n",
       " 'flux_He_6',\n",
       " 'flux_He_7',\n",
       " 'flux_He_8',\n",
       " 'flux_C_1',\n",
       " 'flux_C_2',\n",
       " 'flux_C_3',\n",
       " 'flux_C_4',\n",
       " 'flux_C_5',\n",
       " 'flux_C_6',\n",
       " 'flux_C_7',\n",
       " 'flux_C_8',\n",
       " 'flux_N_1',\n",
       " 'flux_N_2',\n",
       " 'flux_N_3',\n",
       " 'flux_N_4',\n",
       " 'flux_N_5',\n",
       " 'flux_N_6',\n",
       " 'flux_N_7',\n",
       " 'flux_N_8',\n",
       " 'flux_O_1',\n",
       " 'flux_O_2',\n",
       " 'flux_O_3',\n",
       " 'flux_O_4',\n",
       " 'flux_O_5',\n",
       " 'flux_O_6',\n",
       " 'flux_O_7',\n",
       " 'flux_O_8',\n",
       " 'flux_Ne_1',\n",
       " 'flux_Ne_2',\n",
       " 'flux_Ne_3',\n",
       " 'flux_Ne_4',\n",
       " 'flux_Ne_5',\n",
       " 'flux_Ne_6',\n",
       " 'flux_Ne_7',\n",
       " 'flux_Ne_8',\n",
       " 'flux_Mg_1',\n",
       " 'flux_Mg_2',\n",
       " 'flux_Mg_3',\n",
       " 'flux_Mg_4',\n",
       " 'flux_Mg_5',\n",
       " 'flux_Mg_6',\n",
       " 'flux_Mg_7',\n",
       " 'flux_Mg_8',\n",
       " 'flux_Si_1',\n",
       " 'flux_Si_2',\n",
       " 'flux_Si_3',\n",
       " 'flux_Si_4',\n",
       " 'flux_Si_5',\n",
       " 'flux_Si_6',\n",
       " 'flux_Si_7',\n",
       " 'flux_Si_8',\n",
       " 'flux_S_1',\n",
       " 'flux_S_2',\n",
       " 'flux_S_3',\n",
       " 'flux_S_4',\n",
       " 'flux_S_5',\n",
       " 'flux_S_6',\n",
       " 'flux_S_7',\n",
       " 'flux_S_8',\n",
       " 'flux_Ar_1',\n",
       " 'flux_Ar_2',\n",
       " 'flux_Ar_3',\n",
       " 'flux_Ar_4',\n",
       " 'flux_Ar_5',\n",
       " 'flux_Ar_6',\n",
       " 'flux_Ar_7',\n",
       " 'flux_Ar_8',\n",
       " 'flux_Ca_1',\n",
       " 'flux_Ca_2',\n",
       " 'flux_Ca_3',\n",
       " 'flux_Ca_4',\n",
       " 'flux_Ca_5',\n",
       " 'flux_Ca_6',\n",
       " 'flux_Ca_7',\n",
       " 'flux_Ca_8',\n",
       " 'flux_Fe_1',\n",
       " 'flux_Fe_2',\n",
       " 'flux_Fe_3',\n",
       " 'flux_Fe_4',\n",
       " 'flux_Fe_5',\n",
       " 'flux_Fe_6',\n",
       " 'flux_Fe_7',\n",
       " 'flux_Fe_8',\n",
       " 'flux_Ni_1',\n",
       " 'flux_Ni_2',\n",
       " 'flux_Ni_3',\n",
       " 'flux_Ni_4',\n",
       " 'flux_Ni_5',\n",
       " 'flux_Ni_6',\n",
       " 'flux_Ni_7',\n",
       " 'flux_Ni_8',\n",
       " 'cnt_He_1',\n",
       " 'cnt_He_2',\n",
       " 'cnt_He_3',\n",
       " 'cnt_He_4',\n",
       " 'cnt_He_5',\n",
       " 'cnt_He_6',\n",
       " 'cnt_He_7',\n",
       " 'cnt_He_8',\n",
       " 'cnt_C_1',\n",
       " 'cnt_C_2',\n",
       " 'cnt_C_3',\n",
       " 'cnt_C_4',\n",
       " 'cnt_C_5',\n",
       " 'cnt_C_6',\n",
       " 'cnt_C_7',\n",
       " 'cnt_C_8',\n",
       " 'cnt_N_1',\n",
       " 'cnt_N_2',\n",
       " 'cnt_N_3',\n",
       " 'cnt_N_4',\n",
       " 'cnt_N_5',\n",
       " 'cnt_N_6',\n",
       " 'cnt_N_7',\n",
       " 'cnt_N_8',\n",
       " 'cnt_O_1',\n",
       " 'cnt_O_2',\n",
       " 'cnt_O_3',\n",
       " 'cnt_O_4',\n",
       " 'cnt_O_5',\n",
       " 'cnt_O_6',\n",
       " 'cnt_O_7',\n",
       " 'cnt_O_8',\n",
       " 'cnt_Ne_1',\n",
       " 'cnt_Ne_2',\n",
       " 'cnt_Ne_3',\n",
       " 'cnt_Ne_4',\n",
       " 'cnt_Ne_5',\n",
       " 'cnt_Ne_6',\n",
       " 'cnt_Ne_7',\n",
       " 'cnt_Ne_8',\n",
       " 'cnt_Mg_1',\n",
       " 'cnt_Mg_2',\n",
       " 'cnt_Mg_3',\n",
       " 'cnt_Mg_4',\n",
       " 'cnt_Mg_5',\n",
       " 'cnt_Mg_6',\n",
       " 'cnt_Mg_7',\n",
       " 'cnt_Mg_8',\n",
       " 'cnt_Si_1',\n",
       " 'cnt_Si_2',\n",
       " 'cnt_Si_3',\n",
       " 'cnt_Si_4',\n",
       " 'cnt_Si_5',\n",
       " 'cnt_Si_6',\n",
       " 'cnt_Si_7',\n",
       " 'cnt_Si_8',\n",
       " 'cnt_S_1',\n",
       " 'cnt_S_2',\n",
       " 'cnt_S_3',\n",
       " 'cnt_S_4',\n",
       " 'cnt_S_5',\n",
       " 'cnt_S_6',\n",
       " 'cnt_S_7',\n",
       " 'cnt_S_8',\n",
       " 'cnt_Ar_1',\n",
       " 'cnt_Ar_2',\n",
       " 'cnt_Ar_3',\n",
       " 'cnt_Ar_4',\n",
       " 'cnt_Ar_5',\n",
       " 'cnt_Ar_6',\n",
       " 'cnt_Ar_7',\n",
       " 'cnt_Ar_8',\n",
       " 'cnt_Ca_1',\n",
       " 'cnt_Ca_2',\n",
       " 'cnt_Ca_3',\n",
       " 'cnt_Ca_4',\n",
       " 'cnt_Ca_5',\n",
       " 'cnt_Ca_6',\n",
       " 'cnt_Ca_7',\n",
       " 'cnt_Ca_8',\n",
       " 'cnt_Fe_1',\n",
       " 'cnt_Fe_2',\n",
       " 'cnt_Fe_3',\n",
       " 'cnt_Fe_4',\n",
       " 'cnt_Fe_5',\n",
       " 'cnt_Fe_6',\n",
       " 'cnt_Fe_7',\n",
       " 'cnt_Fe_8',\n",
       " 'cnt_Ni_1',\n",
       " 'cnt_Ni_2',\n",
       " 'cnt_Ni_3',\n",
       " 'cnt_Ni_4',\n",
       " 'cnt_Ni_5',\n",
       " 'cnt_Ni_6',\n",
       " 'cnt_Ni_7',\n",
       " 'cnt_Ni_8']"
      ]
     },
     "execution_count": 5,
     "metadata": {},
     "output_type": "execute_result"
    }
   ],
   "source": [
    "columns"
   ]
  },
  {
   "cell_type": "code",
   "execution_count": 41,
   "metadata": {},
   "outputs": [
    {
     "data": {
      "text/plain": [
       "(337, 1)"
      ]
     },
     "execution_count": 41,
     "metadata": {},
     "output_type": "execute_result"
    }
   ],
   "source": [
    "np.array([date.strftime('%Y-%m-%d %H:%M:%S.%f') for date in cdf['Epoch'][:]]).reshape(-1,1).shape"
   ]
  },
  {
   "cell_type": "code",
   "execution_count": null,
   "metadata": {},
   "outputs": [],
   "source": []
  }
 ],
 "metadata": {
  "kernelspec": {
   "display_name": "Python 3 (ipykernel)",
   "language": "python",
   "name": "python3"
  },
  "language_info": {
   "codemirror_mode": {
    "name": "ipython",
    "version": 3
   },
   "file_extension": ".py",
   "mimetype": "text/x-python",
   "name": "python",
   "nbconvert_exporter": "python",
   "pygments_lexer": "ipython3",
   "version": "3.10.12"
  }
 },
 "nbformat": 4,
 "nbformat_minor": 4
}
