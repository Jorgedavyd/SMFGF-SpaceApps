{
 "cells": [
  {
   "cell_type": "code",
   "execution_count": 4,
   "metadata": {},
   "outputs": [
    {
     "ename": "gaierror",
     "evalue": "[Errno -2] Name or service not known",
     "output_type": "error",
     "traceback": [
      "\u001b[0;31m---------------------------------------------------------------------------\u001b[0m",
      "\u001b[0;31mgaierror\u001b[0m                                  Traceback (most recent call last)",
      "\u001b[1;32m/home/jenci/Desktop/SMFGF-SpaceApps/preprocessing.ipynb Cell 1\u001b[0m line \u001b[0;36m3\n\u001b[1;32m      <a href='vscode-notebook-cell:/home/jenci/Desktop/SMFGF-SpaceApps/preprocessing.ipynb#X16sZmlsZQ%3D%3D?line=0'>1</a>\u001b[0m \u001b[39mfrom\u001b[39;00m \u001b[39mftplib\u001b[39;00m \u001b[39mimport\u001b[39;00m FTP\n\u001b[0;32m----> <a href='vscode-notebook-cell:/home/jenci/Desktop/SMFGF-SpaceApps/preprocessing.ipynb#X16sZmlsZQ%3D%3D?line=2'>3</a>\u001b[0m ftp \u001b[39m=\u001b[39m FTP(\u001b[39m'\u001b[39;49m\u001b[39mftp://mussel.srl.caltech.edu/pub/ace/level2\u001b[39;49m\u001b[39m'\u001b[39;49m)\n\u001b[1;32m      <a href='vscode-notebook-cell:/home/jenci/Desktop/SMFGF-SpaceApps/preprocessing.ipynb#X16sZmlsZQ%3D%3D?line=3'>4</a>\u001b[0m ftp\u001b[39m.\u001b[39mlogin()\n\u001b[1;32m      <a href='vscode-notebook-cell:/home/jenci/Desktop/SMFGF-SpaceApps/preprocessing.ipynb#X16sZmlsZQ%3D%3D?line=5'>6</a>\u001b[0m files \u001b[39m=\u001b[39m ftp\u001b[39m.\u001b[39mnlst()\n",
      "File \u001b[0;32m/usr/lib/python3.10/ftplib.py:121\u001b[0m, in \u001b[0;36mFTP.__init__\u001b[0;34m(self, host, user, passwd, acct, timeout, source_address, encoding)\u001b[0m\n\u001b[1;32m    119\u001b[0m \u001b[39mself\u001b[39m\u001b[39m.\u001b[39mtimeout \u001b[39m=\u001b[39m timeout\n\u001b[1;32m    120\u001b[0m \u001b[39mif\u001b[39;00m host:\n\u001b[0;32m--> 121\u001b[0m     \u001b[39mself\u001b[39;49m\u001b[39m.\u001b[39;49mconnect(host)\n\u001b[1;32m    122\u001b[0m     \u001b[39mif\u001b[39;00m user:\n\u001b[1;32m    123\u001b[0m         \u001b[39mself\u001b[39m\u001b[39m.\u001b[39mlogin(user, passwd, acct)\n",
      "File \u001b[0;32m/usr/lib/python3.10/ftplib.py:158\u001b[0m, in \u001b[0;36mFTP.connect\u001b[0;34m(self, host, port, timeout, source_address)\u001b[0m\n\u001b[1;32m    156\u001b[0m     \u001b[39mself\u001b[39m\u001b[39m.\u001b[39msource_address \u001b[39m=\u001b[39m source_address\n\u001b[1;32m    157\u001b[0m sys\u001b[39m.\u001b[39maudit(\u001b[39m\"\u001b[39m\u001b[39mftplib.connect\u001b[39m\u001b[39m\"\u001b[39m, \u001b[39mself\u001b[39m, \u001b[39mself\u001b[39m\u001b[39m.\u001b[39mhost, \u001b[39mself\u001b[39m\u001b[39m.\u001b[39mport)\n\u001b[0;32m--> 158\u001b[0m \u001b[39mself\u001b[39m\u001b[39m.\u001b[39msock \u001b[39m=\u001b[39m socket\u001b[39m.\u001b[39;49mcreate_connection((\u001b[39mself\u001b[39;49m\u001b[39m.\u001b[39;49mhost, \u001b[39mself\u001b[39;49m\u001b[39m.\u001b[39;49mport), \u001b[39mself\u001b[39;49m\u001b[39m.\u001b[39;49mtimeout,\n\u001b[1;32m    159\u001b[0m                                      source_address\u001b[39m=\u001b[39;49m\u001b[39mself\u001b[39;49m\u001b[39m.\u001b[39;49msource_address)\n\u001b[1;32m    160\u001b[0m \u001b[39mself\u001b[39m\u001b[39m.\u001b[39maf \u001b[39m=\u001b[39m \u001b[39mself\u001b[39m\u001b[39m.\u001b[39msock\u001b[39m.\u001b[39mfamily\n\u001b[1;32m    161\u001b[0m \u001b[39mself\u001b[39m\u001b[39m.\u001b[39mfile \u001b[39m=\u001b[39m \u001b[39mself\u001b[39m\u001b[39m.\u001b[39msock\u001b[39m.\u001b[39mmakefile(\u001b[39m'\u001b[39m\u001b[39mr\u001b[39m\u001b[39m'\u001b[39m, encoding\u001b[39m=\u001b[39m\u001b[39mself\u001b[39m\u001b[39m.\u001b[39mencoding)\n",
      "File \u001b[0;32m/usr/lib/python3.10/socket.py:824\u001b[0m, in \u001b[0;36mcreate_connection\u001b[0;34m(address, timeout, source_address)\u001b[0m\n\u001b[1;32m    822\u001b[0m host, port \u001b[39m=\u001b[39m address\n\u001b[1;32m    823\u001b[0m err \u001b[39m=\u001b[39m \u001b[39mNone\u001b[39;00m\n\u001b[0;32m--> 824\u001b[0m \u001b[39mfor\u001b[39;00m res \u001b[39min\u001b[39;00m getaddrinfo(host, port, \u001b[39m0\u001b[39;49m, SOCK_STREAM):\n\u001b[1;32m    825\u001b[0m     af, socktype, proto, canonname, sa \u001b[39m=\u001b[39m res\n\u001b[1;32m    826\u001b[0m     sock \u001b[39m=\u001b[39m \u001b[39mNone\u001b[39;00m\n",
      "File \u001b[0;32m/usr/lib/python3.10/socket.py:955\u001b[0m, in \u001b[0;36mgetaddrinfo\u001b[0;34m(host, port, family, type, proto, flags)\u001b[0m\n\u001b[1;32m    952\u001b[0m \u001b[39m# We override this function since we want to translate the numeric family\u001b[39;00m\n\u001b[1;32m    953\u001b[0m \u001b[39m# and socket type values to enum constants.\u001b[39;00m\n\u001b[1;32m    954\u001b[0m addrlist \u001b[39m=\u001b[39m []\n\u001b[0;32m--> 955\u001b[0m \u001b[39mfor\u001b[39;00m res \u001b[39min\u001b[39;00m _socket\u001b[39m.\u001b[39;49mgetaddrinfo(host, port, family, \u001b[39mtype\u001b[39;49m, proto, flags):\n\u001b[1;32m    956\u001b[0m     af, socktype, proto, canonname, sa \u001b[39m=\u001b[39m res\n\u001b[1;32m    957\u001b[0m     addrlist\u001b[39m.\u001b[39mappend((_intenum_converter(af, AddressFamily),\n\u001b[1;32m    958\u001b[0m                      _intenum_converter(socktype, SocketKind),\n\u001b[1;32m    959\u001b[0m                      proto, canonname, sa))\n",
      "\u001b[0;31mgaierror\u001b[0m: [Errno -2] Name or service not known"
     ]
    }
   ],
   "source": [
    "from ftplib import FTP\n",
    "\n",
    "ftp = FTP('ftp://mussel.srl.caltech.edu/pub/ace/level2')\n",
    "ftp.login()\n",
    "\n",
    "files = ftp.nlst()\n",
    "print(\"Files in the current directory:\")\n",
    "for file in files:\n",
    "    print(file)"
   ]
  },
  {
   "cell_type": "code",
   "execution_count": 2,
   "metadata": {},
   "outputs": [
    {
     "name": "stdout",
     "output_type": "stream",
     "text": [
      "Downloading https://izw1.caltech.edu/ACE/ASC/DATA/level2/epam/epam_data_5min_year2023.hdf to ./epam_2023\n"
     ]
    },
    {
     "name": "stderr",
     "output_type": "stream",
     "text": [
      "100%|██████████| 30964121/30964121 [00:05<00:00, 5296306.78it/s]\n"
     ]
    }
   ],
   "source": [
    "from torchvision.datasets.utils import download_url\n",
    "\n",
    "download_url('https://izw1.caltech.edu/ACE/ASC/DATA/level2/epam/epam_data_5min_year2023.hdf', '.', 'epam_2023')"
   ]
  },
  {
   "cell_type": "code",
   "execution_count": 3,
   "metadata": {},
   "outputs": [
    {
     "ename": "OSError",
     "evalue": "Unable to synchronously open file (file signature not found)",
     "output_type": "error",
     "traceback": [
      "\u001b[0;31m---------------------------------------------------------------------------\u001b[0m",
      "\u001b[0;31mOSError\u001b[0m                                   Traceback (most recent call last)",
      "\u001b[1;32m/home/jenci/Desktop/SMFGF-SpaceApps/preprocessing.ipynb Cell 3\u001b[0m line \u001b[0;36m5\n\u001b[1;32m      <a href='vscode-notebook-cell:/home/jenci/Desktop/SMFGF-SpaceApps/preprocessing.ipynb#X21sZmlsZQ%3D%3D?line=2'>3</a>\u001b[0m \u001b[39m# Open the HDF5 file\u001b[39;00m\n\u001b[1;32m      <a href='vscode-notebook-cell:/home/jenci/Desktop/SMFGF-SpaceApps/preprocessing.ipynb#X21sZmlsZQ%3D%3D?line=3'>4</a>\u001b[0m file_path \u001b[39m=\u001b[39m \u001b[39m'\u001b[39m\u001b[39mepam_2023.hdf\u001b[39m\u001b[39m'\u001b[39m  \u001b[39m# Replace with your HDF file path\u001b[39;00m\n\u001b[0;32m----> <a href='vscode-notebook-cell:/home/jenci/Desktop/SMFGF-SpaceApps/preprocessing.ipynb#X21sZmlsZQ%3D%3D?line=4'>5</a>\u001b[0m hdf_file \u001b[39m=\u001b[39m h5py\u001b[39m.\u001b[39;49mFile(file_path, \u001b[39m'\u001b[39;49m\u001b[39mr\u001b[39;49m\u001b[39m'\u001b[39;49m)\n\u001b[1;32m      <a href='vscode-notebook-cell:/home/jenci/Desktop/SMFGF-SpaceApps/preprocessing.ipynb#X21sZmlsZQ%3D%3D?line=6'>7</a>\u001b[0m \u001b[39m# List all groups and datasets in the file\u001b[39;00m\n\u001b[1;32m      <a href='vscode-notebook-cell:/home/jenci/Desktop/SMFGF-SpaceApps/preprocessing.ipynb#X21sZmlsZQ%3D%3D?line=7'>8</a>\u001b[0m \u001b[39mprint\u001b[39m(\u001b[39m\"\u001b[39m\u001b[39mGroups and Datasets in the HDF file:\u001b[39m\u001b[39m\"\u001b[39m)\n",
      "File \u001b[0;32m~/.local/lib/python3.10/site-packages/h5py/_hl/files.py:562\u001b[0m, in \u001b[0;36mFile.__init__\u001b[0;34m(self, name, mode, driver, libver, userblock_size, swmr, rdcc_nslots, rdcc_nbytes, rdcc_w0, track_order, fs_strategy, fs_persist, fs_threshold, fs_page_size, page_buf_size, min_meta_keep, min_raw_keep, locking, alignment_threshold, alignment_interval, meta_block_size, **kwds)\u001b[0m\n\u001b[1;32m    553\u001b[0m     fapl \u001b[39m=\u001b[39m make_fapl(driver, libver, rdcc_nslots, rdcc_nbytes, rdcc_w0,\n\u001b[1;32m    554\u001b[0m                      locking, page_buf_size, min_meta_keep, min_raw_keep,\n\u001b[1;32m    555\u001b[0m                      alignment_threshold\u001b[39m=\u001b[39malignment_threshold,\n\u001b[1;32m    556\u001b[0m                      alignment_interval\u001b[39m=\u001b[39malignment_interval,\n\u001b[1;32m    557\u001b[0m                      meta_block_size\u001b[39m=\u001b[39mmeta_block_size,\n\u001b[1;32m    558\u001b[0m                      \u001b[39m*\u001b[39m\u001b[39m*\u001b[39mkwds)\n\u001b[1;32m    559\u001b[0m     fcpl \u001b[39m=\u001b[39m make_fcpl(track_order\u001b[39m=\u001b[39mtrack_order, fs_strategy\u001b[39m=\u001b[39mfs_strategy,\n\u001b[1;32m    560\u001b[0m                      fs_persist\u001b[39m=\u001b[39mfs_persist, fs_threshold\u001b[39m=\u001b[39mfs_threshold,\n\u001b[1;32m    561\u001b[0m                      fs_page_size\u001b[39m=\u001b[39mfs_page_size)\n\u001b[0;32m--> 562\u001b[0m     fid \u001b[39m=\u001b[39m make_fid(name, mode, userblock_size, fapl, fcpl, swmr\u001b[39m=\u001b[39;49mswmr)\n\u001b[1;32m    564\u001b[0m \u001b[39mif\u001b[39;00m \u001b[39misinstance\u001b[39m(libver, \u001b[39mtuple\u001b[39m):\n\u001b[1;32m    565\u001b[0m     \u001b[39mself\u001b[39m\u001b[39m.\u001b[39m_libver \u001b[39m=\u001b[39m libver\n",
      "File \u001b[0;32m~/.local/lib/python3.10/site-packages/h5py/_hl/files.py:235\u001b[0m, in \u001b[0;36mmake_fid\u001b[0;34m(name, mode, userblock_size, fapl, fcpl, swmr)\u001b[0m\n\u001b[1;32m    233\u001b[0m     \u001b[39mif\u001b[39;00m swmr \u001b[39mand\u001b[39;00m swmr_support:\n\u001b[1;32m    234\u001b[0m         flags \u001b[39m|\u001b[39m\u001b[39m=\u001b[39m h5f\u001b[39m.\u001b[39mACC_SWMR_READ\n\u001b[0;32m--> 235\u001b[0m     fid \u001b[39m=\u001b[39m h5f\u001b[39m.\u001b[39;49mopen(name, flags, fapl\u001b[39m=\u001b[39;49mfapl)\n\u001b[1;32m    236\u001b[0m \u001b[39melif\u001b[39;00m mode \u001b[39m==\u001b[39m \u001b[39m'\u001b[39m\u001b[39mr+\u001b[39m\u001b[39m'\u001b[39m:\n\u001b[1;32m    237\u001b[0m     fid \u001b[39m=\u001b[39m h5f\u001b[39m.\u001b[39mopen(name, h5f\u001b[39m.\u001b[39mACC_RDWR, fapl\u001b[39m=\u001b[39mfapl)\n",
      "File \u001b[0;32mh5py/_objects.pyx:54\u001b[0m, in \u001b[0;36mh5py._objects.with_phil.wrapper\u001b[0;34m()\u001b[0m\n",
      "File \u001b[0;32mh5py/_objects.pyx:55\u001b[0m, in \u001b[0;36mh5py._objects.with_phil.wrapper\u001b[0;34m()\u001b[0m\n",
      "File \u001b[0;32mh5py/h5f.pyx:102\u001b[0m, in \u001b[0;36mh5py.h5f.open\u001b[0;34m()\u001b[0m\n",
      "\u001b[0;31mOSError\u001b[0m: Unable to synchronously open file (file signature not found)"
     ]
    }
   ],
   "source": [
    "from pyhdf import SD\n",
    " \n",
    "# HDF file and SDS names\n",
    "FILE_NAME = \"epam_2023.hdf\"\n",
    "SDS_NAME  = \"Optical_Depth_Land_And_Ocean\"\n",
    " \n",
    "# open the hdf file\n",
    "hdf = SD.SD(FILE_NAME)\n",
    " \n",
    "# select and read the sds data\n",
    "sds = hdf.select(SDS_NAME)\n",
    "data = sds.get()\n",
    " \n",
    "# get dataset dimensions\n",
    "nrows, ncols = data.shape  # data.shape: (3712, 3712) in the SEVIRI AER-OC example, 203\n",
    "print data.shape # data.shape: (3712, 3712) in the SEVIRI AER-OC example, (203, 135)\n",
    " \n",
    "i=200 # row index\n",
    "j=125 # col index\n",
    "print data[200,125]\n",
    " \n",
    "# Terminate access to the data set\n",
    "sds.endaccess()\n",
    " \n",
    "# Terminate access to the SD interface and close the file\n",
    "hdf.end()"
   ]
  },
  {
   "cell_type": "code",
   "execution_count": 3,
   "metadata": {},
   "outputs": [
    {
     "name": "stdout",
     "output_type": "stream",
     "text": [
      "Downloading https://cdaweb.gsfc.nasa.gov/sp_phys/data/ace/sis/level_2_cdaweb/sis_h1/2022/ac_h1_sis_20220112_v06.cdf to ./hola.cdf\n"
     ]
    },
    {
     "name": "stderr",
     "output_type": "stream",
     "text": [
      "100%|██████████| 106025/106025 [00:00<00:00, 160843.74it/s]\n"
     ]
    }
   ],
   "source": [
    "from torchvision.datasets.utils import download_url\n",
    "download_url('https://cdaweb.gsfc.nasa.gov/sp_phys/data/ace/sis/level_2_cdaweb/sis_h1/2022/ac_h1_sis_20220112_v06.cdf', './', 'hola.cdf')"
   ]
  },
  {
   "cell_type": "code",
   "execution_count": 1,
   "metadata": {},
   "outputs": [
    {
     "name": "stdout",
     "output_type": "stream",
     "text": [
      "https://cdaweb.gsfc.nasa.gov/sp_phys/data/ace/sis/level_2_cdaweb/sis_h1/1997/ac_h1_sis_19970829_v04.cdf\n",
      "Downloading https://cdaweb.gsfc.nasa.gov/sp_phys/data/ace/sis/level_2_cdaweb/sis_h1/1997/ac_h1_sis_19970829_v04.cdf to ./data/ACE/SIS/temp/19970829.cdf\n"
     ]
    },
    {
     "name": "stderr",
     "output_type": "stream",
     "text": [
      "100%|██████████| 392051/392051 [00:00<00:00, 455082.02it/s]\n"
     ]
    },
    {
     "ename": "KeyError",
     "evalue": "'Electron_hi: NO_SUCH_VAR: Named variable not found in this CDF.'",
     "output_type": "error",
     "traceback": [
      "\u001b[0;31m---------------------------------------------------------------------------\u001b[0m",
      "\u001b[0;31mCDFError\u001b[0m                                  Traceback (most recent call last)",
      "File \u001b[0;32m~/.local/lib/python3.10/site-packages/spacepy/pycdf/__init__.py:1839\u001b[0m, in \u001b[0;36mCDF.__getitem__\u001b[0;34m(self, name)\u001b[0m\n\u001b[1;32m   1838\u001b[0m \u001b[39mtry\u001b[39;00m:\n\u001b[0;32m-> 1839\u001b[0m     \u001b[39mreturn\u001b[39;00m Var(\u001b[39mself\u001b[39;49m, name)\n\u001b[1;32m   1840\u001b[0m \u001b[39mexcept\u001b[39;00m CDFException \u001b[39mas\u001b[39;00m e:\n",
      "File \u001b[0;32m~/.local/lib/python3.10/site-packages/spacepy/pycdf/__init__.py:3130\u001b[0m, in \u001b[0;36mVar.__init__\u001b[0;34m(self, cdf_file, var_name, *args)\u001b[0m\n\u001b[1;32m   3129\u001b[0m \u001b[39mif\u001b[39;00m \u001b[39mlen\u001b[39m(args) \u001b[39m==\u001b[39m \u001b[39m0\u001b[39m:\n\u001b[0;32m-> 3130\u001b[0m     \u001b[39mself\u001b[39;49m\u001b[39m.\u001b[39;49m_get(var_name)\n\u001b[1;32m   3131\u001b[0m \u001b[39melse\u001b[39;00m:\n",
      "File \u001b[0;32m~/.local/lib/python3.10/site-packages/spacepy/pycdf/__init__.py:3444\u001b[0m, in \u001b[0;36mVar._get\u001b[0;34m(self, var_name)\u001b[0m\n\u001b[1;32m   3443\u001b[0m varNum \u001b[39m=\u001b[39m ctypes\u001b[39m.\u001b[39mc_long(\u001b[39m0\u001b[39m)\n\u001b[0;32m-> 3444\u001b[0m \u001b[39mself\u001b[39;49m\u001b[39m.\u001b[39;49mcdf_file\u001b[39m.\u001b[39;49m_call(const\u001b[39m.\u001b[39;49mGET_, const\u001b[39m.\u001b[39;49mzVAR_NUMBER_, enc_name, ctypes\u001b[39m.\u001b[39;49mbyref(varNum))\n\u001b[1;32m   3445\u001b[0m \u001b[39mself\u001b[39m\u001b[39m.\u001b[39m_name \u001b[39m=\u001b[39m enc_name\n",
      "File \u001b[0;32m~/.local/lib/python3.10/site-packages/spacepy/pycdf/__init__.py:2067\u001b[0m, in \u001b[0;36mCDF._call\u001b[0;34m(self, *args, **kwargs)\u001b[0m\n\u001b[1;32m   2041\u001b[0m \u001b[39m\u001b[39m\u001b[39m\"\"\"Select this CDF as current and call the CDF internal interface\u001b[39;00m\n\u001b[1;32m   2042\u001b[0m \n\u001b[1;32m   2043\u001b[0m \u001b[39mAdds call to select this CDF to L{args} and passes all parameters\u001b[39;00m\n\u001b[0;32m   (...)\u001b[0m\n\u001b[1;32m   2065\u001b[0m \u001b[39m             is set to error on warnings.\u001b[39;00m\n\u001b[1;32m   2066\u001b[0m \u001b[39m\"\"\"\u001b[39;00m\n\u001b[0;32m-> 2067\u001b[0m \u001b[39mreturn\u001b[39;00m lib\u001b[39m.\u001b[39;49mcall(const\u001b[39m.\u001b[39;49mSELECT_, const\u001b[39m.\u001b[39;49mCDF_, \u001b[39mself\u001b[39;49m\u001b[39m.\u001b[39;49m_handle,\n\u001b[1;32m   2068\u001b[0m                 \u001b[39m*\u001b[39;49margs, \u001b[39m*\u001b[39;49m\u001b[39m*\u001b[39;49mkwargs)\n",
      "File \u001b[0;32m~/.local/lib/python3.10/site-packages/spacepy/pycdf/__init__.py:637\u001b[0m, in \u001b[0;36mLibrary.call\u001b[0;34m(self, *args, **kwargs)\u001b[0m\n\u001b[1;32m    636\u001b[0m \u001b[39melse\u001b[39;00m:\n\u001b[0;32m--> 637\u001b[0m     \u001b[39mreturn\u001b[39;00m \u001b[39mself\u001b[39;49m\u001b[39m.\u001b[39;49mcheck_status(\u001b[39mself\u001b[39;49m\u001b[39m.\u001b[39;49m_library\u001b[39m.\u001b[39;49mCDFlib(\n\u001b[1;32m    638\u001b[0m         \u001b[39m*\u001b[39;49m(args \u001b[39m+\u001b[39;49m (const\u001b[39m.\u001b[39;49mNULL_, ))\n\u001b[1;32m    639\u001b[0m         ))\n",
      "File \u001b[0;32m~/.local/lib/python3.10/site-packages/spacepy/pycdf/__init__.py:590\u001b[0m, in \u001b[0;36mLibrary.check_status\u001b[0;34m(self, status, ignore)\u001b[0m\n\u001b[1;32m    589\u001b[0m \u001b[39mif\u001b[39;00m status \u001b[39m<\u001b[39m const\u001b[39m.\u001b[39mCDF_WARN:\n\u001b[0;32m--> 590\u001b[0m     \u001b[39mraise\u001b[39;00m CDFError(status)\n\u001b[1;32m    591\u001b[0m \u001b[39melse\u001b[39;00m:\n",
      "\u001b[0;31mCDFError\u001b[0m: NO_SUCH_VAR: Named variable not found in this CDF.",
      "\nDuring handling of the above exception, another exception occurred:\n",
      "\u001b[0;31mKeyError\u001b[0m                                  Traceback (most recent call last)",
      "\u001b[1;32m/home/jenci/Desktop/SMFGF-SpaceApps/preprocessing.ipynb Cell 5\u001b[0m line \u001b[0;36m5\n\u001b[1;32m      <a href='vscode-notebook-cell:/home/jenci/Desktop/SMFGF-SpaceApps/preprocessing.ipynb#W3sZmlsZQ%3D%3D?line=2'>3</a>\u001b[0m ace \u001b[39m=\u001b[39m ACE()\n\u001b[1;32m      <a href='vscode-notebook-cell:/home/jenci/Desktop/SMFGF-SpaceApps/preprocessing.ipynb#W3sZmlsZQ%3D%3D?line=3'>4</a>\u001b[0m scrap_date \u001b[39m=\u001b[39m interval_time(\u001b[39m'\u001b[39m\u001b[39m19970829\u001b[39m\u001b[39m'\u001b[39m, \u001b[39m'\u001b[39m\u001b[39m20231109\u001b[39m\u001b[39m'\u001b[39m, mode \u001b[39m=\u001b[39m \u001b[39m'\u001b[39m\u001b[39m%\u001b[39m\u001b[39mY\u001b[39m\u001b[39m%\u001b[39m\u001b[39mm\u001b[39m\u001b[39m%d\u001b[39;00m\u001b[39m'\u001b[39m)\n\u001b[0;32m----> <a href='vscode-notebook-cell:/home/jenci/Desktop/SMFGF-SpaceApps/preprocessing.ipynb#W3sZmlsZQ%3D%3D?line=4'>5</a>\u001b[0m ace\u001b[39m.\u001b[39;49mSIS(scrap_date)\n",
      "File \u001b[0;32m~/Desktop/SMFGF-SpaceApps/data/preprocessing.py:54\u001b[0m, in \u001b[0;36mACE.SIS\u001b[0;34m(self, scrap_date)\u001b[0m\n\u001b[1;32m     52\u001b[0m variable_data \u001b[39m=\u001b[39m {}\n\u001b[1;32m     53\u001b[0m \u001b[39mfor\u001b[39;00m variable_name \u001b[39min\u001b[39;00m variables:\n\u001b[0;32m---> 54\u001b[0m     variable_data[variable_name] \u001b[39m=\u001b[39m cdf_file[variable_name][\u001b[39m.\u001b[39m\u001b[39m.\u001b[39m\u001b[39m.\u001b[39m]\n\u001b[1;32m     56\u001b[0m cdf_file\u001b[39m.\u001b[39mclose()\n\u001b[1;32m     58\u001b[0m \u001b[39mwith\u001b[39;00m \u001b[39mopen\u001b[39m(csv_file, \u001b[39m'\u001b[39m\u001b[39ma\u001b[39m\u001b[39m'\u001b[39m, newline\u001b[39m=\u001b[39m\u001b[39m'\u001b[39m\u001b[39m'\u001b[39m) \u001b[39mas\u001b[39;00m csvfile:\n",
      "File \u001b[0;32m~/.local/lib/python3.10/site-packages/spacepy/pycdf/__init__.py:1841\u001b[0m, in \u001b[0;36mCDF.__getitem__\u001b[0;34m(self, name)\u001b[0m\n\u001b[1;32m   1839\u001b[0m     \u001b[39mreturn\u001b[39;00m Var(\u001b[39mself\u001b[39m, name)\n\u001b[1;32m   1840\u001b[0m \u001b[39mexcept\u001b[39;00m CDFException \u001b[39mas\u001b[39;00m e:\n\u001b[0;32m-> 1841\u001b[0m     \u001b[39mraise\u001b[39;00m \u001b[39mKeyError\u001b[39;00m(\u001b[39m'\u001b[39m\u001b[39m{0}\u001b[39;00m\u001b[39m: \u001b[39m\u001b[39m{1}\u001b[39;00m\u001b[39m'\u001b[39m\u001b[39m.\u001b[39mformat(name, e))\n",
      "\u001b[0;31mKeyError\u001b[0m: 'Electron_hi: NO_SUCH_VAR: Named variable not found in this CDF.'"
     ]
    }
   ],
   "source": [
    "from data.preprocessing import ACE, interval_time\n",
    "\n",
    "asdf\n",
    "ace = ACE()\n",
    "scrap_date = interval_time('19970829', '20231109', mode = '%Y%m%d')\n",
    "ace.SIS(scrap_date)"
   ]
  },
  {
   "cell_type": "code",
   "execution_count": 1,
   "metadata": {},
   "outputs": [
    {
     "name": "stderr",
     "output_type": "stream",
     "text": [
      "/home/jenci/Desktop/SMFGF-SpaceApps/data/preprocessing.py:93: DtypeWarning: Columns (0) have mixed types. Specify dtype option on import or set low_memory=False.\n",
      "  df = pd.read_csv(csv_file)\n",
      "/home/jenci/Desktop/SMFGF-SpaceApps/data/preprocessing.py:94: UserWarning: The argument 'infer_datetime_format' is deprecated and will be removed in a future version. A strict version of it is now the default, see https://pandas.pydata.org/pdeps/0004-consistent-to-datetime-parsing.html. You can safely remove this argument.\n",
      "  df['datetime'] = pd.to_datetime(df[['year', 'day', 'hr', 'min', 'sec']], infer_datetime_format=True)\n"
     ]
    },
    {
     "ename": "ValueError",
     "evalue": "to assemble mappings requires at least that [year, month, day] be specified: [month] is missing",
     "output_type": "error",
     "traceback": [
      "\u001b[0;31m---------------------------------------------------------------------------\u001b[0m",
      "\u001b[0;31mValueError\u001b[0m                                Traceback (most recent call last)",
      "\u001b[1;32m/home/jenci/Desktop/SMFGF-SpaceApps/preprocessing.ipynb Cell 6\u001b[0m line \u001b[0;36m2\n\u001b[1;32m      <a href='vscode-notebook-cell:/home/jenci/Desktop/SMFGF-SpaceApps/preprocessing.ipynb#X25sZmlsZQ%3D%3D?line=0'>1</a>\u001b[0m \u001b[39mfrom\u001b[39;00m \u001b[39mdata\u001b[39;00m\u001b[39m.\u001b[39;00m\u001b[39mpreprocessing\u001b[39;00m \u001b[39mimport\u001b[39;00m MAG_preprocessing\n\u001b[0;32m----> <a href='vscode-notebook-cell:/home/jenci/Desktop/SMFGF-SpaceApps/preprocessing.ipynb#X25sZmlsZQ%3D%3D?line=1'>2</a>\u001b[0m mag \u001b[39m=\u001b[39m MAG_preprocessing()\n",
      "File \u001b[0;32m~/Desktop/SMFGF-SpaceApps/data/preprocessing.py:94\u001b[0m, in \u001b[0;36mMAG_preprocessing\u001b[0;34m()\u001b[0m\n\u001b[1;32m     92\u001b[0m             csv_writer\u001b[39m.\u001b[39mwriterow(row)\n\u001b[1;32m     93\u001b[0m df \u001b[39m=\u001b[39m pd\u001b[39m.\u001b[39mread_csv(csv_file)\n\u001b[0;32m---> 94\u001b[0m df[\u001b[39m'\u001b[39m\u001b[39mdatetime\u001b[39m\u001b[39m'\u001b[39m] \u001b[39m=\u001b[39m pd\u001b[39m.\u001b[39;49mto_datetime(df[[\u001b[39m'\u001b[39;49m\u001b[39myear\u001b[39;49m\u001b[39m'\u001b[39;49m, \u001b[39m'\u001b[39;49m\u001b[39mday\u001b[39;49m\u001b[39m'\u001b[39;49m, \u001b[39m'\u001b[39;49m\u001b[39mhr\u001b[39;49m\u001b[39m'\u001b[39;49m, \u001b[39m'\u001b[39;49m\u001b[39mmin\u001b[39;49m\u001b[39m'\u001b[39;49m, \u001b[39m'\u001b[39;49m\u001b[39msec\u001b[39;49m\u001b[39m'\u001b[39;49m]], infer_datetime_format\u001b[39m=\u001b[39;49m\u001b[39mTrue\u001b[39;49;00m)\n\u001b[1;32m     95\u001b[0m df\u001b[39m.\u001b[39mdrop([\u001b[39m'\u001b[39m\u001b[39myear\u001b[39m\u001b[39m'\u001b[39m, \u001b[39m'\u001b[39m\u001b[39mday\u001b[39m\u001b[39m'\u001b[39m, \u001b[39m'\u001b[39m\u001b[39mhr\u001b[39m\u001b[39m'\u001b[39m, \u001b[39m'\u001b[39m\u001b[39mmin\u001b[39m\u001b[39m'\u001b[39m, \u001b[39m'\u001b[39m\u001b[39msec\u001b[39m\u001b[39m'\u001b[39m], axis\u001b[39m=\u001b[39m\u001b[39m1\u001b[39m, inplace\u001b[39m=\u001b[39m\u001b[39mTrue\u001b[39;00m)\n\u001b[1;32m     96\u001b[0m df\u001b[39m.\u001b[39mset_index(\u001b[39m'\u001b[39m\u001b[39mdatetime\u001b[39m\u001b[39m'\u001b[39m, drop \u001b[39m=\u001b[39m \u001b[39mTrue\u001b[39;00m, inplace \u001b[39m=\u001b[39m \u001b[39mTrue\u001b[39;00m)\n",
      "File \u001b[0;32m~/.local/lib/python3.10/site-packages/pandas/core/tools/datetimes.py:1115\u001b[0m, in \u001b[0;36mto_datetime\u001b[0;34m(arg, errors, dayfirst, yearfirst, utc, format, exact, unit, infer_datetime_format, origin, cache)\u001b[0m\n\u001b[1;32m   1113\u001b[0m         result \u001b[39m=\u001b[39m arg\u001b[39m.\u001b[39m_constructor(values, index\u001b[39m=\u001b[39marg\u001b[39m.\u001b[39mindex, name\u001b[39m=\u001b[39marg\u001b[39m.\u001b[39mname)\n\u001b[1;32m   1114\u001b[0m \u001b[39melif\u001b[39;00m \u001b[39misinstance\u001b[39m(arg, (ABCDataFrame, abc\u001b[39m.\u001b[39mMutableMapping)):\n\u001b[0;32m-> 1115\u001b[0m     result \u001b[39m=\u001b[39m _assemble_from_unit_mappings(arg, errors, utc)\n\u001b[1;32m   1116\u001b[0m \u001b[39melif\u001b[39;00m \u001b[39misinstance\u001b[39m(arg, Index):\n\u001b[1;32m   1117\u001b[0m     cache_array \u001b[39m=\u001b[39m _maybe_cache(arg, \u001b[39mformat\u001b[39m, cache, convert_listlike)\n",
      "File \u001b[0;32m~/.local/lib/python3.10/site-packages/pandas/core/tools/datetimes.py:1231\u001b[0m, in \u001b[0;36m_assemble_from_unit_mappings\u001b[0;34m(arg, errors, utc)\u001b[0m\n\u001b[1;32m   1229\u001b[0m \u001b[39mif\u001b[39;00m \u001b[39mlen\u001b[39m(req):\n\u001b[1;32m   1230\u001b[0m     _required \u001b[39m=\u001b[39m \u001b[39m\"\u001b[39m\u001b[39m,\u001b[39m\u001b[39m\"\u001b[39m\u001b[39m.\u001b[39mjoin(req)\n\u001b[0;32m-> 1231\u001b[0m     \u001b[39mraise\u001b[39;00m \u001b[39mValueError\u001b[39;00m(\n\u001b[1;32m   1232\u001b[0m         \u001b[39m\"\u001b[39m\u001b[39mto assemble mappings requires at least that \u001b[39m\u001b[39m\"\u001b[39m\n\u001b[1;32m   1233\u001b[0m         \u001b[39mf\u001b[39m\u001b[39m\"\u001b[39m\u001b[39m[year, month, day] be specified: [\u001b[39m\u001b[39m{\u001b[39;00m_required\u001b[39m}\u001b[39;00m\u001b[39m] is missing\u001b[39m\u001b[39m\"\u001b[39m\n\u001b[1;32m   1234\u001b[0m     )\n\u001b[1;32m   1236\u001b[0m \u001b[39m# keys we don't recognize\u001b[39;00m\n\u001b[1;32m   1237\u001b[0m excess \u001b[39m=\u001b[39m \u001b[39msorted\u001b[39m(\u001b[39mset\u001b[39m(unit_rev\u001b[39m.\u001b[39mkeys()) \u001b[39m-\u001b[39m \u001b[39mset\u001b[39m(_unit_map\u001b[39m.\u001b[39mvalues()))\n",
      "\u001b[0;31mValueError\u001b[0m: to assemble mappings requires at least that [year, month, day] be specified: [month] is missing"
     ]
    }
   ],
   "source": [
    "from data.preprocessing import MAG_preprocessing\n",
    "mag = MAG_preprocessing()\n",
    "\n"
   ]
  },
  {
   "cell_type": "code",
   "execution_count": 6,
   "metadata": {},
   "outputs": [
    {
     "data": {
      "text/plain": [
       "<CDF:\n",
       "Alpha_Na_nonlin: CDF_FLOAT [190]\n",
       "Alpha_VX_nonlin: CDF_FLOAT [190]\n",
       "Alpha_VY_nonlin: CDF_FLOAT [190]\n",
       "Alpha_VZ_nonlin: CDF_FLOAT [190]\n",
       "Alpha_V_nonlin: CDF_FLOAT [190]\n",
       "Alpha_W_nonlin: CDF_FLOAT [190]\n",
       "Alpha_Wpar_nonlin: CDF_FLOAT [190]\n",
       "Alpha_Wperp_nonlin: CDF_FLOAT [190]\n",
       "Alpha_sigmaNa_nonlin: CDF_FLOAT [190]\n",
       "Alpha_sigmaVX_nonlin: CDF_FLOAT [190]\n",
       "Alpha_sigmaVY_nonlin: CDF_FLOAT [190]\n",
       "Alpha_sigmaVZ_nonlin: CDF_FLOAT [190]\n",
       "Alpha_sigmaV_nonlin: CDF_FLOAT [190]\n",
       "Alpha_sigmaW_nonlin: CDF_FLOAT [190]\n",
       "Alpha_sigmaWpar_nonlin: CDF_FLOAT [190]\n",
       "Alpha_sigmaWperp_nonlin: CDF_FLOAT [190]\n",
       "Ang_dev: CDF_FLOAT [190]\n",
       "BX: CDF_FLOAT [190]\n",
       "BY: CDF_FLOAT [190]\n",
       "BZ: CDF_FLOAT [190]\n",
       "ChisQ_DOF_nonlin: CDF_FLOAT [190]\n",
       "EW_flowangle: CDF_FLOAT [190]\n",
       "Epoch: CDF_EPOCH [190]\n",
       "NS_flowangle: CDF_FLOAT [190]\n",
       "Peak_doy: CDF_DOUBLE [190]\n",
       "Proton_Np_moment: CDF_FLOAT [190]\n",
       "Proton_Np_nonlin: CDF_FLOAT [190]\n",
       "Proton_VX_moment: CDF_FLOAT [190]\n",
       "Proton_VX_nonlin: CDF_FLOAT [190]\n",
       "Proton_VY_moment: CDF_FLOAT [190]\n",
       "Proton_VY_nonlin: CDF_FLOAT [190]\n",
       "Proton_VZ_moment: CDF_FLOAT [190]\n",
       "Proton_VZ_nonlin: CDF_FLOAT [190]\n",
       "Proton_V_moment: CDF_FLOAT [190]\n",
       "Proton_V_nonlin: CDF_FLOAT [190]\n",
       "Proton_W_moment: CDF_FLOAT [190]\n",
       "Proton_W_nonlin: CDF_FLOAT [190]\n",
       "Proton_Wpar_moment: CDF_FLOAT [190]\n",
       "Proton_Wpar_nonlin: CDF_FLOAT [190]\n",
       "Proton_Wperp_moment: CDF_FLOAT [190]\n",
       "Proton_Wperp_nonlin: CDF_FLOAT [190]\n",
       "Proton_sigmaNp_nonlin: CDF_FLOAT [190]\n",
       "Proton_sigmaVX_nonlin: CDF_FLOAT [190]\n",
       "Proton_sigmaVY_nonlin: CDF_FLOAT [190]\n",
       "Proton_sigmaVZ_nonlin: CDF_FLOAT [190]\n",
       "Proton_sigmaV_nonlin: CDF_FLOAT [190]\n",
       "Proton_sigmaW_nonlin: CDF_FLOAT [190]\n",
       "Proton_sigmaWpar_nonlin: CDF_FLOAT [190]\n",
       "Proton_sigmaWperp_nonlin: CDF_FLOAT [190]\n",
       "SigmaEW_flowangle: CDF_FLOAT [190]\n",
       "SigmaNS_flowangle: CDF_FLOAT [190]\n",
       "dev: CDF_FLOAT [190]\n",
       "doy: CDF_FLOAT [190]\n",
       "fit_flag: CDF_INT1 [190]\n",
       "sigmaPeak_doy: CDF_DOUBLE [190]\n",
       "xgse: CDF_FLOAT [190]\n",
       "year: CDF_INT1 [190]\n",
       "ygse: CDF_FLOAT [190]\n",
       "ygsm: CDF_FLOAT [190]\n",
       "zgse: CDF_FLOAT [190]\n",
       "zgsm: CDF_FLOAT [190]\n",
       ">"
      ]
     },
     "execution_count": 6,
     "metadata": {},
     "output_type": "execute_result"
    }
   ],
   "source": [
    "import spacepy.pycdf\n",
    "\n",
    "# Open the CDF file\n",
    "cdf = spacepy.pycdf.CDF('SWE/wi_h1_swe_19941117_v01.cdf')  # Replace 'your_file.cdf' with the path to your CDF file\n",
    "\n",
    "['Epoch', 'Proton_V_nonlin', 'Proton_VX_nonlin', 'Proton_VY_nonlin', 'Proton_VZ_nonlin', 'Proton_Np_nonlin', 'Proton_Np_nonlin_log', 'Alpha_V_nonlin', 'Alpha_VX_nonlin',\n",
    " 'Alpha_VY_nonlin', 'Alpha_VZ_nonlin', 'Alpha_Na_nonlin', 'Alpha_Na_nonlin_log', 'xgse', 'ygse','zgse']\n",
    "\n",
    "# Get a list of all variable names in the CDF file\n",
    "cdf"
   ]
  },
  {
   "cell_type": "code",
   "execution_count": 61,
   "metadata": {},
   "outputs": [
    {
     "data": {
      "text/plain": [
       "['Epoch',\n",
       " 'P7',\n",
       " 'P8',\n",
       " 'DE1',\n",
       " 'DE2',\n",
       " 'DE3',\n",
       " 'DE4',\n",
       " 'W3',\n",
       " 'W4',\n",
       " 'W5',\n",
       " 'W6',\n",
       " 'W7',\n",
       " 'W8',\n",
       " 'E1p',\n",
       " 'E2p',\n",
       " 'E3p',\n",
       " 'E4p',\n",
       " 'FP5p',\n",
       " 'FP6p',\n",
       " 'FP7p',\n",
       " 'Z2',\n",
       " 'Z2A',\n",
       " 'Z3',\n",
       " 'Z4',\n",
       " 'P1p',\n",
       " 'P2p',\n",
       " 'P3p',\n",
       " 'P4p',\n",
       " 'P5p',\n",
       " 'P6p',\n",
       " 'P7p',\n",
       " 'P8p',\n",
       " 'E4',\n",
       " 'FP5',\n",
       " 'FP6',\n",
       " 'FP7']"
      ]
     },
     "execution_count": 61,
     "metadata": {},
     "output_type": "execute_result"
    }
   ],
   "source": [
    "variables"
   ]
  },
  {
   "cell_type": "code",
   "execution_count": null,
   "metadata": {},
   "outputs": [],
   "source": []
  },
  {
   "cell_type": "code",
   "execution_count": 2,
   "metadata": {},
   "outputs": [
    {
     "data": {
      "text/plain": [
       "<CDF:\n",
       "Epoch: CDF_EPOCH [337]\n",
       "Time_PB5: CDF_INT4 [0, 3]\n",
       "cnt_Al: CDF_REAL4 [0, 8]\n",
       "cnt_Ar: CDF_REAL4 [337, 8]\n",
       "cnt_C: CDF_REAL4 [337, 8]\n",
       "cnt_Ca: CDF_REAL4 [337, 8]\n",
       "cnt_Fe: CDF_REAL4 [337, 8]\n",
       "cnt_He: CDF_REAL4 [337, 8]\n",
       "cnt_Mg: CDF_REAL4 [337, 8]\n",
       "cnt_N: CDF_REAL4 [337, 8]\n",
       "cnt_Na: CDF_REAL4 [337, 8]\n",
       "cnt_Ne: CDF_REAL4 [337, 8]\n",
       "cnt_Ni: CDF_REAL4 [337, 8]\n",
       "cnt_O: CDF_REAL4 [337, 8]\n",
       "cnt_S: CDF_REAL4 [337, 8]\n",
       "cnt_Si: CDF_REAL4 [337, 8]\n",
       "flux_Al: CDF_REAL4 [337, 8]\n",
       "flux_Ar: CDF_REAL4 [337, 8]\n",
       "flux_C: CDF_REAL4 [337, 8]\n",
       "flux_Ca: CDF_REAL4 [337, 8]\n",
       "flux_Fe: CDF_REAL4 [337, 8]\n",
       "flux_He: CDF_REAL4 [337, 8]\n",
       "flux_Mg: CDF_REAL4 [337, 8]\n",
       "flux_N: CDF_REAL4 [337, 8]\n",
       "flux_Na: CDF_REAL4 [337, 8]\n",
       "flux_Ne: CDF_REAL4 [337, 8]\n",
       "flux_Ni: CDF_REAL4 [337, 8]\n",
       "flux_O: CDF_REAL4 [337, 8]\n",
       "flux_S: CDF_REAL4 [337, 8]\n",
       "flux_Si: CDF_REAL4 [337, 8]\n",
       "format_time: CDF_CHAR*2 [3] NRV\n",
       "label_ebands_cnt_Al: CDF_CHAR*19 [8] NRV\n",
       "label_ebands_cnt_Ar: CDF_CHAR*19 [8] NRV\n",
       "label_ebands_cnt_C: CDF_CHAR*19 [8] NRV\n",
       "label_ebands_cnt_Ca: CDF_CHAR*19 [8] NRV\n",
       "label_ebands_cnt_Fe: CDF_CHAR*19 [8] NRV\n",
       "label_ebands_cnt_He: CDF_CHAR*19 [8] NRV\n",
       "label_ebands_cnt_Mg: CDF_CHAR*19 [8] NRV\n",
       "label_ebands_cnt_N: CDF_CHAR*19 [8] NRV\n",
       "label_ebands_cnt_Na: CDF_CHAR*19 [8] NRV\n",
       "label_ebands_cnt_Ne: CDF_CHAR*19 [8] NRV\n",
       "label_ebands_cnt_Ni: CDF_CHAR*19 [8] NRV\n",
       "label_ebands_cnt_O: CDF_CHAR*19 [8] NRV\n",
       "label_ebands_cnt_S: CDF_CHAR*19 [8] NRV\n",
       "label_ebands_cnt_Si: CDF_CHAR*19 [8] NRV\n",
       "label_ebands_flux_Al: CDF_CHAR*19 [8] NRV\n",
       "label_ebands_flux_Ar: CDF_CHAR*19 [8] NRV\n",
       "label_ebands_flux_C: CDF_CHAR*19 [8] NRV\n",
       "label_ebands_flux_Ca: CDF_CHAR*19 [8] NRV\n",
       "label_ebands_flux_Fe: CDF_CHAR*19 [8] NRV\n",
       "label_ebands_flux_He: CDF_CHAR*19 [8] NRV\n",
       "label_ebands_flux_Mg: CDF_CHAR*19 [8] NRV\n",
       "label_ebands_flux_N: CDF_CHAR*19 [8] NRV\n",
       "label_ebands_flux_Na: CDF_CHAR*19 [8] NRV\n",
       "label_ebands_flux_Ne: CDF_CHAR*19 [8] NRV\n",
       "label_ebands_flux_Ni: CDF_CHAR*19 [8] NRV\n",
       "label_ebands_flux_O: CDF_CHAR*19 [8] NRV\n",
       "label_ebands_flux_S: CDF_CHAR*19 [8] NRV\n",
       "label_ebands_flux_Si: CDF_CHAR*19 [8] NRV\n",
       "label_time: CDF_CHAR*27 [3] NRV\n",
       "unit_time: CDF_CHAR*4 [3] NRV\n",
       ">"
      ]
     },
     "execution_count": 2,
     "metadata": {},
     "output_type": "execute_result"
    }
   ],
   "source": [
    "cdf"
   ]
  },
  {
   "cell_type": "code",
   "execution_count": 22,
   "metadata": {},
   "outputs": [
    {
     "ename": "TypeError",
     "evalue": "agg function failed [how->mean,dtype->object]",
     "output_type": "error",
     "traceback": [
      "\u001b[0;31m---------------------------------------------------------------------------\u001b[0m",
      "\u001b[0;31mTypeError\u001b[0m                                 Traceback (most recent call last)",
      "File \u001b[0;32m~/.local/lib/python3.10/site-packages/pandas/core/groupby/groupby.py:1874\u001b[0m, in \u001b[0;36mGroupBy._agg_py_fallback\u001b[0;34m(self, how, values, ndim, alt)\u001b[0m\n\u001b[1;32m   1873\u001b[0m \u001b[39mtry\u001b[39;00m:\n\u001b[0;32m-> 1874\u001b[0m     res_values \u001b[39m=\u001b[39m \u001b[39mself\u001b[39;49m\u001b[39m.\u001b[39;49mgrouper\u001b[39m.\u001b[39;49magg_series(ser, alt, preserve_dtype\u001b[39m=\u001b[39;49m\u001b[39mTrue\u001b[39;49;00m)\n\u001b[1;32m   1875\u001b[0m \u001b[39mexcept\u001b[39;00m \u001b[39mException\u001b[39;00m \u001b[39mas\u001b[39;00m err:\n",
      "File \u001b[0;32m~/.local/lib/python3.10/site-packages/pandas/core/groupby/ops.py:850\u001b[0m, in \u001b[0;36mBaseGrouper.agg_series\u001b[0;34m(self, obj, func, preserve_dtype)\u001b[0m\n\u001b[1;32m    848\u001b[0m     preserve_dtype \u001b[39m=\u001b[39m \u001b[39mTrue\u001b[39;00m\n\u001b[0;32m--> 850\u001b[0m result \u001b[39m=\u001b[39m \u001b[39mself\u001b[39;49m\u001b[39m.\u001b[39;49m_aggregate_series_pure_python(obj, func)\n\u001b[1;32m    852\u001b[0m npvalues \u001b[39m=\u001b[39m lib\u001b[39m.\u001b[39mmaybe_convert_objects(result, try_float\u001b[39m=\u001b[39m\u001b[39mFalse\u001b[39;00m)\n",
      "File \u001b[0;32m~/.local/lib/python3.10/site-packages/pandas/core/groupby/ops.py:871\u001b[0m, in \u001b[0;36mBaseGrouper._aggregate_series_pure_python\u001b[0;34m(self, obj, func)\u001b[0m\n\u001b[1;32m    870\u001b[0m \u001b[39mfor\u001b[39;00m i, group \u001b[39min\u001b[39;00m \u001b[39menumerate\u001b[39m(splitter):\n\u001b[0;32m--> 871\u001b[0m     res \u001b[39m=\u001b[39m func(group)\n\u001b[1;32m    872\u001b[0m     res \u001b[39m=\u001b[39m extract_result(res)\n",
      "File \u001b[0;32m~/.local/lib/python3.10/site-packages/pandas/core/groupby/groupby.py:2380\u001b[0m, in \u001b[0;36mGroupBy.mean.<locals>.<lambda>\u001b[0;34m(x)\u001b[0m\n\u001b[1;32m   2377\u001b[0m \u001b[39melse\u001b[39;00m:\n\u001b[1;32m   2378\u001b[0m     result \u001b[39m=\u001b[39m \u001b[39mself\u001b[39m\u001b[39m.\u001b[39m_cython_agg_general(\n\u001b[1;32m   2379\u001b[0m         \u001b[39m\"\u001b[39m\u001b[39mmean\u001b[39m\u001b[39m\"\u001b[39m,\n\u001b[0;32m-> 2380\u001b[0m         alt\u001b[39m=\u001b[39m\u001b[39mlambda\u001b[39;00m x: Series(x)\u001b[39m.\u001b[39;49mmean(numeric_only\u001b[39m=\u001b[39;49mnumeric_only),\n\u001b[1;32m   2381\u001b[0m         numeric_only\u001b[39m=\u001b[39mnumeric_only,\n\u001b[1;32m   2382\u001b[0m     )\n\u001b[1;32m   2383\u001b[0m     \u001b[39mreturn\u001b[39;00m result\u001b[39m.\u001b[39m__finalize__(\u001b[39mself\u001b[39m\u001b[39m.\u001b[39mobj, method\u001b[39m=\u001b[39m\u001b[39m\"\u001b[39m\u001b[39mgroupby\u001b[39m\u001b[39m\"\u001b[39m)\n",
      "File \u001b[0;32m~/.local/lib/python3.10/site-packages/pandas/core/series.py:6221\u001b[0m, in \u001b[0;36mSeries.mean\u001b[0;34m(self, axis, skipna, numeric_only, **kwargs)\u001b[0m\n\u001b[1;32m   6213\u001b[0m \u001b[39m@doc\u001b[39m(make_doc(\u001b[39m\"\u001b[39m\u001b[39mmean\u001b[39m\u001b[39m\"\u001b[39m, ndim\u001b[39m=\u001b[39m\u001b[39m1\u001b[39m))\n\u001b[1;32m   6214\u001b[0m \u001b[39mdef\u001b[39;00m \u001b[39mmean\u001b[39m(\n\u001b[1;32m   6215\u001b[0m     \u001b[39mself\u001b[39m,\n\u001b[0;32m   (...)\u001b[0m\n\u001b[1;32m   6219\u001b[0m     \u001b[39m*\u001b[39m\u001b[39m*\u001b[39mkwargs,\n\u001b[1;32m   6220\u001b[0m ):\n\u001b[0;32m-> 6221\u001b[0m     \u001b[39mreturn\u001b[39;00m NDFrame\u001b[39m.\u001b[39;49mmean(\u001b[39mself\u001b[39;49m, axis, skipna, numeric_only, \u001b[39m*\u001b[39;49m\u001b[39m*\u001b[39;49mkwargs)\n",
      "File \u001b[0;32m~/.local/lib/python3.10/site-packages/pandas/core/generic.py:11984\u001b[0m, in \u001b[0;36mNDFrame.mean\u001b[0;34m(self, axis, skipna, numeric_only, **kwargs)\u001b[0m\n\u001b[1;32m  11977\u001b[0m \u001b[39mdef\u001b[39;00m \u001b[39mmean\u001b[39m(\n\u001b[1;32m  11978\u001b[0m     \u001b[39mself\u001b[39m,\n\u001b[1;32m  11979\u001b[0m     axis: Axis \u001b[39m|\u001b[39m \u001b[39mNone\u001b[39;00m \u001b[39m=\u001b[39m \u001b[39m0\u001b[39m,\n\u001b[0;32m   (...)\u001b[0m\n\u001b[1;32m  11982\u001b[0m     \u001b[39m*\u001b[39m\u001b[39m*\u001b[39mkwargs,\n\u001b[1;32m  11983\u001b[0m ) \u001b[39m-\u001b[39m\u001b[39m>\u001b[39m Series \u001b[39m|\u001b[39m \u001b[39mfloat\u001b[39m:\n\u001b[0;32m> 11984\u001b[0m     \u001b[39mreturn\u001b[39;00m \u001b[39mself\u001b[39;49m\u001b[39m.\u001b[39;49m_stat_function(\n\u001b[1;32m  11985\u001b[0m         \u001b[39m\"\u001b[39;49m\u001b[39mmean\u001b[39;49m\u001b[39m\"\u001b[39;49m, nanops\u001b[39m.\u001b[39;49mnanmean, axis, skipna, numeric_only, \u001b[39m*\u001b[39;49m\u001b[39m*\u001b[39;49mkwargs\n\u001b[1;32m  11986\u001b[0m     )\n",
      "File \u001b[0;32m~/.local/lib/python3.10/site-packages/pandas/core/generic.py:11941\u001b[0m, in \u001b[0;36mNDFrame._stat_function\u001b[0;34m(self, name, func, axis, skipna, numeric_only, **kwargs)\u001b[0m\n\u001b[1;32m  11939\u001b[0m validate_bool_kwarg(skipna, \u001b[39m\"\u001b[39m\u001b[39mskipna\u001b[39m\u001b[39m\"\u001b[39m, none_allowed\u001b[39m=\u001b[39m\u001b[39mFalse\u001b[39;00m)\n\u001b[0;32m> 11941\u001b[0m \u001b[39mreturn\u001b[39;00m \u001b[39mself\u001b[39;49m\u001b[39m.\u001b[39;49m_reduce(\n\u001b[1;32m  11942\u001b[0m     func, name\u001b[39m=\u001b[39;49mname, axis\u001b[39m=\u001b[39;49maxis, skipna\u001b[39m=\u001b[39;49mskipna, numeric_only\u001b[39m=\u001b[39;49mnumeric_only\n\u001b[1;32m  11943\u001b[0m )\n",
      "File \u001b[0;32m~/.local/lib/python3.10/site-packages/pandas/core/series.py:6129\u001b[0m, in \u001b[0;36mSeries._reduce\u001b[0;34m(self, op, name, axis, skipna, numeric_only, filter_type, **kwds)\u001b[0m\n\u001b[1;32m   6125\u001b[0m     \u001b[39mraise\u001b[39;00m \u001b[39mTypeError\u001b[39;00m(\n\u001b[1;32m   6126\u001b[0m         \u001b[39mf\u001b[39m\u001b[39m\"\u001b[39m\u001b[39mSeries.\u001b[39m\u001b[39m{\u001b[39;00mname\u001b[39m}\u001b[39;00m\u001b[39m does not allow \u001b[39m\u001b[39m{\u001b[39;00mkwd_name\u001b[39m}\u001b[39;00m\u001b[39m=\u001b[39m\u001b[39m{\u001b[39;00mnumeric_only\u001b[39m}\u001b[39;00m\u001b[39m \u001b[39m\u001b[39m\"\u001b[39m\n\u001b[1;32m   6127\u001b[0m         \u001b[39m\"\u001b[39m\u001b[39mwith non-numeric dtypes.\u001b[39m\u001b[39m\"\u001b[39m\n\u001b[1;32m   6128\u001b[0m     )\n\u001b[0;32m-> 6129\u001b[0m \u001b[39mreturn\u001b[39;00m op(delegate, skipna\u001b[39m=\u001b[39;49mskipna, \u001b[39m*\u001b[39;49m\u001b[39m*\u001b[39;49mkwds)\n",
      "File \u001b[0;32m~/.local/lib/python3.10/site-packages/pandas/core/nanops.py:147\u001b[0m, in \u001b[0;36mbottleneck_switch.__call__.<locals>.f\u001b[0;34m(values, axis, skipna, **kwds)\u001b[0m\n\u001b[1;32m    146\u001b[0m \u001b[39melse\u001b[39;00m:\n\u001b[0;32m--> 147\u001b[0m     result \u001b[39m=\u001b[39m alt(values, axis\u001b[39m=\u001b[39;49maxis, skipna\u001b[39m=\u001b[39;49mskipna, \u001b[39m*\u001b[39;49m\u001b[39m*\u001b[39;49mkwds)\n\u001b[1;32m    149\u001b[0m \u001b[39mreturn\u001b[39;00m result\n",
      "File \u001b[0;32m~/.local/lib/python3.10/site-packages/pandas/core/nanops.py:404\u001b[0m, in \u001b[0;36m_datetimelike_compat.<locals>.new_func\u001b[0;34m(values, axis, skipna, mask, **kwargs)\u001b[0m\n\u001b[1;32m    402\u001b[0m     mask \u001b[39m=\u001b[39m isna(values)\n\u001b[0;32m--> 404\u001b[0m result \u001b[39m=\u001b[39m func(values, axis\u001b[39m=\u001b[39;49maxis, skipna\u001b[39m=\u001b[39;49mskipna, mask\u001b[39m=\u001b[39;49mmask, \u001b[39m*\u001b[39;49m\u001b[39m*\u001b[39;49mkwargs)\n\u001b[1;32m    406\u001b[0m \u001b[39mif\u001b[39;00m datetimelike:\n",
      "File \u001b[0;32m~/.local/lib/python3.10/site-packages/pandas/core/nanops.py:720\u001b[0m, in \u001b[0;36mnanmean\u001b[0;34m(values, axis, skipna, mask)\u001b[0m\n\u001b[1;32m    719\u001b[0m the_sum \u001b[39m=\u001b[39m values\u001b[39m.\u001b[39msum(axis, dtype\u001b[39m=\u001b[39mdtype_sum)\n\u001b[0;32m--> 720\u001b[0m the_sum \u001b[39m=\u001b[39m _ensure_numeric(the_sum)\n\u001b[1;32m    722\u001b[0m \u001b[39mif\u001b[39;00m axis \u001b[39mis\u001b[39;00m \u001b[39mnot\u001b[39;00m \u001b[39mNone\u001b[39;00m \u001b[39mand\u001b[39;00m \u001b[39mgetattr\u001b[39m(the_sum, \u001b[39m\"\u001b[39m\u001b[39mndim\u001b[39m\u001b[39m\"\u001b[39m, \u001b[39mFalse\u001b[39;00m):\n",
      "File \u001b[0;32m~/.local/lib/python3.10/site-packages/pandas/core/nanops.py:1693\u001b[0m, in \u001b[0;36m_ensure_numeric\u001b[0;34m(x)\u001b[0m\n\u001b[1;32m   1691\u001b[0m \u001b[39mif\u001b[39;00m \u001b[39misinstance\u001b[39m(x, \u001b[39mstr\u001b[39m):\n\u001b[1;32m   1692\u001b[0m     \u001b[39m# GH#44008, GH#36703 avoid casting e.g. strings to numeric\u001b[39;00m\n\u001b[0;32m-> 1693\u001b[0m     \u001b[39mraise\u001b[39;00m \u001b[39mTypeError\u001b[39;00m(\u001b[39mf\u001b[39m\u001b[39m\"\u001b[39m\u001b[39mCould not convert string \u001b[39m\u001b[39m'\u001b[39m\u001b[39m{\u001b[39;00mx\u001b[39m}\u001b[39;00m\u001b[39m'\u001b[39m\u001b[39m to numeric\u001b[39m\u001b[39m\"\u001b[39m)\n\u001b[1;32m   1694\u001b[0m \u001b[39mtry\u001b[39;00m:\n",
      "\u001b[0;31mTypeError\u001b[0m: Could not convert string '0.0003176' to numeric",
      "\nThe above exception was the direct cause of the following exception:\n",
      "\u001b[0;31mTypeError\u001b[0m                                 Traceback (most recent call last)",
      "\u001b[1;32m/home/jenci/Desktop/SMFGF-SpaceApps/preprocessing.ipynb Cell 9\u001b[0m line \u001b[0;36m1\n\u001b[1;32m      <a href='vscode-notebook-cell:/home/jenci/Desktop/SMFGF-SpaceApps/preprocessing.ipynb#X10sZmlsZQ%3D%3D?line=7'>8</a>\u001b[0m df[\u001b[39m'\u001b[39m\u001b[39mdatetime\u001b[39m\u001b[39m'\u001b[39m] \u001b[39m=\u001b[39m pd\u001b[39m.\u001b[39mto_datetime(df[\u001b[39m'\u001b[39m\u001b[39mEpoch\u001b[39m\u001b[39m'\u001b[39m])\n\u001b[1;32m      <a href='vscode-notebook-cell:/home/jenci/Desktop/SMFGF-SpaceApps/preprocessing.ipynb#X10sZmlsZQ%3D%3D?line=8'>9</a>\u001b[0m df\u001b[39m.\u001b[39mset_index(\u001b[39m'\u001b[39m\u001b[39mdatetime\u001b[39m\u001b[39m'\u001b[39m, drop \u001b[39m=\u001b[39m \u001b[39mTrue\u001b[39;00m, inplace \u001b[39m=\u001b[39m \u001b[39mTrue\u001b[39;00m)\n\u001b[0;32m---> <a href='vscode-notebook-cell:/home/jenci/Desktop/SMFGF-SpaceApps/preprocessing.ipynb#X10sZmlsZQ%3D%3D?line=9'>10</a>\u001b[0m df\u001b[39m.\u001b[39;49mdrop(\u001b[39m'\u001b[39;49m\u001b[39mEpoch\u001b[39;49m\u001b[39m'\u001b[39;49m, axis \u001b[39m=\u001b[39;49m \u001b[39m1\u001b[39;49m)\u001b[39m.\u001b[39;49mresample(\u001b[39m'\u001b[39;49m\u001b[39m6T\u001b[39;49m\u001b[39m'\u001b[39;49m)\u001b[39m.\u001b[39;49mmean()\n",
      "File \u001b[0;32m~/.local/lib/python3.10/site-packages/pandas/core/resample.py:1342\u001b[0m, in \u001b[0;36mResampler.mean\u001b[0;34m(self, numeric_only, *args, **kwargs)\u001b[0m\n\u001b[1;32m   1340\u001b[0m maybe_warn_args_and_kwargs(\u001b[39mtype\u001b[39m(\u001b[39mself\u001b[39m), \u001b[39m\"\u001b[39m\u001b[39mmean\u001b[39m\u001b[39m\"\u001b[39m, args, kwargs)\n\u001b[1;32m   1341\u001b[0m nv\u001b[39m.\u001b[39mvalidate_resampler_func(\u001b[39m\"\u001b[39m\u001b[39mmean\u001b[39m\u001b[39m\"\u001b[39m, args, kwargs)\n\u001b[0;32m-> 1342\u001b[0m \u001b[39mreturn\u001b[39;00m \u001b[39mself\u001b[39;49m\u001b[39m.\u001b[39;49m_downsample(\u001b[39m\"\u001b[39;49m\u001b[39mmean\u001b[39;49m\u001b[39m\"\u001b[39;49m, numeric_only\u001b[39m=\u001b[39;49mnumeric_only)\n",
      "File \u001b[0;32m~/.local/lib/python3.10/site-packages/pandas/core/resample.py:1728\u001b[0m, in \u001b[0;36mDatetimeIndexResampler._downsample\u001b[0;34m(self, how, **kwargs)\u001b[0m\n\u001b[1;32m   1725\u001b[0m \u001b[39m# we are downsampling\u001b[39;00m\n\u001b[1;32m   1726\u001b[0m \u001b[39m# we want to call the actual grouper method here\u001b[39;00m\n\u001b[1;32m   1727\u001b[0m \u001b[39mif\u001b[39;00m \u001b[39mself\u001b[39m\u001b[39m.\u001b[39maxis \u001b[39m==\u001b[39m \u001b[39m0\u001b[39m:\n\u001b[0;32m-> 1728\u001b[0m     result \u001b[39m=\u001b[39m obj\u001b[39m.\u001b[39;49mgroupby(\u001b[39mself\u001b[39;49m\u001b[39m.\u001b[39;49mgrouper)\u001b[39m.\u001b[39;49maggregate(how, \u001b[39m*\u001b[39;49m\u001b[39m*\u001b[39;49mkwargs)\n\u001b[1;32m   1729\u001b[0m \u001b[39melse\u001b[39;00m:\n\u001b[1;32m   1730\u001b[0m     \u001b[39m# test_resample_axis1\u001b[39;00m\n\u001b[1;32m   1731\u001b[0m     result \u001b[39m=\u001b[39m obj\u001b[39m.\u001b[39mT\u001b[39m.\u001b[39mgroupby(\u001b[39mself\u001b[39m\u001b[39m.\u001b[39mgrouper)\u001b[39m.\u001b[39maggregate(how, \u001b[39m*\u001b[39m\u001b[39m*\u001b[39mkwargs)\u001b[39m.\u001b[39mT\n",
      "File \u001b[0;32m~/.local/lib/python3.10/site-packages/pandas/core/groupby/generic.py:1445\u001b[0m, in \u001b[0;36mDataFrameGroupBy.aggregate\u001b[0;34m(self, func, engine, engine_kwargs, *args, **kwargs)\u001b[0m\n\u001b[1;32m   1442\u001b[0m     kwargs[\u001b[39m\"\u001b[39m\u001b[39mengine_kwargs\u001b[39m\u001b[39m\"\u001b[39m] \u001b[39m=\u001b[39m engine_kwargs\n\u001b[1;32m   1444\u001b[0m op \u001b[39m=\u001b[39m GroupByApply(\u001b[39mself\u001b[39m, func, args\u001b[39m=\u001b[39margs, kwargs\u001b[39m=\u001b[39mkwargs)\n\u001b[0;32m-> 1445\u001b[0m result \u001b[39m=\u001b[39m op\u001b[39m.\u001b[39;49magg()\n\u001b[1;32m   1446\u001b[0m \u001b[39mif\u001b[39;00m \u001b[39mnot\u001b[39;00m is_dict_like(func) \u001b[39mand\u001b[39;00m result \u001b[39mis\u001b[39;00m \u001b[39mnot\u001b[39;00m \u001b[39mNone\u001b[39;00m:\n\u001b[1;32m   1447\u001b[0m     \u001b[39m# GH #52849\u001b[39;00m\n\u001b[1;32m   1448\u001b[0m     \u001b[39mif\u001b[39;00m \u001b[39mnot\u001b[39;00m \u001b[39mself\u001b[39m\u001b[39m.\u001b[39mas_index \u001b[39mand\u001b[39;00m is_list_like(func):\n",
      "File \u001b[0;32m~/.local/lib/python3.10/site-packages/pandas/core/apply.py:172\u001b[0m, in \u001b[0;36mApply.agg\u001b[0;34m(self)\u001b[0m\n\u001b[1;32m    169\u001b[0m kwargs \u001b[39m=\u001b[39m \u001b[39mself\u001b[39m\u001b[39m.\u001b[39mkwargs\n\u001b[1;32m    171\u001b[0m \u001b[39mif\u001b[39;00m \u001b[39misinstance\u001b[39m(func, \u001b[39mstr\u001b[39m):\n\u001b[0;32m--> 172\u001b[0m     \u001b[39mreturn\u001b[39;00m \u001b[39mself\u001b[39;49m\u001b[39m.\u001b[39;49mapply_str()\n\u001b[1;32m    174\u001b[0m \u001b[39mif\u001b[39;00m is_dict_like(func):\n\u001b[1;32m    175\u001b[0m     \u001b[39mreturn\u001b[39;00m \u001b[39mself\u001b[39m\u001b[39m.\u001b[39magg_dict_like()\n",
      "File \u001b[0;32m~/.local/lib/python3.10/site-packages/pandas/core/apply.py:586\u001b[0m, in \u001b[0;36mApply.apply_str\u001b[0;34m(self)\u001b[0m\n\u001b[1;32m    584\u001b[0m         \u001b[39melse\u001b[39;00m:\n\u001b[1;32m    585\u001b[0m             \u001b[39mself\u001b[39m\u001b[39m.\u001b[39mkwargs[\u001b[39m\"\u001b[39m\u001b[39maxis\u001b[39m\u001b[39m\"\u001b[39m] \u001b[39m=\u001b[39m \u001b[39mself\u001b[39m\u001b[39m.\u001b[39maxis\n\u001b[0;32m--> 586\u001b[0m \u001b[39mreturn\u001b[39;00m \u001b[39mself\u001b[39;49m\u001b[39m.\u001b[39;49m_apply_str(obj, func, \u001b[39m*\u001b[39;49m\u001b[39mself\u001b[39;49m\u001b[39m.\u001b[39;49margs, \u001b[39m*\u001b[39;49m\u001b[39m*\u001b[39;49m\u001b[39mself\u001b[39;49m\u001b[39m.\u001b[39;49mkwargs)\n",
      "File \u001b[0;32m~/.local/lib/python3.10/site-packages/pandas/core/apply.py:669\u001b[0m, in \u001b[0;36mApply._apply_str\u001b[0;34m(self, obj, func, *args, **kwargs)\u001b[0m\n\u001b[1;32m    667\u001b[0m f \u001b[39m=\u001b[39m \u001b[39mgetattr\u001b[39m(obj, func)\n\u001b[1;32m    668\u001b[0m \u001b[39mif\u001b[39;00m \u001b[39mcallable\u001b[39m(f):\n\u001b[0;32m--> 669\u001b[0m     \u001b[39mreturn\u001b[39;00m f(\u001b[39m*\u001b[39;49margs, \u001b[39m*\u001b[39;49m\u001b[39m*\u001b[39;49mkwargs)\n\u001b[1;32m    671\u001b[0m \u001b[39m# people may aggregate on a non-callable attribute\u001b[39;00m\n\u001b[1;32m    672\u001b[0m \u001b[39m# but don't let them think they can pass args to it\u001b[39;00m\n\u001b[1;32m    673\u001b[0m \u001b[39massert\u001b[39;00m \u001b[39mlen\u001b[39m(args) \u001b[39m==\u001b[39m \u001b[39m0\u001b[39m\n",
      "File \u001b[0;32m~/.local/lib/python3.10/site-packages/pandas/core/groupby/groupby.py:2378\u001b[0m, in \u001b[0;36mGroupBy.mean\u001b[0;34m(self, numeric_only, engine, engine_kwargs)\u001b[0m\n\u001b[1;32m   2371\u001b[0m     \u001b[39mreturn\u001b[39;00m \u001b[39mself\u001b[39m\u001b[39m.\u001b[39m_numba_agg_general(\n\u001b[1;32m   2372\u001b[0m         grouped_mean,\n\u001b[1;32m   2373\u001b[0m         executor\u001b[39m.\u001b[39mfloat_dtype_mapping,\n\u001b[1;32m   2374\u001b[0m         engine_kwargs,\n\u001b[1;32m   2375\u001b[0m         min_periods\u001b[39m=\u001b[39m\u001b[39m0\u001b[39m,\n\u001b[1;32m   2376\u001b[0m     )\n\u001b[1;32m   2377\u001b[0m \u001b[39melse\u001b[39;00m:\n\u001b[0;32m-> 2378\u001b[0m     result \u001b[39m=\u001b[39m \u001b[39mself\u001b[39;49m\u001b[39m.\u001b[39;49m_cython_agg_general(\n\u001b[1;32m   2379\u001b[0m         \u001b[39m\"\u001b[39;49m\u001b[39mmean\u001b[39;49m\u001b[39m\"\u001b[39;49m,\n\u001b[1;32m   2380\u001b[0m         alt\u001b[39m=\u001b[39;49m\u001b[39mlambda\u001b[39;49;00m x: Series(x)\u001b[39m.\u001b[39;49mmean(numeric_only\u001b[39m=\u001b[39;49mnumeric_only),\n\u001b[1;32m   2381\u001b[0m         numeric_only\u001b[39m=\u001b[39;49mnumeric_only,\n\u001b[1;32m   2382\u001b[0m     )\n\u001b[1;32m   2383\u001b[0m     \u001b[39mreturn\u001b[39;00m result\u001b[39m.\u001b[39m__finalize__(\u001b[39mself\u001b[39m\u001b[39m.\u001b[39mobj, method\u001b[39m=\u001b[39m\u001b[39m\"\u001b[39m\u001b[39mgroupby\u001b[39m\u001b[39m\"\u001b[39m)\n",
      "File \u001b[0;32m~/.local/lib/python3.10/site-packages/pandas/core/groupby/groupby.py:1929\u001b[0m, in \u001b[0;36mGroupBy._cython_agg_general\u001b[0;34m(self, how, alt, numeric_only, min_count, **kwargs)\u001b[0m\n\u001b[1;32m   1926\u001b[0m     result \u001b[39m=\u001b[39m \u001b[39mself\u001b[39m\u001b[39m.\u001b[39m_agg_py_fallback(how, values, ndim\u001b[39m=\u001b[39mdata\u001b[39m.\u001b[39mndim, alt\u001b[39m=\u001b[39malt)\n\u001b[1;32m   1927\u001b[0m     \u001b[39mreturn\u001b[39;00m result\n\u001b[0;32m-> 1929\u001b[0m new_mgr \u001b[39m=\u001b[39m data\u001b[39m.\u001b[39;49mgrouped_reduce(array_func)\n\u001b[1;32m   1930\u001b[0m res \u001b[39m=\u001b[39m \u001b[39mself\u001b[39m\u001b[39m.\u001b[39m_wrap_agged_manager(new_mgr)\n\u001b[1;32m   1931\u001b[0m out \u001b[39m=\u001b[39m \u001b[39mself\u001b[39m\u001b[39m.\u001b[39m_wrap_aggregated_output(res)\n",
      "File \u001b[0;32m~/.local/lib/python3.10/site-packages/pandas/core/internals/managers.py:1428\u001b[0m, in \u001b[0;36mBlockManager.grouped_reduce\u001b[0;34m(self, func)\u001b[0m\n\u001b[1;32m   1424\u001b[0m \u001b[39mif\u001b[39;00m blk\u001b[39m.\u001b[39mis_object:\n\u001b[1;32m   1425\u001b[0m     \u001b[39m# split on object-dtype blocks bc some columns may raise\u001b[39;00m\n\u001b[1;32m   1426\u001b[0m     \u001b[39m#  while others do not.\u001b[39;00m\n\u001b[1;32m   1427\u001b[0m     \u001b[39mfor\u001b[39;00m sb \u001b[39min\u001b[39;00m blk\u001b[39m.\u001b[39m_split():\n\u001b[0;32m-> 1428\u001b[0m         applied \u001b[39m=\u001b[39m sb\u001b[39m.\u001b[39;49mapply(func)\n\u001b[1;32m   1429\u001b[0m         result_blocks \u001b[39m=\u001b[39m extend_blocks(applied, result_blocks)\n\u001b[1;32m   1430\u001b[0m \u001b[39melse\u001b[39;00m:\n",
      "File \u001b[0;32m~/.local/lib/python3.10/site-packages/pandas/core/internals/blocks.py:366\u001b[0m, in \u001b[0;36mBlock.apply\u001b[0;34m(self, func, **kwargs)\u001b[0m\n\u001b[1;32m    360\u001b[0m \u001b[39m@final\u001b[39m\n\u001b[1;32m    361\u001b[0m \u001b[39mdef\u001b[39;00m \u001b[39mapply\u001b[39m(\u001b[39mself\u001b[39m, func, \u001b[39m*\u001b[39m\u001b[39m*\u001b[39mkwargs) \u001b[39m-\u001b[39m\u001b[39m>\u001b[39m \u001b[39mlist\u001b[39m[Block]:\n\u001b[1;32m    362\u001b[0m \u001b[39m    \u001b[39m\u001b[39m\"\"\"\u001b[39;00m\n\u001b[1;32m    363\u001b[0m \u001b[39m    apply the function to my values; return a block if we are not\u001b[39;00m\n\u001b[1;32m    364\u001b[0m \u001b[39m    one\u001b[39;00m\n\u001b[1;32m    365\u001b[0m \u001b[39m    \"\"\"\u001b[39;00m\n\u001b[0;32m--> 366\u001b[0m     result \u001b[39m=\u001b[39m func(\u001b[39mself\u001b[39;49m\u001b[39m.\u001b[39;49mvalues, \u001b[39m*\u001b[39;49m\u001b[39m*\u001b[39;49mkwargs)\n\u001b[1;32m    368\u001b[0m     result \u001b[39m=\u001b[39m maybe_coerce_values(result)\n\u001b[1;32m    369\u001b[0m     \u001b[39mreturn\u001b[39;00m \u001b[39mself\u001b[39m\u001b[39m.\u001b[39m_split_op_result(result)\n",
      "File \u001b[0;32m~/.local/lib/python3.10/site-packages/pandas/core/groupby/groupby.py:1926\u001b[0m, in \u001b[0;36mGroupBy._cython_agg_general.<locals>.array_func\u001b[0;34m(values)\u001b[0m\n\u001b[1;32m   1923\u001b[0m \u001b[39melse\u001b[39;00m:\n\u001b[1;32m   1924\u001b[0m     \u001b[39mreturn\u001b[39;00m result\n\u001b[0;32m-> 1926\u001b[0m result \u001b[39m=\u001b[39m \u001b[39mself\u001b[39;49m\u001b[39m.\u001b[39;49m_agg_py_fallback(how, values, ndim\u001b[39m=\u001b[39;49mdata\u001b[39m.\u001b[39;49mndim, alt\u001b[39m=\u001b[39;49malt)\n\u001b[1;32m   1927\u001b[0m \u001b[39mreturn\u001b[39;00m result\n",
      "File \u001b[0;32m~/.local/lib/python3.10/site-packages/pandas/core/groupby/groupby.py:1878\u001b[0m, in \u001b[0;36mGroupBy._agg_py_fallback\u001b[0;34m(self, how, values, ndim, alt)\u001b[0m\n\u001b[1;32m   1876\u001b[0m     msg \u001b[39m=\u001b[39m \u001b[39mf\u001b[39m\u001b[39m\"\u001b[39m\u001b[39magg function failed [how->\u001b[39m\u001b[39m{\u001b[39;00mhow\u001b[39m}\u001b[39;00m\u001b[39m,dtype->\u001b[39m\u001b[39m{\u001b[39;00mser\u001b[39m.\u001b[39mdtype\u001b[39m}\u001b[39;00m\u001b[39m]\u001b[39m\u001b[39m\"\u001b[39m\n\u001b[1;32m   1877\u001b[0m     \u001b[39m# preserve the kind of exception that raised\u001b[39;00m\n\u001b[0;32m-> 1878\u001b[0m     \u001b[39mraise\u001b[39;00m \u001b[39mtype\u001b[39m(err)(msg) \u001b[39mfrom\u001b[39;00m \u001b[39merr\u001b[39;00m\n\u001b[1;32m   1880\u001b[0m \u001b[39mif\u001b[39;00m ser\u001b[39m.\u001b[39mdtype \u001b[39m==\u001b[39m \u001b[39mobject\u001b[39m:\n\u001b[1;32m   1881\u001b[0m     res_values \u001b[39m=\u001b[39m res_values\u001b[39m.\u001b[39mastype(\u001b[39mobject\u001b[39m, copy\u001b[39m=\u001b[39m\u001b[39mFalse\u001b[39;00m)\n",
      "\u001b[0;31mTypeError\u001b[0m: agg function failed [how->mean,dtype->object]"
     ]
    }
   ],
   "source": [
    "import pandas as pd\n",
    "import numpy as np\n",
    "epoch = np.array([str(date.strftime('%Y-%m-%d %H:%M:%S.%f')) for date in cdf['Epoch'][:]]).reshape(-1,1)\n",
    "data = np.concatenate(data_columns, axis = 1, dtype =  np.float32)\n",
    "data  = np.concatenate([epoch, data], axis = 1)\n",
    "columns = ['Epoch'] + [f'{name}_{i}' for name in ion_composition for i in range(1,9)]\n",
    "df = pd.DataFrame(data, columns = columns)\n",
    "df['datetime'] = pd.to_datetime(df['Epoch'])\n",
    "df.set_index('datetime', drop = True, inplace = True)\n",
    "df.drop('Epoch', axis = 1, inplace = True)"
   ]
  },
  {
   "cell_type": "code",
   "execution_count": 27,
   "metadata": {},
   "outputs": [
    {
     "name": "stdout",
     "output_type": "stream",
     "text": [
      "Downloading https://cdaweb.gsfc.nasa.gov/sp_phys/data/ace/sis/level_2_cdaweb/sis_h1/2023/ac_h1_sis_20230101_v06.cdf to ./data/ACE/SIS/temp/20230101.cdf\n"
     ]
    },
    {
     "name": "stderr",
     "output_type": "stream",
     "text": [
      "100%|██████████| 104480/104480 [00:00<00:00, 147155.17it/s]\n"
     ]
    },
    {
     "name": "stdout",
     "output_type": "stream",
     "text": [
      "Downloading https://cdaweb.gsfc.nasa.gov/sp_phys/data/ace/sis/level_2_cdaweb/sis_h1/2023/ac_h1_sis_20230102_v06.cdf to ./data/ACE/SIS/temp/20230102.cdf\n"
     ]
    },
    {
     "name": "stderr",
     "output_type": "stream",
     "text": [
      "100%|██████████| 104395/104395 [00:00<00:00, 152489.42it/s]\n"
     ]
    },
    {
     "name": "stdout",
     "output_type": "stream",
     "text": [
      "Downloading https://cdaweb.gsfc.nasa.gov/sp_phys/data/ace/sis/level_2_cdaweb/sis_h1/2023/ac_h1_sis_20230103_v06.cdf to ./data/ACE/SIS/temp/20230103.cdf\n"
     ]
    },
    {
     "name": "stderr",
     "output_type": "stream",
     "text": [
      "100%|██████████| 104448/104448 [00:00<00:00, 151567.78it/s]\n"
     ]
    },
    {
     "name": "stdout",
     "output_type": "stream",
     "text": [
      "Downloading https://cdaweb.gsfc.nasa.gov/sp_phys/data/ace/sis/level_2_cdaweb/sis_h1/2023/ac_h1_sis_20230104_v06.cdf to ./data/ACE/SIS/temp/20230104.cdf\n"
     ]
    },
    {
     "name": "stderr",
     "output_type": "stream",
     "text": [
      "100%|██████████| 104375/104375 [00:00<00:00, 157125.64it/s]\n"
     ]
    },
    {
     "name": "stdout",
     "output_type": "stream",
     "text": [
      "Downloading https://cdaweb.gsfc.nasa.gov/sp_phys/data/ace/sis/level_2_cdaweb/sis_h1/2023/ac_h1_sis_20230105_v06.cdf to ./data/ACE/SIS/temp/20230105.cdf\n"
     ]
    },
    {
     "name": "stderr",
     "output_type": "stream",
     "text": [
      "100%|██████████| 104324/104324 [00:00<00:00, 156023.86it/s]\n"
     ]
    },
    {
     "name": "stdout",
     "output_type": "stream",
     "text": [
      "Downloading https://cdaweb.gsfc.nasa.gov/sp_phys/data/ace/sis/level_2_cdaweb/sis_h1/2023/ac_h1_sis_20230106_v06.cdf to ./data/ACE/SIS/temp/20230106.cdf\n"
     ]
    },
    {
     "name": "stderr",
     "output_type": "stream",
     "text": [
      "100%|██████████| 105885/105885 [00:00<00:00, 155132.10it/s]\n"
     ]
    },
    {
     "name": "stdout",
     "output_type": "stream",
     "text": [
      "Downloading https://cdaweb.gsfc.nasa.gov/sp_phys/data/ace/sis/level_2_cdaweb/sis_h1/2023/ac_h1_sis_20230107_v06.cdf to ./data/ACE/SIS/temp/20230107.cdf\n"
     ]
    },
    {
     "name": "stderr",
     "output_type": "stream",
     "text": [
      "100%|██████████| 107949/107949 [00:00<00:00, 162360.94it/s]\n"
     ]
    },
    {
     "name": "stdout",
     "output_type": "stream",
     "text": [
      "Downloading https://cdaweb.gsfc.nasa.gov/sp_phys/data/ace/sis/level_2_cdaweb/sis_h1/2023/ac_h1_sis_20230108_v06.cdf to ./data/ACE/SIS/temp/20230108.cdf\n"
     ]
    },
    {
     "name": "stderr",
     "output_type": "stream",
     "text": [
      "100%|██████████| 107513/107513 [00:00<00:00, 164933.44it/s]\n"
     ]
    },
    {
     "name": "stdout",
     "output_type": "stream",
     "text": [
      "Downloading https://cdaweb.gsfc.nasa.gov/sp_phys/data/ace/sis/level_2_cdaweb/sis_h1/2023/ac_h1_sis_20230109_v06.cdf to ./data/ACE/SIS/temp/20230109.cdf\n"
     ]
    },
    {
     "name": "stderr",
     "output_type": "stream",
     "text": [
      "100%|██████████| 108398/108398 [00:00<00:00, 163670.89it/s]\n"
     ]
    },
    {
     "name": "stdout",
     "output_type": "stream",
     "text": [
      "Downloading https://cdaweb.gsfc.nasa.gov/sp_phys/data/ace/sis/level_2_cdaweb/sis_h1/2023/ac_h1_sis_20230110_v06.cdf to ./data/ACE/SIS/temp/20230110.cdf\n"
     ]
    },
    {
     "name": "stderr",
     "output_type": "stream",
     "text": [
      "100%|██████████| 109952/109952 [00:00<00:00, 162691.48it/s]\n"
     ]
    },
    {
     "name": "stdout",
     "output_type": "stream",
     "text": [
      "Downloading https://cdaweb.gsfc.nasa.gov/sp_phys/data/ace/sis/level_2_cdaweb/sis_h1/2023/ac_h1_sis_20230111_v06.cdf to ./data/ACE/SIS/temp/20230111.cdf\n"
     ]
    },
    {
     "name": "stderr",
     "output_type": "stream",
     "text": [
      "100%|██████████| 108353/108353 [00:00<00:00, 162186.98it/s]\n"
     ]
    },
    {
     "name": "stdout",
     "output_type": "stream",
     "text": [
      "Downloading https://cdaweb.gsfc.nasa.gov/sp_phys/data/ace/sis/level_2_cdaweb/sis_h1/2023/ac_h1_sis_20230112_v06.cdf to ./data/ACE/SIS/temp/20230112.cdf\n"
     ]
    },
    {
     "name": "stderr",
     "output_type": "stream",
     "text": [
      "100%|██████████| 108208/108208 [00:00<00:00, 158024.71it/s]\n"
     ]
    },
    {
     "name": "stdout",
     "output_type": "stream",
     "text": [
      "Downloading https://cdaweb.gsfc.nasa.gov/sp_phys/data/ace/sis/level_2_cdaweb/sis_h1/2023/ac_h1_sis_20230113_v06.cdf to ./data/ACE/SIS/temp/20230113.cdf\n"
     ]
    },
    {
     "name": "stderr",
     "output_type": "stream",
     "text": [
      "100%|██████████| 110698/110698 [00:00<00:00, 163125.52it/s]\n"
     ]
    },
    {
     "name": "stdout",
     "output_type": "stream",
     "text": [
      "Downloading https://cdaweb.gsfc.nasa.gov/sp_phys/data/ace/sis/level_2_cdaweb/sis_h1/2023/ac_h1_sis_20230114_v06.cdf to ./data/ACE/SIS/temp/20230114.cdf\n"
     ]
    },
    {
     "name": "stderr",
     "output_type": "stream",
     "text": [
      "100%|██████████| 107743/107743 [00:00<00:00, 166044.81it/s]\n"
     ]
    },
    {
     "name": "stdout",
     "output_type": "stream",
     "text": [
      "Downloading https://cdaweb.gsfc.nasa.gov/sp_phys/data/ace/sis/level_2_cdaweb/sis_h1/2023/ac_h1_sis_20230115_v06.cdf to ./data/ACE/SIS/temp/20230115.cdf\n"
     ]
    },
    {
     "name": "stderr",
     "output_type": "stream",
     "text": [
      "100%|██████████| 106747/106747 [00:00<00:00, 152232.00it/s]\n"
     ]
    },
    {
     "name": "stdout",
     "output_type": "stream",
     "text": [
      "Downloading https://cdaweb.gsfc.nasa.gov/sp_phys/data/ace/sis/level_2_cdaweb/sis_h1/2023/ac_h1_sis_20230116_v06.cdf to ./data/ACE/SIS/temp/20230116.cdf\n"
     ]
    },
    {
     "name": "stderr",
     "output_type": "stream",
     "text": [
      "100%|██████████| 106423/106423 [00:00<00:00, 159299.04it/s]\n"
     ]
    },
    {
     "name": "stdout",
     "output_type": "stream",
     "text": [
      "Downloading https://cdaweb.gsfc.nasa.gov/sp_phys/data/ace/sis/level_2_cdaweb/sis_h1/2023/ac_h1_sis_20230117_v06.cdf to ./data/ACE/SIS/temp/20230117.cdf\n"
     ]
    },
    {
     "name": "stderr",
     "output_type": "stream",
     "text": [
      "100%|██████████| 105777/105777 [00:00<00:00, 162736.09it/s]\n"
     ]
    },
    {
     "name": "stdout",
     "output_type": "stream",
     "text": [
      "Downloading https://cdaweb.gsfc.nasa.gov/sp_phys/data/ace/sis/level_2_cdaweb/sis_h1/2023/ac_h1_sis_20230118_v06.cdf to ./data/ACE/SIS/temp/20230118.cdf\n"
     ]
    },
    {
     "name": "stderr",
     "output_type": "stream",
     "text": [
      "100%|██████████| 104810/104810 [00:00<00:00, 164018.74it/s]\n"
     ]
    },
    {
     "name": "stdout",
     "output_type": "stream",
     "text": [
      "Downloading https://cdaweb.gsfc.nasa.gov/sp_phys/data/ace/sis/level_2_cdaweb/sis_h1/2023/ac_h1_sis_20230119_v06.cdf to ./data/ACE/SIS/temp/20230119.cdf\n"
     ]
    },
    {
     "name": "stderr",
     "output_type": "stream",
     "text": [
      "100%|██████████| 104950/104950 [00:00<00:00, 147735.78it/s]\n"
     ]
    },
    {
     "name": "stdout",
     "output_type": "stream",
     "text": [
      "Downloading https://cdaweb.gsfc.nasa.gov/sp_phys/data/ace/sis/level_2_cdaweb/sis_h1/2023/ac_h1_sis_20230120_v06.cdf to ./data/ACE/SIS/temp/20230120.cdf\n"
     ]
    },
    {
     "name": "stderr",
     "output_type": "stream",
     "text": [
      "100%|██████████| 108043/108043 [00:00<00:00, 160596.02it/s]\n"
     ]
    },
    {
     "name": "stdout",
     "output_type": "stream",
     "text": [
      "Downloading https://cdaweb.gsfc.nasa.gov/sp_phys/data/ace/sis/level_2_cdaweb/sis_h1/2023/ac_h1_sis_20230121_v06.cdf to ./data/ACE/SIS/temp/20230121.cdf\n"
     ]
    },
    {
     "name": "stderr",
     "output_type": "stream",
     "text": [
      "100%|██████████| 106660/106660 [00:00<00:00, 163811.08it/s]\n"
     ]
    },
    {
     "name": "stdout",
     "output_type": "stream",
     "text": [
      "Downloading https://cdaweb.gsfc.nasa.gov/sp_phys/data/ace/sis/level_2_cdaweb/sis_h1/2023/ac_h1_sis_20230122_v06.cdf to ./data/ACE/SIS/temp/20230122.cdf\n"
     ]
    },
    {
     "name": "stderr",
     "output_type": "stream",
     "text": [
      "100%|██████████| 105201/105201 [00:00<00:00, 153385.18it/s]\n"
     ]
    },
    {
     "name": "stdout",
     "output_type": "stream",
     "text": [
      "Downloading https://cdaweb.gsfc.nasa.gov/sp_phys/data/ace/sis/level_2_cdaweb/sis_h1/2023/ac_h1_sis_20230123_v06.cdf to ./data/ACE/SIS/temp/20230123.cdf\n"
     ]
    },
    {
     "name": "stderr",
     "output_type": "stream",
     "text": [
      "100%|██████████| 104678/104678 [00:00<00:00, 158342.64it/s]\n"
     ]
    },
    {
     "name": "stdout",
     "output_type": "stream",
     "text": [
      "Downloading https://cdaweb.gsfc.nasa.gov/sp_phys/data/ace/sis/level_2_cdaweb/sis_h1/2023/ac_h1_sis_20230124_v06.cdf to ./data/ACE/SIS/temp/20230124.cdf\n"
     ]
    },
    {
     "name": "stderr",
     "output_type": "stream",
     "text": [
      "100%|██████████| 104990/104990 [00:00<00:00, 156273.28it/s]\n"
     ]
    },
    {
     "name": "stdout",
     "output_type": "stream",
     "text": [
      "Downloading https://cdaweb.gsfc.nasa.gov/sp_phys/data/ace/sis/level_2_cdaweb/sis_h1/2023/ac_h1_sis_20230125_v06.cdf to ./data/ACE/SIS/temp/20230125.cdf\n"
     ]
    },
    {
     "name": "stderr",
     "output_type": "stream",
     "text": [
      "100%|██████████| 105881/105881 [00:00<00:00, 155600.68it/s]\n"
     ]
    },
    {
     "name": "stdout",
     "output_type": "stream",
     "text": [
      "Downloading https://cdaweb.gsfc.nasa.gov/sp_phys/data/ace/sis/level_2_cdaweb/sis_h1/2023/ac_h1_sis_20230126_v06.cdf to ./data/ACE/SIS/temp/20230126.cdf\n"
     ]
    },
    {
     "name": "stderr",
     "output_type": "stream",
     "text": [
      "100%|██████████| 104483/104483 [00:00<00:00, 155312.88it/s]\n"
     ]
    },
    {
     "name": "stdout",
     "output_type": "stream",
     "text": [
      "Downloading https://cdaweb.gsfc.nasa.gov/sp_phys/data/ace/sis/level_2_cdaweb/sis_h1/2023/ac_h1_sis_20230127_v06.cdf to ./data/ACE/SIS/temp/20230127.cdf\n"
     ]
    },
    {
     "name": "stderr",
     "output_type": "stream",
     "text": [
      "100%|██████████| 104558/104558 [00:00<00:00, 150755.13it/s]\n"
     ]
    },
    {
     "name": "stdout",
     "output_type": "stream",
     "text": [
      "Downloading https://cdaweb.gsfc.nasa.gov/sp_phys/data/ace/sis/level_2_cdaweb/sis_h1/2023/ac_h1_sis_20230128_v06.cdf to ./data/ACE/SIS/temp/20230128.cdf\n"
     ]
    },
    {
     "name": "stderr",
     "output_type": "stream",
     "text": [
      "100%|██████████| 104155/104155 [00:00<00:00, 157141.32it/s]\n"
     ]
    },
    {
     "name": "stdout",
     "output_type": "stream",
     "text": [
      "Downloading https://cdaweb.gsfc.nasa.gov/sp_phys/data/ace/sis/level_2_cdaweb/sis_h1/2023/ac_h1_sis_20230129_v06.cdf to ./data/ACE/SIS/temp/20230129.cdf\n"
     ]
    },
    {
     "name": "stderr",
     "output_type": "stream",
     "text": [
      "100%|██████████| 104166/104166 [00:00<00:00, 155810.39it/s]\n"
     ]
    },
    {
     "name": "stdout",
     "output_type": "stream",
     "text": [
      "Downloading https://cdaweb.gsfc.nasa.gov/sp_phys/data/ace/sis/level_2_cdaweb/sis_h1/2023/ac_h1_sis_20230130_v06.cdf to ./data/ACE/SIS/temp/20230130.cdf\n"
     ]
    },
    {
     "name": "stderr",
     "output_type": "stream",
     "text": [
      "100%|██████████| 104339/104339 [00:00<00:00, 147574.04it/s]\n"
     ]
    },
    {
     "name": "stdout",
     "output_type": "stream",
     "text": [
      "Downloading https://cdaweb.gsfc.nasa.gov/sp_phys/data/ace/sis/level_2_cdaweb/sis_h1/2023/ac_h1_sis_20230131_v06.cdf to ./data/ACE/SIS/temp/20230131.cdf\n"
     ]
    },
    {
     "name": "stderr",
     "output_type": "stream",
     "text": [
      "100%|██████████| 105230/105230 [00:00<00:00, 151828.01it/s]\n"
     ]
    },
    {
     "name": "stdout",
     "output_type": "stream",
     "text": [
      "Downloading https://cdaweb.gsfc.nasa.gov/sp_phys/data/ace/sis/level_2_cdaweb/sis_h1/2023/ac_h1_sis_20230201_v06.cdf to ./data/ACE/SIS/temp/20230201.cdf\n"
     ]
    },
    {
     "name": "stderr",
     "output_type": "stream",
     "text": [
      "100%|██████████| 106450/106450 [00:00<00:00, 161981.60it/s]\n"
     ]
    },
    {
     "name": "stdout",
     "output_type": "stream",
     "text": [
      "Downloading https://cdaweb.gsfc.nasa.gov/sp_phys/data/ace/sis/level_2_cdaweb/sis_h1/2023/ac_h1_sis_20230202_v06.cdf to ./data/ACE/SIS/temp/20230202.cdf\n"
     ]
    },
    {
     "name": "stderr",
     "output_type": "stream",
     "text": [
      "100%|██████████| 107482/107482 [00:00<00:00, 160361.25it/s]\n"
     ]
    },
    {
     "name": "stdout",
     "output_type": "stream",
     "text": [
      "Downloading https://cdaweb.gsfc.nasa.gov/sp_phys/data/ace/sis/level_2_cdaweb/sis_h1/2023/ac_h1_sis_20230203_v06.cdf to ./data/ACE/SIS/temp/20230203.cdf\n"
     ]
    },
    {
     "name": "stderr",
     "output_type": "stream",
     "text": [
      "100%|██████████| 105577/105577 [00:00<00:00, 149481.44it/s]\n"
     ]
    },
    {
     "name": "stdout",
     "output_type": "stream",
     "text": [
      "Downloading https://cdaweb.gsfc.nasa.gov/sp_phys/data/ace/sis/level_2_cdaweb/sis_h1/2023/ac_h1_sis_20230204_v06.cdf to ./data/ACE/SIS/temp/20230204.cdf\n"
     ]
    },
    {
     "name": "stderr",
     "output_type": "stream",
     "text": [
      "100%|██████████| 105341/105341 [00:00<00:00, 167218.85it/s]\n"
     ]
    },
    {
     "name": "stdout",
     "output_type": "stream",
     "text": [
      "Downloading https://cdaweb.gsfc.nasa.gov/sp_phys/data/ace/sis/level_2_cdaweb/sis_h1/2023/ac_h1_sis_20230205_v06.cdf to ./data/ACE/SIS/temp/20230205.cdf\n"
     ]
    },
    {
     "name": "stderr",
     "output_type": "stream",
     "text": [
      "100%|██████████| 104863/104863 [00:00<00:00, 154785.76it/s]\n"
     ]
    },
    {
     "name": "stdout",
     "output_type": "stream",
     "text": [
      "Downloading https://cdaweb.gsfc.nasa.gov/sp_phys/data/ace/sis/level_2_cdaweb/sis_h1/2023/ac_h1_sis_20230206_v06.cdf to ./data/ACE/SIS/temp/20230206.cdf\n"
     ]
    },
    {
     "name": "stderr",
     "output_type": "stream",
     "text": [
      "100%|██████████| 104611/104611 [00:00<00:00, 159975.65it/s]\n"
     ]
    },
    {
     "name": "stdout",
     "output_type": "stream",
     "text": [
      "Downloading https://cdaweb.gsfc.nasa.gov/sp_phys/data/ace/sis/level_2_cdaweb/sis_h1/2023/ac_h1_sis_20230207_v06.cdf to ./data/ACE/SIS/temp/20230207.cdf\n"
     ]
    },
    {
     "name": "stderr",
     "output_type": "stream",
     "text": [
      "100%|██████████| 105149/105149 [00:00<00:00, 161444.93it/s]\n"
     ]
    },
    {
     "name": "stdout",
     "output_type": "stream",
     "text": [
      "Downloading https://cdaweb.gsfc.nasa.gov/sp_phys/data/ace/sis/level_2_cdaweb/sis_h1/2023/ac_h1_sis_20230208_v06.cdf to ./data/ACE/SIS/temp/20230208.cdf\n"
     ]
    },
    {
     "name": "stderr",
     "output_type": "stream",
     "text": [
      "100%|██████████| 106531/106531 [00:00<00:00, 163511.60it/s]\n"
     ]
    },
    {
     "name": "stdout",
     "output_type": "stream",
     "text": [
      "Downloading https://cdaweb.gsfc.nasa.gov/sp_phys/data/ace/sis/level_2_cdaweb/sis_h1/2023/ac_h1_sis_20230209_v06.cdf to ./data/ACE/SIS/temp/20230209.cdf\n"
     ]
    },
    {
     "name": "stderr",
     "output_type": "stream",
     "text": [
      "100%|██████████| 106193/106193 [00:00<00:00, 166079.54it/s]\n"
     ]
    },
    {
     "name": "stdout",
     "output_type": "stream",
     "text": [
      "Downloading https://cdaweb.gsfc.nasa.gov/sp_phys/data/ace/sis/level_2_cdaweb/sis_h1/2023/ac_h1_sis_20230210_v06.cdf to ./data/ACE/SIS/temp/20230210.cdf\n"
     ]
    },
    {
     "name": "stderr",
     "output_type": "stream",
     "text": [
      "100%|██████████| 105501/105501 [00:00<00:00, 153782.22it/s]\n"
     ]
    },
    {
     "name": "stdout",
     "output_type": "stream",
     "text": [
      "Downloading https://cdaweb.gsfc.nasa.gov/sp_phys/data/ace/sis/level_2_cdaweb/sis_h1/2023/ac_h1_sis_20230211_v06.cdf to ./data/ACE/SIS/temp/20230211.cdf\n"
     ]
    },
    {
     "name": "stderr",
     "output_type": "stream",
     "text": [
      "100%|██████████| 106225/106225 [00:00<00:00, 153824.09it/s]\n"
     ]
    },
    {
     "name": "stdout",
     "output_type": "stream",
     "text": [
      "Downloading https://cdaweb.gsfc.nasa.gov/sp_phys/data/ace/sis/level_2_cdaweb/sis_h1/2023/ac_h1_sis_20230212_v06.cdf to ./data/ACE/SIS/temp/20230212.cdf\n"
     ]
    },
    {
     "name": "stderr",
     "output_type": "stream",
     "text": [
      "100%|██████████| 108768/108768 [00:00<00:00, 160107.24it/s]\n"
     ]
    },
    {
     "name": "stdout",
     "output_type": "stream",
     "text": [
      "Downloading https://cdaweb.gsfc.nasa.gov/sp_phys/data/ace/sis/level_2_cdaweb/sis_h1/2023/ac_h1_sis_20230213_v06.cdf to ./data/ACE/SIS/temp/20230213.cdf\n"
     ]
    },
    {
     "name": "stderr",
     "output_type": "stream",
     "text": [
      "100%|██████████| 109434/109434 [00:00<00:00, 160320.71it/s]\n"
     ]
    },
    {
     "name": "stdout",
     "output_type": "stream",
     "text": [
      "Downloading https://cdaweb.gsfc.nasa.gov/sp_phys/data/ace/sis/level_2_cdaweb/sis_h1/2023/ac_h1_sis_20230214_v06.cdf to ./data/ACE/SIS/temp/20230214.cdf\n"
     ]
    },
    {
     "name": "stderr",
     "output_type": "stream",
     "text": [
      "100%|██████████| 108390/108390 [00:00<00:00, 164259.41it/s]\n"
     ]
    },
    {
     "name": "stdout",
     "output_type": "stream",
     "text": [
      "Downloading https://cdaweb.gsfc.nasa.gov/sp_phys/data/ace/sis/level_2_cdaweb/sis_h1/2023/ac_h1_sis_20230215_v06.cdf to ./data/ACE/SIS/temp/20230215.cdf\n"
     ]
    },
    {
     "name": "stderr",
     "output_type": "stream",
     "text": [
      "100%|██████████| 107237/107237 [00:00<00:00, 159912.77it/s]\n"
     ]
    },
    {
     "name": "stdout",
     "output_type": "stream",
     "text": [
      "Downloading https://cdaweb.gsfc.nasa.gov/sp_phys/data/ace/sis/level_2_cdaweb/sis_h1/2023/ac_h1_sis_20230216_v06.cdf to ./data/ACE/SIS/temp/20230216.cdf\n"
     ]
    },
    {
     "name": "stderr",
     "output_type": "stream",
     "text": [
      "100%|██████████| 109010/109010 [00:00<00:00, 152714.49it/s]\n"
     ]
    },
    {
     "name": "stdout",
     "output_type": "stream",
     "text": [
      "Downloading https://cdaweb.gsfc.nasa.gov/sp_phys/data/ace/sis/level_2_cdaweb/sis_h1/2023/ac_h1_sis_20230217_v06.cdf to ./data/ACE/SIS/temp/20230217.cdf\n"
     ]
    },
    {
     "name": "stderr",
     "output_type": "stream",
     "text": [
      "100%|██████████| 108763/108763 [00:00<00:00, 163308.01it/s]\n"
     ]
    },
    {
     "name": "stdout",
     "output_type": "stream",
     "text": [
      "Downloading https://cdaweb.gsfc.nasa.gov/sp_phys/data/ace/sis/level_2_cdaweb/sis_h1/2023/ac_h1_sis_20230218_v06.cdf to ./data/ACE/SIS/temp/20230218.cdf\n"
     ]
    },
    {
     "name": "stderr",
     "output_type": "stream",
     "text": [
      "100%|██████████| 107585/107585 [00:00<00:00, 154537.48it/s]\n"
     ]
    },
    {
     "name": "stdout",
     "output_type": "stream",
     "text": [
      "Downloading https://cdaweb.gsfc.nasa.gov/sp_phys/data/ace/sis/level_2_cdaweb/sis_h1/2023/ac_h1_sis_20230219_v06.cdf to ./data/ACE/SIS/temp/20230219.cdf\n"
     ]
    },
    {
     "name": "stderr",
     "output_type": "stream",
     "text": [
      "100%|██████████| 106828/106828 [00:00<00:00, 165072.36it/s]\n"
     ]
    },
    {
     "name": "stdout",
     "output_type": "stream",
     "text": [
      "Downloading https://cdaweb.gsfc.nasa.gov/sp_phys/data/ace/sis/level_2_cdaweb/sis_h1/2023/ac_h1_sis_20230220_v06.cdf to ./data/ACE/SIS/temp/20230220.cdf\n"
     ]
    },
    {
     "name": "stderr",
     "output_type": "stream",
     "text": [
      "100%|██████████| 109127/109127 [00:00<00:00, 163367.74it/s]\n"
     ]
    },
    {
     "name": "stdout",
     "output_type": "stream",
     "text": [
      "Downloading https://cdaweb.gsfc.nasa.gov/sp_phys/data/ace/sis/level_2_cdaweb/sis_h1/2023/ac_h1_sis_20230221_v06.cdf to ./data/ACE/SIS/temp/20230221.cdf\n"
     ]
    },
    {
     "name": "stderr",
     "output_type": "stream",
     "text": [
      "100%|██████████| 108696/108696 [00:00<00:00, 158633.15it/s]\n"
     ]
    },
    {
     "name": "stdout",
     "output_type": "stream",
     "text": [
      "Downloading https://cdaweb.gsfc.nasa.gov/sp_phys/data/ace/sis/level_2_cdaweb/sis_h1/2023/ac_h1_sis_20230222_v06.cdf to ./data/ACE/SIS/temp/20230222.cdf\n"
     ]
    },
    {
     "name": "stderr",
     "output_type": "stream",
     "text": [
      "100%|██████████| 107889/107889 [00:00<00:00, 157059.58it/s]\n"
     ]
    },
    {
     "name": "stdout",
     "output_type": "stream",
     "text": [
      "Downloading https://cdaweb.gsfc.nasa.gov/sp_phys/data/ace/sis/level_2_cdaweb/sis_h1/2023/ac_h1_sis_20230223_v06.cdf to ./data/ACE/SIS/temp/20230223.cdf\n"
     ]
    },
    {
     "name": "stderr",
     "output_type": "stream",
     "text": [
      "100%|██████████| 106090/106090 [00:00<00:00, 155806.12it/s]\n"
     ]
    },
    {
     "name": "stdout",
     "output_type": "stream",
     "text": [
      "Downloading https://cdaweb.gsfc.nasa.gov/sp_phys/data/ace/sis/level_2_cdaweb/sis_h1/2023/ac_h1_sis_20230224_v06.cdf to ./data/ACE/SIS/temp/20230224.cdf\n"
     ]
    },
    {
     "name": "stderr",
     "output_type": "stream",
     "text": [
      "100%|██████████| 107269/107269 [00:00<00:00, 156816.24it/s]\n"
     ]
    },
    {
     "name": "stdout",
     "output_type": "stream",
     "text": [
      "Downloading https://cdaweb.gsfc.nasa.gov/sp_phys/data/ace/sis/level_2_cdaweb/sis_h1/2023/ac_h1_sis_20230225_v06.cdf to ./data/ACE/SIS/temp/20230225.cdf\n"
     ]
    },
    {
     "name": "stderr",
     "output_type": "stream",
     "text": [
      "100%|██████████| 113850/113850 [00:00<00:00, 174336.71it/s]\n"
     ]
    },
    {
     "name": "stdout",
     "output_type": "stream",
     "text": [
      "Downloading https://cdaweb.gsfc.nasa.gov/sp_phys/data/ace/sis/level_2_cdaweb/sis_h1/2023/ac_h1_sis_20230226_v06.cdf to ./data/ACE/SIS/temp/20230226.cdf\n"
     ]
    },
    {
     "name": "stderr",
     "output_type": "stream",
     "text": [
      "100%|██████████| 131865/131865 [00:00<00:00, 202193.27it/s]\n"
     ]
    },
    {
     "name": "stdout",
     "output_type": "stream",
     "text": [
      "Downloading https://cdaweb.gsfc.nasa.gov/sp_phys/data/ace/sis/level_2_cdaweb/sis_h1/2023/ac_h1_sis_20230227_v06.cdf to ./data/ACE/SIS/temp/20230227.cdf\n"
     ]
    },
    {
     "name": "stderr",
     "output_type": "stream",
     "text": [
      "100%|██████████| 115357/115357 [00:00<00:00, 173841.90it/s]\n"
     ]
    },
    {
     "name": "stdout",
     "output_type": "stream",
     "text": [
      "Downloading https://cdaweb.gsfc.nasa.gov/sp_phys/data/ace/sis/level_2_cdaweb/sis_h1/2023/ac_h1_sis_20230228_v06.cdf to ./data/ACE/SIS/temp/20230228.cdf\n"
     ]
    },
    {
     "name": "stderr",
     "output_type": "stream",
     "text": [
      "100%|██████████| 110402/110402 [00:00<00:00, 153192.55it/s]\n"
     ]
    },
    {
     "name": "stdout",
     "output_type": "stream",
     "text": [
      "Downloading https://cdaweb.gsfc.nasa.gov/sp_phys/data/ace/sis/level_2_cdaweb/sis_h1/2023/ac_h1_sis_20230301_v06.cdf to ./data/ACE/SIS/temp/20230301.cdf\n"
     ]
    },
    {
     "name": "stderr",
     "output_type": "stream",
     "text": [
      "100%|██████████| 108461/108461 [00:00<00:00, 169180.87it/s]\n"
     ]
    },
    {
     "name": "stdout",
     "output_type": "stream",
     "text": [
      "Downloading https://cdaweb.gsfc.nasa.gov/sp_phys/data/ace/sis/level_2_cdaweb/sis_h1/2023/ac_h1_sis_20230302_v06.cdf to ./data/ACE/SIS/temp/20230302.cdf\n"
     ]
    },
    {
     "name": "stderr",
     "output_type": "stream",
     "text": [
      "100%|██████████| 107002/107002 [00:00<00:00, 164163.69it/s]\n"
     ]
    },
    {
     "name": "stdout",
     "output_type": "stream",
     "text": [
      "Downloading https://cdaweb.gsfc.nasa.gov/sp_phys/data/ace/sis/level_2_cdaweb/sis_h1/2023/ac_h1_sis_20230303_v06.cdf to ./data/ACE/SIS/temp/20230303.cdf\n"
     ]
    },
    {
     "name": "stderr",
     "output_type": "stream",
     "text": [
      "100%|██████████| 106260/106260 [00:00<00:00, 163837.77it/s]\n"
     ]
    },
    {
     "name": "stdout",
     "output_type": "stream",
     "text": [
      "Downloading https://cdaweb.gsfc.nasa.gov/sp_phys/data/ace/sis/level_2_cdaweb/sis_h1/2023/ac_h1_sis_20230304_v06.cdf to ./data/ACE/SIS/temp/20230304.cdf\n"
     ]
    },
    {
     "name": "stderr",
     "output_type": "stream",
     "text": [
      "100%|██████████| 110269/110269 [00:00<00:00, 164672.34it/s]\n"
     ]
    },
    {
     "name": "stdout",
     "output_type": "stream",
     "text": [
      "Downloading https://cdaweb.gsfc.nasa.gov/sp_phys/data/ace/sis/level_2_cdaweb/sis_h1/2023/ac_h1_sis_20230305_v06.cdf to ./data/ACE/SIS/temp/20230305.cdf\n"
     ]
    },
    {
     "name": "stderr",
     "output_type": "stream",
     "text": [
      "100%|██████████| 106787/106787 [00:00<00:00, 155229.54it/s]\n"
     ]
    },
    {
     "name": "stdout",
     "output_type": "stream",
     "text": [
      "Downloading https://cdaweb.gsfc.nasa.gov/sp_phys/data/ace/sis/level_2_cdaweb/sis_h1/2023/ac_h1_sis_20230306_v06.cdf to ./data/ACE/SIS/temp/20230306.cdf\n"
     ]
    },
    {
     "name": "stderr",
     "output_type": "stream",
     "text": [
      "100%|██████████| 107361/107361 [00:02<00:00, 53019.26it/s]\n"
     ]
    },
    {
     "name": "stdout",
     "output_type": "stream",
     "text": [
      "Downloading https://cdaweb.gsfc.nasa.gov/sp_phys/data/ace/sis/level_2_cdaweb/sis_h1/2023/ac_h1_sis_20230307_v06.cdf to ./data/ACE/SIS/temp/20230307.cdf\n"
     ]
    },
    {
     "name": "stderr",
     "output_type": "stream",
     "text": [
      "100%|██████████| 105913/105913 [00:00<00:00, 159546.99it/s]\n"
     ]
    },
    {
     "name": "stdout",
     "output_type": "stream",
     "text": [
      "Downloading https://cdaweb.gsfc.nasa.gov/sp_phys/data/ace/sis/level_2_cdaweb/sis_h1/2023/ac_h1_sis_20230308_v06.cdf to ./data/ACE/SIS/temp/20230308.cdf\n"
     ]
    },
    {
     "name": "stderr",
     "output_type": "stream",
     "text": [
      "100%|██████████| 104741/104741 [00:00<00:00, 152523.61it/s]\n"
     ]
    },
    {
     "name": "stdout",
     "output_type": "stream",
     "text": [
      "Downloading https://cdaweb.gsfc.nasa.gov/sp_phys/data/ace/sis/level_2_cdaweb/sis_h1/2023/ac_h1_sis_20230309_v06.cdf to ./data/ACE/SIS/temp/20230309.cdf\n"
     ]
    },
    {
     "name": "stderr",
     "output_type": "stream",
     "text": [
      "100%|██████████| 104422/104422 [00:00<00:00, 153374.56it/s]\n"
     ]
    },
    {
     "name": "stdout",
     "output_type": "stream",
     "text": [
      "Downloading https://cdaweb.gsfc.nasa.gov/sp_phys/data/ace/sis/level_2_cdaweb/sis_h1/2023/ac_h1_sis_20230310_v06.cdf to ./data/ACE/SIS/temp/20230310.cdf\n"
     ]
    },
    {
     "name": "stderr",
     "output_type": "stream",
     "text": [
      "100%|██████████| 106253/106253 [00:00<00:00, 150427.90it/s]\n"
     ]
    },
    {
     "name": "stdout",
     "output_type": "stream",
     "text": [
      "Downloading https://cdaweb.gsfc.nasa.gov/sp_phys/data/ace/sis/level_2_cdaweb/sis_h1/2023/ac_h1_sis_20230311_v06.cdf to ./data/ACE/SIS/temp/20230311.cdf\n"
     ]
    },
    {
     "name": "stderr",
     "output_type": "stream",
     "text": [
      "100%|██████████| 105516/105516 [00:00<00:00, 154272.62it/s]\n"
     ]
    },
    {
     "name": "stdout",
     "output_type": "stream",
     "text": [
      "Downloading https://cdaweb.gsfc.nasa.gov/sp_phys/data/ace/sis/level_2_cdaweb/sis_h1/2023/ac_h1_sis_20230312_v06.cdf to ./data/ACE/SIS/temp/20230312.cdf\n"
     ]
    },
    {
     "name": "stderr",
     "output_type": "stream",
     "text": [
      "100%|██████████| 104951/104951 [00:00<00:00, 149639.68it/s]\n"
     ]
    },
    {
     "name": "stdout",
     "output_type": "stream",
     "text": [
      "Downloading https://cdaweb.gsfc.nasa.gov/sp_phys/data/ace/sis/level_2_cdaweb/sis_h1/2023/ac_h1_sis_20230313_v06.cdf to ./data/ACE/SIS/temp/20230313.cdf\n"
     ]
    },
    {
     "name": "stderr",
     "output_type": "stream",
     "text": [
      "100%|██████████| 122376/122376 [00:00<00:00, 173824.84it/s]\n"
     ]
    },
    {
     "name": "stdout",
     "output_type": "stream",
     "text": [
      "Downloading https://cdaweb.gsfc.nasa.gov/sp_phys/data/ace/sis/level_2_cdaweb/sis_h1/2023/ac_h1_sis_20230314_v06.cdf to ./data/ACE/SIS/temp/20230314.cdf\n"
     ]
    },
    {
     "name": "stderr",
     "output_type": "stream",
     "text": [
      "100%|██████████| 119758/119758 [00:00<00:00, 170983.49it/s]\n"
     ]
    },
    {
     "name": "stdout",
     "output_type": "stream",
     "text": [
      "Downloading https://cdaweb.gsfc.nasa.gov/sp_phys/data/ace/sis/level_2_cdaweb/sis_h1/2023/ac_h1_sis_20230315_v06.cdf to ./data/ACE/SIS/temp/20230315.cdf\n"
     ]
    },
    {
     "name": "stderr",
     "output_type": "stream",
     "text": [
      "100%|██████████| 113812/113812 [00:00<00:00, 167550.16it/s]\n"
     ]
    },
    {
     "name": "stdout",
     "output_type": "stream",
     "text": [
      "Downloading https://cdaweb.gsfc.nasa.gov/sp_phys/data/ace/sis/level_2_cdaweb/sis_h1/2023/ac_h1_sis_20230316_v06.cdf to ./data/ACE/SIS/temp/20230316.cdf\n"
     ]
    },
    {
     "name": "stderr",
     "output_type": "stream",
     "text": [
      "100%|██████████| 112503/112503 [00:00<00:00, 164416.97it/s]\n"
     ]
    },
    {
     "name": "stdout",
     "output_type": "stream",
     "text": [
      "Downloading https://cdaweb.gsfc.nasa.gov/sp_phys/data/ace/sis/level_2_cdaweb/sis_h1/2023/ac_h1_sis_20230317_v06.cdf to ./data/ACE/SIS/temp/20230317.cdf\n"
     ]
    },
    {
     "name": "stderr",
     "output_type": "stream",
     "text": [
      "100%|██████████| 112340/112340 [00:00<00:00, 165785.22it/s]\n"
     ]
    },
    {
     "name": "stdout",
     "output_type": "stream",
     "text": [
      "Downloading https://cdaweb.gsfc.nasa.gov/sp_phys/data/ace/sis/level_2_cdaweb/sis_h1/2023/ac_h1_sis_20230318_v06.cdf to ./data/ACE/SIS/temp/20230318.cdf\n"
     ]
    },
    {
     "name": "stderr",
     "output_type": "stream",
     "text": [
      "100%|██████████| 112841/112841 [00:00<00:00, 156101.56it/s]\n"
     ]
    },
    {
     "name": "stdout",
     "output_type": "stream",
     "text": [
      "Downloading https://cdaweb.gsfc.nasa.gov/sp_phys/data/ace/sis/level_2_cdaweb/sis_h1/2023/ac_h1_sis_20230319_v06.cdf to ./data/ACE/SIS/temp/20230319.cdf\n"
     ]
    },
    {
     "name": "stderr",
     "output_type": "stream",
     "text": [
      "100%|██████████| 113974/113974 [00:00<00:00, 170873.23it/s]\n"
     ]
    },
    {
     "name": "stdout",
     "output_type": "stream",
     "text": [
      "Downloading https://cdaweb.gsfc.nasa.gov/sp_phys/data/ace/sis/level_2_cdaweb/sis_h1/2023/ac_h1_sis_20230320_v06.cdf to ./data/ACE/SIS/temp/20230320.cdf\n"
     ]
    },
    {
     "name": "stderr",
     "output_type": "stream",
     "text": [
      "100%|██████████| 114207/114207 [00:00<00:00, 172850.51it/s]\n"
     ]
    },
    {
     "name": "stdout",
     "output_type": "stream",
     "text": [
      "Downloading https://cdaweb.gsfc.nasa.gov/sp_phys/data/ace/sis/level_2_cdaweb/sis_h1/2023/ac_h1_sis_20230321_v06.cdf to ./data/ACE/SIS/temp/20230321.cdf\n"
     ]
    },
    {
     "name": "stderr",
     "output_type": "stream",
     "text": [
      "100%|██████████| 112873/112873 [00:00<00:00, 162772.17it/s]\n"
     ]
    },
    {
     "name": "stdout",
     "output_type": "stream",
     "text": [
      "Downloading https://cdaweb.gsfc.nasa.gov/sp_phys/data/ace/sis/level_2_cdaweb/sis_h1/2023/ac_h1_sis_20230322_v06.cdf to ./data/ACE/SIS/temp/20230322.cdf\n"
     ]
    },
    {
     "name": "stderr",
     "output_type": "stream",
     "text": [
      "100%|██████████| 111475/111475 [00:00<00:00, 165756.70it/s]\n"
     ]
    },
    {
     "name": "stdout",
     "output_type": "stream",
     "text": [
      "Downloading https://cdaweb.gsfc.nasa.gov/sp_phys/data/ace/sis/level_2_cdaweb/sis_h1/2023/ac_h1_sis_20230323_v06.cdf to ./data/ACE/SIS/temp/20230323.cdf\n"
     ]
    },
    {
     "name": "stderr",
     "output_type": "stream",
     "text": [
      "100%|██████████| 109689/109689 [00:00<00:00, 156851.46it/s]\n"
     ]
    },
    {
     "name": "stdout",
     "output_type": "stream",
     "text": [
      "Downloading https://cdaweb.gsfc.nasa.gov/sp_phys/data/ace/sis/level_2_cdaweb/sis_h1/2023/ac_h1_sis_20230324_v06.cdf to ./data/ACE/SIS/temp/20230324.cdf\n"
     ]
    },
    {
     "name": "stderr",
     "output_type": "stream",
     "text": [
      "100%|██████████| 108882/108882 [00:00<00:00, 158707.52it/s]\n"
     ]
    },
    {
     "name": "stdout",
     "output_type": "stream",
     "text": [
      "Downloading https://cdaweb.gsfc.nasa.gov/sp_phys/data/ace/sis/level_2_cdaweb/sis_h1/2023/ac_h1_sis_20230325_v06.cdf to ./data/ACE/SIS/temp/20230325.cdf\n"
     ]
    },
    {
     "name": "stderr",
     "output_type": "stream",
     "text": [
      "100%|██████████| 108472/108472 [00:00<00:00, 168425.91it/s]\n"
     ]
    },
    {
     "name": "stdout",
     "output_type": "stream",
     "text": [
      "Downloading https://cdaweb.gsfc.nasa.gov/sp_phys/data/ace/sis/level_2_cdaweb/sis_h1/2023/ac_h1_sis_20230326_v06.cdf to ./data/ACE/SIS/temp/20230326.cdf\n"
     ]
    },
    {
     "name": "stderr",
     "output_type": "stream",
     "text": [
      "100%|██████████| 108799/108799 [00:00<00:00, 168812.60it/s]\n"
     ]
    },
    {
     "name": "stdout",
     "output_type": "stream",
     "text": [
      "Downloading https://cdaweb.gsfc.nasa.gov/sp_phys/data/ace/sis/level_2_cdaweb/sis_h1/2023/ac_h1_sis_20230327_v06.cdf to ./data/ACE/SIS/temp/20230327.cdf\n"
     ]
    },
    {
     "name": "stderr",
     "output_type": "stream",
     "text": [
      "100%|██████████| 108430/108430 [00:00<00:00, 167073.97it/s]\n"
     ]
    },
    {
     "name": "stdout",
     "output_type": "stream",
     "text": [
      "Downloading https://cdaweb.gsfc.nasa.gov/sp_phys/data/ace/sis/level_2_cdaweb/sis_h1/2023/ac_h1_sis_20230328_v06.cdf to ./data/ACE/SIS/temp/20230328.cdf\n"
     ]
    },
    {
     "name": "stderr",
     "output_type": "stream",
     "text": [
      "100%|██████████| 107591/107591 [00:00<00:00, 151787.23it/s]\n"
     ]
    },
    {
     "name": "stdout",
     "output_type": "stream",
     "text": [
      "Downloading https://cdaweb.gsfc.nasa.gov/sp_phys/data/ace/sis/level_2_cdaweb/sis_h1/2023/ac_h1_sis_20230329_v06.cdf to ./data/ACE/SIS/temp/20230329.cdf\n"
     ]
    },
    {
     "name": "stderr",
     "output_type": "stream",
     "text": [
      "100%|██████████| 106625/106625 [00:00<00:00, 161404.21it/s]\n"
     ]
    },
    {
     "name": "stdout",
     "output_type": "stream",
     "text": [
      "Downloading https://cdaweb.gsfc.nasa.gov/sp_phys/data/ace/sis/level_2_cdaweb/sis_h1/2023/ac_h1_sis_20230330_v06.cdf to ./data/ACE/SIS/temp/20230330.cdf\n"
     ]
    },
    {
     "name": "stderr",
     "output_type": "stream",
     "text": [
      "100%|██████████| 107395/107395 [00:00<00:00, 153112.59it/s]\n"
     ]
    },
    {
     "name": "stdout",
     "output_type": "stream",
     "text": [
      "Downloading https://cdaweb.gsfc.nasa.gov/sp_phys/data/ace/sis/level_2_cdaweb/sis_h1/2023/ac_h1_sis_20230331_v06.cdf to ./data/ACE/SIS/temp/20230331.cdf\n"
     ]
    },
    {
     "name": "stderr",
     "output_type": "stream",
     "text": [
      "100%|██████████| 105519/105519 [00:00<00:00, 158918.49it/s]\n"
     ]
    },
    {
     "name": "stdout",
     "output_type": "stream",
     "text": [
      "Downloading https://cdaweb.gsfc.nasa.gov/sp_phys/data/ace/sis/level_2_cdaweb/sis_h1/2023/ac_h1_sis_20230401_v06.cdf to ./data/ACE/SIS/temp/20230401.cdf\n"
     ]
    },
    {
     "name": "stderr",
     "output_type": "stream",
     "text": [
      "100%|██████████| 105617/105617 [00:00<00:00, 150713.10it/s]\n"
     ]
    },
    {
     "name": "stdout",
     "output_type": "stream",
     "text": [
      "Downloading https://cdaweb.gsfc.nasa.gov/sp_phys/data/ace/sis/level_2_cdaweb/sis_h1/2023/ac_h1_sis_20230402_v06.cdf to ./data/ACE/SIS/temp/20230402.cdf\n"
     ]
    },
    {
     "name": "stderr",
     "output_type": "stream",
     "text": [
      "100%|██████████| 104829/104829 [00:00<00:00, 147622.92it/s]\n"
     ]
    },
    {
     "name": "stdout",
     "output_type": "stream",
     "text": [
      "Downloading https://cdaweb.gsfc.nasa.gov/sp_phys/data/ace/sis/level_2_cdaweb/sis_h1/2023/ac_h1_sis_20230403_v06.cdf to ./data/ACE/SIS/temp/20230403.cdf\n"
     ]
    },
    {
     "name": "stderr",
     "output_type": "stream",
     "text": [
      "100%|██████████| 104474/104474 [00:00<00:00, 160782.99it/s]\n"
     ]
    },
    {
     "name": "stdout",
     "output_type": "stream",
     "text": [
      "Downloading https://cdaweb.gsfc.nasa.gov/sp_phys/data/ace/sis/level_2_cdaweb/sis_h1/2023/ac_h1_sis_20230404_v06.cdf to ./data/ACE/SIS/temp/20230404.cdf\n"
     ]
    },
    {
     "name": "stderr",
     "output_type": "stream",
     "text": [
      "100%|██████████| 104181/104181 [00:00<00:00, 157591.98it/s]\n"
     ]
    },
    {
     "name": "stdout",
     "output_type": "stream",
     "text": [
      "Downloading https://cdaweb.gsfc.nasa.gov/sp_phys/data/ace/sis/level_2_cdaweb/sis_h1/2023/ac_h1_sis_20230405_v06.cdf to ./data/ACE/SIS/temp/20230405.cdf\n"
     ]
    },
    {
     "name": "stderr",
     "output_type": "stream",
     "text": [
      "100%|██████████| 104232/104232 [00:00<00:00, 148125.09it/s]\n"
     ]
    },
    {
     "name": "stdout",
     "output_type": "stream",
     "text": [
      "Downloading https://cdaweb.gsfc.nasa.gov/sp_phys/data/ace/sis/level_2_cdaweb/sis_h1/2023/ac_h1_sis_20230406_v06.cdf to ./data/ACE/SIS/temp/20230406.cdf\n"
     ]
    },
    {
     "name": "stderr",
     "output_type": "stream",
     "text": [
      "100%|██████████| 104152/104152 [00:00<00:00, 153566.63it/s]\n"
     ]
    },
    {
     "name": "stdout",
     "output_type": "stream",
     "text": [
      "Downloading https://cdaweb.gsfc.nasa.gov/sp_phys/data/ace/sis/level_2_cdaweb/sis_h1/2023/ac_h1_sis_20230407_v06.cdf to ./data/ACE/SIS/temp/20230407.cdf\n"
     ]
    },
    {
     "name": "stderr",
     "output_type": "stream",
     "text": [
      "100%|██████████| 104287/104287 [00:00<00:00, 149213.83it/s]\n"
     ]
    },
    {
     "name": "stdout",
     "output_type": "stream",
     "text": [
      "Downloading https://cdaweb.gsfc.nasa.gov/sp_phys/data/ace/sis/level_2_cdaweb/sis_h1/2023/ac_h1_sis_20230408_v06.cdf to ./data/ACE/SIS/temp/20230408.cdf\n"
     ]
    },
    {
     "name": "stderr",
     "output_type": "stream",
     "text": [
      "100%|██████████| 104414/104414 [00:00<00:00, 153544.98it/s]\n"
     ]
    },
    {
     "name": "stdout",
     "output_type": "stream",
     "text": [
      "Downloading https://cdaweb.gsfc.nasa.gov/sp_phys/data/ace/sis/level_2_cdaweb/sis_h1/2023/ac_h1_sis_20230409_v06.cdf to ./data/ACE/SIS/temp/20230409.cdf\n"
     ]
    },
    {
     "name": "stderr",
     "output_type": "stream",
     "text": [
      "100%|██████████| 104564/104564 [00:00<00:00, 151933.55it/s]\n"
     ]
    },
    {
     "name": "stdout",
     "output_type": "stream",
     "text": [
      "Downloading https://cdaweb.gsfc.nasa.gov/sp_phys/data/ace/sis/level_2_cdaweb/sis_h1/2023/ac_h1_sis_20230410_v06.cdf to ./data/ACE/SIS/temp/20230410.cdf\n"
     ]
    },
    {
     "name": "stderr",
     "output_type": "stream",
     "text": [
      "100%|██████████| 104418/104418 [00:00<00:00, 160157.17it/s]\n"
     ]
    },
    {
     "name": "stdout",
     "output_type": "stream",
     "text": [
      "Downloading https://cdaweb.gsfc.nasa.gov/sp_phys/data/ace/sis/level_2_cdaweb/sis_h1/2023/ac_h1_sis_20230411_v06.cdf to ./data/ACE/SIS/temp/20230411.cdf\n"
     ]
    },
    {
     "name": "stderr",
     "output_type": "stream",
     "text": [
      "100%|██████████| 104272/104272 [00:00<00:00, 149124.50it/s]\n"
     ]
    },
    {
     "name": "stdout",
     "output_type": "stream",
     "text": [
      "Downloading https://cdaweb.gsfc.nasa.gov/sp_phys/data/ace/sis/level_2_cdaweb/sis_h1/2023/ac_h1_sis_20230412_v06.cdf to ./data/ACE/SIS/temp/20230412.cdf\n"
     ]
    },
    {
     "name": "stderr",
     "output_type": "stream",
     "text": [
      "100%|██████████| 104357/104357 [00:00<00:00, 159235.45it/s]\n"
     ]
    },
    {
     "name": "stdout",
     "output_type": "stream",
     "text": [
      "Downloading https://cdaweb.gsfc.nasa.gov/sp_phys/data/ace/sis/level_2_cdaweb/sis_h1/2023/ac_h1_sis_20230413_v06.cdf to ./data/ACE/SIS/temp/20230413.cdf\n"
     ]
    },
    {
     "name": "stderr",
     "output_type": "stream",
     "text": [
      "100%|██████████| 104349/104349 [00:00<00:00, 160048.29it/s]\n"
     ]
    },
    {
     "name": "stdout",
     "output_type": "stream",
     "text": [
      "Downloading https://cdaweb.gsfc.nasa.gov/sp_phys/data/ace/sis/level_2_cdaweb/sis_h1/2023/ac_h1_sis_20230414_v06.cdf to ./data/ACE/SIS/temp/20230414.cdf\n"
     ]
    },
    {
     "name": "stderr",
     "output_type": "stream",
     "text": [
      "100%|██████████| 104279/104279 [00:00<00:00, 152802.26it/s]\n"
     ]
    },
    {
     "name": "stdout",
     "output_type": "stream",
     "text": [
      "Downloading https://cdaweb.gsfc.nasa.gov/sp_phys/data/ace/sis/level_2_cdaweb/sis_h1/2023/ac_h1_sis_20230415_v06.cdf to ./data/ACE/SIS/temp/20230415.cdf\n"
     ]
    },
    {
     "name": "stderr",
     "output_type": "stream",
     "text": [
      "100%|██████████| 104424/104424 [00:00<00:00, 149458.18it/s]\n"
     ]
    },
    {
     "name": "stdout",
     "output_type": "stream",
     "text": [
      "Downloading https://cdaweb.gsfc.nasa.gov/sp_phys/data/ace/sis/level_2_cdaweb/sis_h1/2023/ac_h1_sis_20230416_v06.cdf to ./data/ACE/SIS/temp/20230416.cdf\n"
     ]
    },
    {
     "name": "stderr",
     "output_type": "stream",
     "text": [
      "100%|██████████| 104276/104276 [00:00<00:00, 156251.43it/s]\n"
     ]
    },
    {
     "name": "stdout",
     "output_type": "stream",
     "text": [
      "Downloading https://cdaweb.gsfc.nasa.gov/sp_phys/data/ace/sis/level_2_cdaweb/sis_h1/2023/ac_h1_sis_20230417_v06.cdf to ./data/ACE/SIS/temp/20230417.cdf\n"
     ]
    },
    {
     "name": "stderr",
     "output_type": "stream",
     "text": [
      "100%|██████████| 104095/104095 [00:00<00:00, 149597.27it/s]\n"
     ]
    },
    {
     "name": "stdout",
     "output_type": "stream",
     "text": [
      "Downloading https://cdaweb.gsfc.nasa.gov/sp_phys/data/ace/sis/level_2_cdaweb/sis_h1/2023/ac_h1_sis_20230418_v06.cdf to ./data/ACE/SIS/temp/20230418.cdf\n"
     ]
    },
    {
     "name": "stderr",
     "output_type": "stream",
     "text": [
      "100%|██████████| 104370/104370 [00:00<00:00, 154362.60it/s]\n"
     ]
    },
    {
     "name": "stdout",
     "output_type": "stream",
     "text": [
      "Downloading https://cdaweb.gsfc.nasa.gov/sp_phys/data/ace/sis/level_2_cdaweb/sis_h1/2023/ac_h1_sis_20230419_v06.cdf to ./data/ACE/SIS/temp/20230419.cdf\n"
     ]
    },
    {
     "name": "stderr",
     "output_type": "stream",
     "text": [
      "100%|██████████| 104186/104186 [00:00<00:00, 163693.91it/s]\n"
     ]
    },
    {
     "name": "stdout",
     "output_type": "stream",
     "text": [
      "Downloading https://cdaweb.gsfc.nasa.gov/sp_phys/data/ace/sis/level_2_cdaweb/sis_h1/2023/ac_h1_sis_20230420_v06.cdf to ./data/ACE/SIS/temp/20230420.cdf\n"
     ]
    },
    {
     "name": "stderr",
     "output_type": "stream",
     "text": [
      "100%|██████████| 104120/104120 [00:00<00:00, 156869.86it/s]\n"
     ]
    },
    {
     "name": "stdout",
     "output_type": "stream",
     "text": [
      "Downloading https://cdaweb.gsfc.nasa.gov/sp_phys/data/ace/sis/level_2_cdaweb/sis_h1/2023/ac_h1_sis_20230421_v06.cdf to ./data/ACE/SIS/temp/20230421.cdf\n"
     ]
    },
    {
     "name": "stderr",
     "output_type": "stream",
     "text": [
      "100%|██████████| 104868/104868 [00:00<00:00, 157177.08it/s]\n"
     ]
    },
    {
     "name": "stdout",
     "output_type": "stream",
     "text": [
      "Downloading https://cdaweb.gsfc.nasa.gov/sp_phys/data/ace/sis/level_2_cdaweb/sis_h1/2023/ac_h1_sis_20230422_v06.cdf to ./data/ACE/SIS/temp/20230422.cdf\n"
     ]
    },
    {
     "name": "stderr",
     "output_type": "stream",
     "text": [
      "100%|██████████| 111838/111838 [00:00<00:00, 167423.12it/s]\n"
     ]
    },
    {
     "name": "stdout",
     "output_type": "stream",
     "text": [
      "Downloading https://cdaweb.gsfc.nasa.gov/sp_phys/data/ace/sis/level_2_cdaweb/sis_h1/2023/ac_h1_sis_20230423_v06.cdf to ./data/ACE/SIS/temp/20230423.cdf\n"
     ]
    },
    {
     "name": "stderr",
     "output_type": "stream",
     "text": [
      "100%|██████████| 116554/116554 [00:00<00:00, 169351.26it/s]\n"
     ]
    },
    {
     "name": "stdout",
     "output_type": "stream",
     "text": [
      "Downloading https://cdaweb.gsfc.nasa.gov/sp_phys/data/ace/sis/level_2_cdaweb/sis_h1/2023/ac_h1_sis_20230424_v06.cdf to ./data/ACE/SIS/temp/20230424.cdf\n"
     ]
    },
    {
     "name": "stderr",
     "output_type": "stream",
     "text": [
      "100%|██████████| 109765/109765 [00:00<00:00, 165482.35it/s]\n"
     ]
    },
    {
     "name": "stdout",
     "output_type": "stream",
     "text": [
      "Downloading https://cdaweb.gsfc.nasa.gov/sp_phys/data/ace/sis/level_2_cdaweb/sis_h1/2023/ac_h1_sis_20230425_v06.cdf to ./data/ACE/SIS/temp/20230425.cdf\n"
     ]
    },
    {
     "name": "stderr",
     "output_type": "stream",
     "text": [
      "100%|██████████| 108187/108187 [00:00<00:00, 164597.45it/s]\n"
     ]
    },
    {
     "name": "stdout",
     "output_type": "stream",
     "text": [
      "Downloading https://cdaweb.gsfc.nasa.gov/sp_phys/data/ace/sis/level_2_cdaweb/sis_h1/2023/ac_h1_sis_20230426_v06.cdf to ./data/ACE/SIS/temp/20230426.cdf\n"
     ]
    },
    {
     "name": "stderr",
     "output_type": "stream",
     "text": [
      "100%|██████████| 105886/105886 [00:00<00:00, 166363.65it/s]\n"
     ]
    },
    {
     "name": "stdout",
     "output_type": "stream",
     "text": [
      "Downloading https://cdaweb.gsfc.nasa.gov/sp_phys/data/ace/sis/level_2_cdaweb/sis_h1/2023/ac_h1_sis_20230427_v06.cdf to ./data/ACE/SIS/temp/20230427.cdf\n"
     ]
    },
    {
     "name": "stderr",
     "output_type": "stream",
     "text": [
      "100%|██████████| 104257/104257 [00:00<00:00, 151101.42it/s]\n"
     ]
    },
    {
     "name": "stdout",
     "output_type": "stream",
     "text": [
      "Downloading https://cdaweb.gsfc.nasa.gov/sp_phys/data/ace/sis/level_2_cdaweb/sis_h1/2023/ac_h1_sis_20230428_v06.cdf to ./data/ACE/SIS/temp/20230428.cdf\n"
     ]
    },
    {
     "name": "stderr",
     "output_type": "stream",
     "text": [
      "100%|██████████| 104148/104148 [00:00<00:00, 166915.63it/s]\n"
     ]
    },
    {
     "name": "stdout",
     "output_type": "stream",
     "text": [
      "Downloading https://cdaweb.gsfc.nasa.gov/sp_phys/data/ace/sis/level_2_cdaweb/sis_h1/2023/ac_h1_sis_20230429_v06.cdf to ./data/ACE/SIS/temp/20230429.cdf\n"
     ]
    },
    {
     "name": "stderr",
     "output_type": "stream",
     "text": [
      "100%|██████████| 104769/104769 [00:00<00:00, 161760.90it/s]\n"
     ]
    },
    {
     "name": "stdout",
     "output_type": "stream",
     "text": [
      "Downloading https://cdaweb.gsfc.nasa.gov/sp_phys/data/ace/sis/level_2_cdaweb/sis_h1/2023/ac_h1_sis_20230430_v06.cdf to ./data/ACE/SIS/temp/20230430.cdf\n"
     ]
    },
    {
     "name": "stderr",
     "output_type": "stream",
     "text": [
      "100%|██████████| 106038/106038 [00:00<00:00, 160243.36it/s]\n"
     ]
    },
    {
     "name": "stdout",
     "output_type": "stream",
     "text": [
      "Downloading https://cdaweb.gsfc.nasa.gov/sp_phys/data/ace/sis/level_2_cdaweb/sis_h1/2023/ac_h1_sis_20230501_v06.cdf to ./data/ACE/SIS/temp/20230501.cdf\n"
     ]
    },
    {
     "name": "stderr",
     "output_type": "stream",
     "text": [
      "100%|██████████| 106842/106842 [00:00<00:00, 162831.23it/s]\n"
     ]
    },
    {
     "name": "stdout",
     "output_type": "stream",
     "text": [
      "Downloading https://cdaweb.gsfc.nasa.gov/sp_phys/data/ace/sis/level_2_cdaweb/sis_h1/2023/ac_h1_sis_20230502_v06.cdf to ./data/ACE/SIS/temp/20230502.cdf\n"
     ]
    },
    {
     "name": "stderr",
     "output_type": "stream",
     "text": [
      "100%|██████████| 106483/106483 [00:00<00:00, 172537.22it/s]\n"
     ]
    },
    {
     "name": "stdout",
     "output_type": "stream",
     "text": [
      "Downloading https://cdaweb.gsfc.nasa.gov/sp_phys/data/ace/sis/level_2_cdaweb/sis_h1/2023/ac_h1_sis_20230503_v06.cdf to ./data/ACE/SIS/temp/20230503.cdf\n"
     ]
    },
    {
     "name": "stderr",
     "output_type": "stream",
     "text": [
      "100%|██████████| 106070/106070 [00:00<00:00, 156685.17it/s]\n"
     ]
    },
    {
     "name": "stdout",
     "output_type": "stream",
     "text": [
      "Downloading https://cdaweb.gsfc.nasa.gov/sp_phys/data/ace/sis/level_2_cdaweb/sis_h1/2023/ac_h1_sis_20230504_v06.cdf to ./data/ACE/SIS/temp/20230504.cdf\n"
     ]
    },
    {
     "name": "stderr",
     "output_type": "stream",
     "text": [
      "100%|██████████| 104813/104813 [00:00<00:00, 158618.64it/s]\n"
     ]
    },
    {
     "name": "stdout",
     "output_type": "stream",
     "text": [
      "Downloading https://cdaweb.gsfc.nasa.gov/sp_phys/data/ace/sis/level_2_cdaweb/sis_h1/2023/ac_h1_sis_20230505_v06.cdf to ./data/ACE/SIS/temp/20230505.cdf\n"
     ]
    },
    {
     "name": "stderr",
     "output_type": "stream",
     "text": [
      "100%|██████████| 105770/105770 [00:00<00:00, 154077.62it/s]\n"
     ]
    },
    {
     "name": "stdout",
     "output_type": "stream",
     "text": [
      "Downloading https://cdaweb.gsfc.nasa.gov/sp_phys/data/ace/sis/level_2_cdaweb/sis_h1/2023/ac_h1_sis_20230506_v06.cdf to ./data/ACE/SIS/temp/20230506.cdf\n"
     ]
    },
    {
     "name": "stderr",
     "output_type": "stream",
     "text": [
      "100%|██████████| 110025/110025 [00:00<00:00, 169027.16it/s]\n"
     ]
    },
    {
     "name": "stdout",
     "output_type": "stream",
     "text": [
      "Downloading https://cdaweb.gsfc.nasa.gov/sp_phys/data/ace/sis/level_2_cdaweb/sis_h1/2023/ac_h1_sis_20230507_v06.cdf to ./data/ACE/SIS/temp/20230507.cdf\n"
     ]
    },
    {
     "name": "stderr",
     "output_type": "stream",
     "text": [
      "100%|██████████| 108124/108124 [00:00<00:00, 168512.01it/s]\n"
     ]
    },
    {
     "name": "stdout",
     "output_type": "stream",
     "text": [
      "Downloading https://cdaweb.gsfc.nasa.gov/sp_phys/data/ace/sis/level_2_cdaweb/sis_h1/2023/ac_h1_sis_20230508_v06.cdf to ./data/ACE/SIS/temp/20230508.cdf\n"
     ]
    },
    {
     "name": "stderr",
     "output_type": "stream",
     "text": [
      "100%|██████████| 118902/118902 [00:00<00:00, 183999.70it/s]\n"
     ]
    },
    {
     "name": "stdout",
     "output_type": "stream",
     "text": [
      "Downloading https://cdaweb.gsfc.nasa.gov/sp_phys/data/ace/sis/level_2_cdaweb/sis_h1/2023/ac_h1_sis_20230509_v06.cdf to ./data/ACE/SIS/temp/20230509.cdf\n"
     ]
    },
    {
     "name": "stderr",
     "output_type": "stream",
     "text": [
      "100%|██████████| 117317/117317 [00:00<00:00, 186731.32it/s]\n"
     ]
    },
    {
     "name": "stdout",
     "output_type": "stream",
     "text": [
      "Downloading https://cdaweb.gsfc.nasa.gov/sp_phys/data/ace/sis/level_2_cdaweb/sis_h1/2023/ac_h1_sis_20230510_v06.cdf to ./data/ACE/SIS/temp/20230510.cdf\n"
     ]
    },
    {
     "name": "stderr",
     "output_type": "stream",
     "text": [
      "100%|██████████| 143363/143363 [00:00<00:00, 210406.17it/s]\n"
     ]
    },
    {
     "name": "stdout",
     "output_type": "stream",
     "text": [
      "Downloading https://cdaweb.gsfc.nasa.gov/sp_phys/data/ace/sis/level_2_cdaweb/sis_h1/2023/ac_h1_sis_20230511_v06.cdf to ./data/ACE/SIS/temp/20230511.cdf\n"
     ]
    },
    {
     "name": "stderr",
     "output_type": "stream",
     "text": [
      "100%|██████████| 123263/123263 [00:00<00:00, 185417.40it/s]\n"
     ]
    },
    {
     "name": "stdout",
     "output_type": "stream",
     "text": [
      "Downloading https://cdaweb.gsfc.nasa.gov/sp_phys/data/ace/sis/level_2_cdaweb/sis_h1/2023/ac_h1_sis_20230512_v06.cdf to ./data/ACE/SIS/temp/20230512.cdf\n"
     ]
    },
    {
     "name": "stderr",
     "output_type": "stream",
     "text": [
      "100%|██████████| 112225/112225 [00:00<00:00, 179349.21it/s]\n"
     ]
    },
    {
     "name": "stdout",
     "output_type": "stream",
     "text": [
      "Downloading https://cdaweb.gsfc.nasa.gov/sp_phys/data/ace/sis/level_2_cdaweb/sis_h1/2023/ac_h1_sis_20230513_v06.cdf to ./data/ACE/SIS/temp/20230513.cdf\n"
     ]
    },
    {
     "name": "stderr",
     "output_type": "stream",
     "text": [
      "100%|██████████| 110003/110003 [00:00<00:00, 168927.72it/s]\n"
     ]
    },
    {
     "name": "stdout",
     "output_type": "stream",
     "text": [
      "Downloading https://cdaweb.gsfc.nasa.gov/sp_phys/data/ace/sis/level_2_cdaweb/sis_h1/2023/ac_h1_sis_20230514_v06.cdf to ./data/ACE/SIS/temp/20230514.cdf\n"
     ]
    },
    {
     "name": "stderr",
     "output_type": "stream",
     "text": [
      "100%|██████████| 108487/108487 [00:00<00:00, 159819.59it/s]\n"
     ]
    },
    {
     "name": "stdout",
     "output_type": "stream",
     "text": [
      "Downloading https://cdaweb.gsfc.nasa.gov/sp_phys/data/ace/sis/level_2_cdaweb/sis_h1/2023/ac_h1_sis_20230515_v06.cdf to ./data/ACE/SIS/temp/20230515.cdf\n"
     ]
    },
    {
     "name": "stderr",
     "output_type": "stream",
     "text": [
      "100%|██████████| 107158/107158 [00:00<00:00, 164077.02it/s]\n"
     ]
    },
    {
     "name": "stdout",
     "output_type": "stream",
     "text": [
      "Downloading https://cdaweb.gsfc.nasa.gov/sp_phys/data/ace/sis/level_2_cdaweb/sis_h1/2023/ac_h1_sis_20230516_v06.cdf to ./data/ACE/SIS/temp/20230516.cdf\n"
     ]
    },
    {
     "name": "stderr",
     "output_type": "stream",
     "text": [
      "100%|██████████| 106356/106356 [00:00<00:00, 150579.00it/s]\n"
     ]
    },
    {
     "name": "stdout",
     "output_type": "stream",
     "text": [
      "Downloading https://cdaweb.gsfc.nasa.gov/sp_phys/data/ace/sis/level_2_cdaweb/sis_h1/2023/ac_h1_sis_20230517_v06.cdf to ./data/ACE/SIS/temp/20230517.cdf\n"
     ]
    },
    {
     "name": "stderr",
     "output_type": "stream",
     "text": [
      "100%|██████████| 109142/109142 [00:00<00:00, 168750.69it/s]\n"
     ]
    },
    {
     "name": "stdout",
     "output_type": "stream",
     "text": [
      "Downloading https://cdaweb.gsfc.nasa.gov/sp_phys/data/ace/sis/level_2_cdaweb/sis_h1/2023/ac_h1_sis_20230518_v06.cdf to ./data/ACE/SIS/temp/20230518.cdf\n"
     ]
    },
    {
     "name": "stderr",
     "output_type": "stream",
     "text": [
      "100%|██████████| 109324/109324 [00:00<00:00, 163360.45it/s]\n"
     ]
    },
    {
     "name": "stdout",
     "output_type": "stream",
     "text": [
      "Downloading https://cdaweb.gsfc.nasa.gov/sp_phys/data/ace/sis/level_2_cdaweb/sis_h1/2023/ac_h1_sis_20230519_v06.cdf to ./data/ACE/SIS/temp/20230519.cdf\n"
     ]
    },
    {
     "name": "stderr",
     "output_type": "stream",
     "text": [
      "100%|██████████| 106456/106456 [00:00<00:00, 155992.10it/s]\n"
     ]
    },
    {
     "name": "stdout",
     "output_type": "stream",
     "text": [
      "Downloading https://cdaweb.gsfc.nasa.gov/sp_phys/data/ace/sis/level_2_cdaweb/sis_h1/2023/ac_h1_sis_20230520_v06.cdf to ./data/ACE/SIS/temp/20230520.cdf\n"
     ]
    },
    {
     "name": "stderr",
     "output_type": "stream",
     "text": [
      "100%|██████████| 104590/104590 [00:00<00:00, 158780.79it/s]\n"
     ]
    },
    {
     "name": "stdout",
     "output_type": "stream",
     "text": [
      "Downloading https://cdaweb.gsfc.nasa.gov/sp_phys/data/ace/sis/level_2_cdaweb/sis_h1/2023/ac_h1_sis_20230521_v06.cdf to ./data/ACE/SIS/temp/20230521.cdf\n"
     ]
    },
    {
     "name": "stderr",
     "output_type": "stream",
     "text": [
      "100%|██████████| 104361/104361 [00:00<00:00, 166388.64it/s]\n"
     ]
    },
    {
     "name": "stdout",
     "output_type": "stream",
     "text": [
      "Downloading https://cdaweb.gsfc.nasa.gov/sp_phys/data/ace/sis/level_2_cdaweb/sis_h1/2023/ac_h1_sis_20230522_v06.cdf to ./data/ACE/SIS/temp/20230522.cdf\n"
     ]
    },
    {
     "name": "stderr",
     "output_type": "stream",
     "text": [
      "100%|██████████| 104187/104187 [00:00<00:00, 152936.04it/s]\n"
     ]
    },
    {
     "name": "stdout",
     "output_type": "stream",
     "text": [
      "Downloading https://cdaweb.gsfc.nasa.gov/sp_phys/data/ace/sis/level_2_cdaweb/sis_h1/2023/ac_h1_sis_20230523_v06.cdf to ./data/ACE/SIS/temp/20230523.cdf\n"
     ]
    },
    {
     "name": "stderr",
     "output_type": "stream",
     "text": [
      "100%|██████████| 104441/104441 [00:00<00:00, 149025.95it/s]\n"
     ]
    },
    {
     "name": "stdout",
     "output_type": "stream",
     "text": [
      "Downloading https://cdaweb.gsfc.nasa.gov/sp_phys/data/ace/sis/level_2_cdaweb/sis_h1/2023/ac_h1_sis_20230524_v06.cdf to ./data/ACE/SIS/temp/20230524.cdf\n"
     ]
    },
    {
     "name": "stderr",
     "output_type": "stream",
     "text": [
      "100%|██████████| 104150/104150 [00:00<00:00, 157065.81it/s]\n"
     ]
    },
    {
     "name": "stdout",
     "output_type": "stream",
     "text": [
      "Downloading https://cdaweb.gsfc.nasa.gov/sp_phys/data/ace/sis/level_2_cdaweb/sis_h1/2023/ac_h1_sis_20230525_v06.cdf to ./data/ACE/SIS/temp/20230525.cdf\n"
     ]
    },
    {
     "name": "stderr",
     "output_type": "stream",
     "text": [
      "100%|██████████| 104228/104228 [00:00<00:00, 153657.94it/s]\n"
     ]
    },
    {
     "name": "stdout",
     "output_type": "stream",
     "text": [
      "Downloading https://cdaweb.gsfc.nasa.gov/sp_phys/data/ace/sis/level_2_cdaweb/sis_h1/2023/ac_h1_sis_20230526_v06.cdf to ./data/ACE/SIS/temp/20230526.cdf\n"
     ]
    },
    {
     "name": "stderr",
     "output_type": "stream",
     "text": [
      "100%|██████████| 104283/104283 [00:00<00:00, 156866.94it/s]\n"
     ]
    },
    {
     "name": "stdout",
     "output_type": "stream",
     "text": [
      "Downloading https://cdaweb.gsfc.nasa.gov/sp_phys/data/ace/sis/level_2_cdaweb/sis_h1/2023/ac_h1_sis_20230527_v06.cdf to ./data/ACE/SIS/temp/20230527.cdf\n"
     ]
    },
    {
     "name": "stderr",
     "output_type": "stream",
     "text": [
      "100%|██████████| 104989/104989 [00:00<00:00, 161055.83it/s]\n"
     ]
    },
    {
     "name": "stdout",
     "output_type": "stream",
     "text": [
      "Downloading https://cdaweb.gsfc.nasa.gov/sp_phys/data/ace/sis/level_2_cdaweb/sis_h1/2023/ac_h1_sis_20230528_v06.cdf to ./data/ACE/SIS/temp/20230528.cdf\n"
     ]
    },
    {
     "name": "stderr",
     "output_type": "stream",
     "text": [
      "100%|██████████| 104474/104474 [00:00<00:00, 155845.42it/s]\n"
     ]
    },
    {
     "name": "stdout",
     "output_type": "stream",
     "text": [
      "Downloading https://cdaweb.gsfc.nasa.gov/sp_phys/data/ace/sis/level_2_cdaweb/sis_h1/2023/ac_h1_sis_20230529_v06.cdf to ./data/ACE/SIS/temp/20230529.cdf\n"
     ]
    },
    {
     "name": "stderr",
     "output_type": "stream",
     "text": [
      "100%|██████████| 104444/104444 [00:00<00:00, 155927.50it/s]\n"
     ]
    },
    {
     "name": "stdout",
     "output_type": "stream",
     "text": [
      "Downloading https://cdaweb.gsfc.nasa.gov/sp_phys/data/ace/sis/level_2_cdaweb/sis_h1/2023/ac_h1_sis_20230530_v06.cdf to ./data/ACE/SIS/temp/20230530.cdf\n"
     ]
    },
    {
     "name": "stderr",
     "output_type": "stream",
     "text": [
      "100%|██████████| 104627/104627 [00:00<00:00, 167160.06it/s]\n"
     ]
    },
    {
     "name": "stdout",
     "output_type": "stream",
     "text": [
      "Downloading https://cdaweb.gsfc.nasa.gov/sp_phys/data/ace/sis/level_2_cdaweb/sis_h1/2023/ac_h1_sis_20230531_v06.cdf to ./data/ACE/SIS/temp/20230531.cdf\n"
     ]
    },
    {
     "name": "stderr",
     "output_type": "stream",
     "text": [
      "100%|██████████| 104425/104425 [00:00<00:00, 157164.92it/s]\n"
     ]
    },
    {
     "name": "stdout",
     "output_type": "stream",
     "text": [
      "Downloading https://cdaweb.gsfc.nasa.gov/sp_phys/data/ace/sis/level_2_cdaweb/sis_h1/2023/ac_h1_sis_20230601_v06.cdf to ./data/ACE/SIS/temp/20230601.cdf\n"
     ]
    },
    {
     "name": "stderr",
     "output_type": "stream",
     "text": [
      "100%|██████████| 108932/108932 [00:00<00:00, 169541.60it/s]\n"
     ]
    },
    {
     "name": "stdout",
     "output_type": "stream",
     "text": [
      "Downloading https://cdaweb.gsfc.nasa.gov/sp_phys/data/ace/sis/level_2_cdaweb/sis_h1/2023/ac_h1_sis_20230602_v06.cdf to ./data/ACE/SIS/temp/20230602.cdf\n"
     ]
    },
    {
     "name": "stderr",
     "output_type": "stream",
     "text": [
      "100%|██████████| 107551/107551 [00:00<00:00, 169706.50it/s]\n"
     ]
    },
    {
     "name": "stdout",
     "output_type": "stream",
     "text": [
      "Downloading https://cdaweb.gsfc.nasa.gov/sp_phys/data/ace/sis/level_2_cdaweb/sis_h1/2023/ac_h1_sis_20230603_v06.cdf to ./data/ACE/SIS/temp/20230603.cdf\n"
     ]
    },
    {
     "name": "stderr",
     "output_type": "stream",
     "text": [
      "100%|██████████| 105967/105967 [00:00<00:00, 164399.62it/s]\n"
     ]
    },
    {
     "name": "stdout",
     "output_type": "stream",
     "text": [
      "Downloading https://cdaweb.gsfc.nasa.gov/sp_phys/data/ace/sis/level_2_cdaweb/sis_h1/2023/ac_h1_sis_20230604_v06.cdf to ./data/ACE/SIS/temp/20230604.cdf\n"
     ]
    },
    {
     "name": "stderr",
     "output_type": "stream",
     "text": [
      "100%|██████████| 104597/104597 [00:00<00:00, 150976.72it/s]\n"
     ]
    },
    {
     "name": "stdout",
     "output_type": "stream",
     "text": [
      "Downloading https://cdaweb.gsfc.nasa.gov/sp_phys/data/ace/sis/level_2_cdaweb/sis_h1/2023/ac_h1_sis_20230605_v06.cdf to ./data/ACE/SIS/temp/20230605.cdf\n"
     ]
    },
    {
     "name": "stderr",
     "output_type": "stream",
     "text": [
      "100%|██████████| 104456/104456 [00:00<00:00, 157995.03it/s]\n"
     ]
    },
    {
     "name": "stdout",
     "output_type": "stream",
     "text": [
      "Downloading https://cdaweb.gsfc.nasa.gov/sp_phys/data/ace/sis/level_2_cdaweb/sis_h1/2023/ac_h1_sis_20230606_v06.cdf to ./data/ACE/SIS/temp/20230606.cdf\n"
     ]
    },
    {
     "name": "stderr",
     "output_type": "stream",
     "text": [
      "100%|██████████| 104168/104168 [00:00<00:00, 153153.48it/s]\n"
     ]
    },
    {
     "name": "stdout",
     "output_type": "stream",
     "text": [
      "Downloading https://cdaweb.gsfc.nasa.gov/sp_phys/data/ace/sis/level_2_cdaweb/sis_h1/2023/ac_h1_sis_20230607_v06.cdf to ./data/ACE/SIS/temp/20230607.cdf\n"
     ]
    },
    {
     "name": "stderr",
     "output_type": "stream",
     "text": [
      "100%|██████████| 104010/104010 [00:00<00:00, 159084.13it/s]\n"
     ]
    },
    {
     "name": "stdout",
     "output_type": "stream",
     "text": [
      "Downloading https://cdaweb.gsfc.nasa.gov/sp_phys/data/ace/sis/level_2_cdaweb/sis_h1/2023/ac_h1_sis_20230608_v06.cdf to ./data/ACE/SIS/temp/20230608.cdf\n"
     ]
    },
    {
     "name": "stderr",
     "output_type": "stream",
     "text": [
      "100%|██████████| 103986/103986 [00:00<00:00, 156649.40it/s]\n"
     ]
    },
    {
     "name": "stdout",
     "output_type": "stream",
     "text": [
      "Downloading https://cdaweb.gsfc.nasa.gov/sp_phys/data/ace/sis/level_2_cdaweb/sis_h1/2023/ac_h1_sis_20230609_v06.cdf to ./data/ACE/SIS/temp/20230609.cdf\n"
     ]
    },
    {
     "name": "stderr",
     "output_type": "stream",
     "text": [
      "100%|██████████| 103904/103904 [00:00<00:00, 150466.54it/s]\n"
     ]
    },
    {
     "name": "stdout",
     "output_type": "stream",
     "text": [
      "Downloading https://cdaweb.gsfc.nasa.gov/sp_phys/data/ace/sis/level_2_cdaweb/sis_h1/2023/ac_h1_sis_20230610_v06.cdf to ./data/ACE/SIS/temp/20230610.cdf\n"
     ]
    },
    {
     "name": "stderr",
     "output_type": "stream",
     "text": [
      "100%|██████████| 103840/103840 [00:00<00:00, 161547.24it/s]\n"
     ]
    },
    {
     "name": "stdout",
     "output_type": "stream",
     "text": [
      "Downloading https://cdaweb.gsfc.nasa.gov/sp_phys/data/ace/sis/level_2_cdaweb/sis_h1/2023/ac_h1_sis_20230611_v06.cdf to ./data/ACE/SIS/temp/20230611.cdf\n"
     ]
    },
    {
     "name": "stderr",
     "output_type": "stream",
     "text": [
      "100%|██████████| 103878/103878 [00:00<00:00, 155208.07it/s]\n"
     ]
    },
    {
     "name": "stdout",
     "output_type": "stream",
     "text": [
      "Downloading https://cdaweb.gsfc.nasa.gov/sp_phys/data/ace/sis/level_2_cdaweb/sis_h1/2023/ac_h1_sis_20230612_v06.cdf to ./data/ACE/SIS/temp/20230612.cdf\n"
     ]
    },
    {
     "name": "stderr",
     "output_type": "stream",
     "text": [
      "100%|██████████| 105814/105814 [00:00<00:00, 157597.08it/s]\n"
     ]
    },
    {
     "name": "stdout",
     "output_type": "stream",
     "text": [
      "Downloading https://cdaweb.gsfc.nasa.gov/sp_phys/data/ace/sis/level_2_cdaweb/sis_h1/2023/ac_h1_sis_20230613_v06.cdf to ./data/ACE/SIS/temp/20230613.cdf\n"
     ]
    },
    {
     "name": "stderr",
     "output_type": "stream",
     "text": [
      "100%|██████████| 104973/104973 [00:00<00:00, 160278.13it/s]\n"
     ]
    },
    {
     "name": "stdout",
     "output_type": "stream",
     "text": [
      "Downloading https://cdaweb.gsfc.nasa.gov/sp_phys/data/ace/sis/level_2_cdaweb/sis_h1/2023/ac_h1_sis_20230614_v06.cdf to ./data/ACE/SIS/temp/20230614.cdf\n"
     ]
    },
    {
     "name": "stderr",
     "output_type": "stream",
     "text": [
      "100%|██████████| 104535/104535 [00:00<00:00, 146292.77it/s]\n"
     ]
    },
    {
     "name": "stdout",
     "output_type": "stream",
     "text": [
      "Downloading https://cdaweb.gsfc.nasa.gov/sp_phys/data/ace/sis/level_2_cdaweb/sis_h1/2023/ac_h1_sis_20230615_v06.cdf to ./data/ACE/SIS/temp/20230615.cdf\n"
     ]
    },
    {
     "name": "stderr",
     "output_type": "stream",
     "text": [
      "100%|██████████| 104083/104083 [00:00<00:00, 150435.77it/s]\n"
     ]
    },
    {
     "name": "stdout",
     "output_type": "stream",
     "text": [
      "Downloading https://cdaweb.gsfc.nasa.gov/sp_phys/data/ace/sis/level_2_cdaweb/sis_h1/2023/ac_h1_sis_20230616_v06.cdf to ./data/ACE/SIS/temp/20230616.cdf\n"
     ]
    },
    {
     "name": "stderr",
     "output_type": "stream",
     "text": [
      "100%|██████████| 103993/103993 [00:00<00:00, 154871.84it/s]\n"
     ]
    },
    {
     "name": "stdout",
     "output_type": "stream",
     "text": [
      "Downloading https://cdaweb.gsfc.nasa.gov/sp_phys/data/ace/sis/level_2_cdaweb/sis_h1/2023/ac_h1_sis_20230617_v06.cdf to ./data/ACE/SIS/temp/20230617.cdf\n"
     ]
    },
    {
     "name": "stderr",
     "output_type": "stream",
     "text": [
      "100%|██████████| 104051/104051 [00:00<00:00, 153071.28it/s]\n"
     ]
    },
    {
     "name": "stdout",
     "output_type": "stream",
     "text": [
      "Downloading https://cdaweb.gsfc.nasa.gov/sp_phys/data/ace/sis/level_2_cdaweb/sis_h1/2023/ac_h1_sis_20230618_v06.cdf to ./data/ACE/SIS/temp/20230618.cdf\n"
     ]
    },
    {
     "name": "stderr",
     "output_type": "stream",
     "text": [
      "100%|██████████| 103949/103949 [00:00<00:00, 150745.09it/s]\n"
     ]
    },
    {
     "name": "stdout",
     "output_type": "stream",
     "text": [
      "Downloading https://cdaweb.gsfc.nasa.gov/sp_phys/data/ace/sis/level_2_cdaweb/sis_h1/2023/ac_h1_sis_20230619_v06.cdf to ./data/ACE/SIS/temp/20230619.cdf\n"
     ]
    },
    {
     "name": "stderr",
     "output_type": "stream",
     "text": [
      "100%|██████████| 104116/104116 [00:00<00:00, 157573.90it/s]\n"
     ]
    },
    {
     "name": "stdout",
     "output_type": "stream",
     "text": [
      "Downloading https://cdaweb.gsfc.nasa.gov/sp_phys/data/ace/sis/level_2_cdaweb/sis_h1/2023/ac_h1_sis_20230620_v06.cdf to ./data/ACE/SIS/temp/20230620.cdf\n"
     ]
    },
    {
     "name": "stderr",
     "output_type": "stream",
     "text": [
      "100%|██████████| 104111/104111 [00:00<00:00, 159949.62it/s]\n"
     ]
    },
    {
     "name": "stdout",
     "output_type": "stream",
     "text": [
      "Downloading https://cdaweb.gsfc.nasa.gov/sp_phys/data/ace/sis/level_2_cdaweb/sis_h1/2023/ac_h1_sis_20230621_v06.cdf to ./data/ACE/SIS/temp/20230621.cdf\n"
     ]
    },
    {
     "name": "stderr",
     "output_type": "stream",
     "text": [
      "100%|██████████| 104453/104453 [00:00<00:00, 157633.22it/s]\n"
     ]
    },
    {
     "name": "stdout",
     "output_type": "stream",
     "text": [
      "Downloading https://cdaweb.gsfc.nasa.gov/sp_phys/data/ace/sis/level_2_cdaweb/sis_h1/2023/ac_h1_sis_20230622_v06.cdf to ./data/ACE/SIS/temp/20230622.cdf\n"
     ]
    },
    {
     "name": "stderr",
     "output_type": "stream",
     "text": [
      "100%|██████████| 105036/105036 [00:00<00:00, 159136.58it/s]\n"
     ]
    },
    {
     "name": "stdout",
     "output_type": "stream",
     "text": [
      "Downloading https://cdaweb.gsfc.nasa.gov/sp_phys/data/ace/sis/level_2_cdaweb/sis_h1/2023/ac_h1_sis_20230623_v06.cdf to ./data/ACE/SIS/temp/20230623.cdf\n"
     ]
    },
    {
     "name": "stderr",
     "output_type": "stream",
     "text": [
      "100%|██████████| 105106/105106 [00:00<00:00, 161494.84it/s]\n"
     ]
    },
    {
     "name": "stdout",
     "output_type": "stream",
     "text": [
      "Downloading https://cdaweb.gsfc.nasa.gov/sp_phys/data/ace/sis/level_2_cdaweb/sis_h1/2023/ac_h1_sis_20230624_v06.cdf to ./data/ACE/SIS/temp/20230624.cdf\n"
     ]
    },
    {
     "name": "stderr",
     "output_type": "stream",
     "text": [
      "100%|██████████| 106737/106737 [00:00<00:00, 150445.04it/s]\n"
     ]
    },
    {
     "name": "stdout",
     "output_type": "stream",
     "text": [
      "Downloading https://cdaweb.gsfc.nasa.gov/sp_phys/data/ace/sis/level_2_cdaweb/sis_h1/2023/ac_h1_sis_20230625_v06.cdf to ./data/ACE/SIS/temp/20230625.cdf\n"
     ]
    },
    {
     "name": "stderr",
     "output_type": "stream",
     "text": [
      "100%|██████████| 106430/106430 [00:00<00:00, 157162.21it/s]\n"
     ]
    },
    {
     "name": "stdout",
     "output_type": "stream",
     "text": [
      "Downloading https://cdaweb.gsfc.nasa.gov/sp_phys/data/ace/sis/level_2_cdaweb/sis_h1/2023/ac_h1_sis_20230626_v06.cdf to ./data/ACE/SIS/temp/20230626.cdf\n"
     ]
    },
    {
     "name": "stderr",
     "output_type": "stream",
     "text": [
      "100%|██████████| 104595/104595 [00:00<00:00, 153882.09it/s]\n"
     ]
    },
    {
     "name": "stdout",
     "output_type": "stream",
     "text": [
      "Downloading https://cdaweb.gsfc.nasa.gov/sp_phys/data/ace/sis/level_2_cdaweb/sis_h1/2023/ac_h1_sis_20230627_v06.cdf to ./data/ACE/SIS/temp/20230627.cdf\n"
     ]
    },
    {
     "name": "stderr",
     "output_type": "stream",
     "text": [
      "100%|██████████| 104618/104618 [00:00<00:00, 145434.68it/s]\n"
     ]
    },
    {
     "name": "stdout",
     "output_type": "stream",
     "text": [
      "Downloading https://cdaweb.gsfc.nasa.gov/sp_phys/data/ace/sis/level_2_cdaweb/sis_h1/2023/ac_h1_sis_20230628_v06.cdf to ./data/ACE/SIS/temp/20230628.cdf\n"
     ]
    },
    {
     "name": "stderr",
     "output_type": "stream",
     "text": [
      "100%|██████████| 105363/105363 [00:00<00:00, 152735.82it/s]\n"
     ]
    },
    {
     "name": "stdout",
     "output_type": "stream",
     "text": [
      "Downloading https://cdaweb.gsfc.nasa.gov/sp_phys/data/ace/sis/level_2_cdaweb/sis_h1/2023/ac_h1_sis_20230629_v06.cdf to ./data/ACE/SIS/temp/20230629.cdf\n"
     ]
    },
    {
     "name": "stderr",
     "output_type": "stream",
     "text": [
      "100%|██████████| 104111/104111 [00:00<00:00, 153932.31it/s]\n"
     ]
    },
    {
     "name": "stdout",
     "output_type": "stream",
     "text": [
      "Downloading https://cdaweb.gsfc.nasa.gov/sp_phys/data/ace/sis/level_2_cdaweb/sis_h1/2023/ac_h1_sis_20230630_v06.cdf to ./data/ACE/SIS/temp/20230630.cdf\n"
     ]
    },
    {
     "name": "stderr",
     "output_type": "stream",
     "text": [
      "100%|██████████| 103951/103951 [00:00<00:00, 147415.59it/s]\n"
     ]
    },
    {
     "name": "stdout",
     "output_type": "stream",
     "text": [
      "Downloading https://cdaweb.gsfc.nasa.gov/sp_phys/data/ace/sis/level_2_cdaweb/sis_h1/2023/ac_h1_sis_20230701_v06.cdf to ./data/ACE/SIS/temp/20230701.cdf\n"
     ]
    },
    {
     "name": "stderr",
     "output_type": "stream",
     "text": [
      "100%|██████████| 103964/103964 [00:00<00:00, 153001.25it/s]\n"
     ]
    },
    {
     "name": "stdout",
     "output_type": "stream",
     "text": [
      "Downloading https://cdaweb.gsfc.nasa.gov/sp_phys/data/ace/sis/level_2_cdaweb/sis_h1/2023/ac_h1_sis_20230702_v06.cdf to ./data/ACE/SIS/temp/20230702.cdf\n"
     ]
    },
    {
     "name": "stderr",
     "output_type": "stream",
     "text": [
      "100%|██████████| 104030/104030 [00:00<00:00, 149342.11it/s]\n"
     ]
    },
    {
     "name": "stdout",
     "output_type": "stream",
     "text": [
      "Downloading https://cdaweb.gsfc.nasa.gov/sp_phys/data/ace/sis/level_2_cdaweb/sis_h1/2023/ac_h1_sis_20230703_v06.cdf to ./data/ACE/SIS/temp/20230703.cdf\n"
     ]
    },
    {
     "name": "stderr",
     "output_type": "stream",
     "text": [
      "100%|██████████| 103982/103982 [00:00<00:00, 157480.14it/s]\n"
     ]
    },
    {
     "name": "stdout",
     "output_type": "stream",
     "text": [
      "Downloading https://cdaweb.gsfc.nasa.gov/sp_phys/data/ace/sis/level_2_cdaweb/sis_h1/2023/ac_h1_sis_20230704_v06.cdf to ./data/ACE/SIS/temp/20230704.cdf\n"
     ]
    },
    {
     "name": "stderr",
     "output_type": "stream",
     "text": [
      "100%|██████████| 104054/104054 [00:00<00:00, 160054.11it/s]\n"
     ]
    },
    {
     "name": "stdout",
     "output_type": "stream",
     "text": [
      "Downloading https://cdaweb.gsfc.nasa.gov/sp_phys/data/ace/sis/level_2_cdaweb/sis_h1/2023/ac_h1_sis_20230705_v06.cdf to ./data/ACE/SIS/temp/20230705.cdf\n"
     ]
    },
    {
     "name": "stderr",
     "output_type": "stream",
     "text": [
      "100%|██████████| 104048/104048 [00:00<00:00, 157251.56it/s]\n"
     ]
    },
    {
     "name": "stdout",
     "output_type": "stream",
     "text": [
      "Downloading https://cdaweb.gsfc.nasa.gov/sp_phys/data/ace/sis/level_2_cdaweb/sis_h1/2023/ac_h1_sis_20230706_v06.cdf to ./data/ACE/SIS/temp/20230706.cdf\n"
     ]
    },
    {
     "name": "stderr",
     "output_type": "stream",
     "text": [
      "100%|██████████| 104090/104090 [00:00<00:00, 163341.28it/s]\n"
     ]
    },
    {
     "name": "stdout",
     "output_type": "stream",
     "text": [
      "Downloading https://cdaweb.gsfc.nasa.gov/sp_phys/data/ace/sis/level_2_cdaweb/sis_h1/2023/ac_h1_sis_20230707_v06.cdf to ./data/ACE/SIS/temp/20230707.cdf\n"
     ]
    },
    {
     "name": "stderr",
     "output_type": "stream",
     "text": [
      "100%|██████████| 104258/104258 [00:00<00:00, 144770.99it/s]\n"
     ]
    }
   ],
   "source": [
    "from data.preprocessing import ACE,interval_time\n",
    "\n",
    "ace = ACE()\n",
    "scrap_date = interval_time('20230101', '20230707')\n",
    "df = ace.SIS(scrap_date)"
   ]
  },
  {
   "cell_type": "code",
   "execution_count": 28,
   "metadata": {},
   "outputs": [
    {
     "data": {
      "text/html": [
       "<div>\n",
       "<style scoped>\n",
       "    .dataframe tbody tr th:only-of-type {\n",
       "        vertical-align: middle;\n",
       "    }\n",
       "\n",
       "    .dataframe tbody tr th {\n",
       "        vertical-align: top;\n",
       "    }\n",
       "\n",
       "    .dataframe thead th {\n",
       "        text-align: right;\n",
       "    }\n",
       "</style>\n",
       "<table border=\"1\" class=\"dataframe\">\n",
       "  <thead>\n",
       "    <tr style=\"text-align: right;\">\n",
       "      <th></th>\n",
       "      <th>flux_He_1</th>\n",
       "      <th>flux_He_2</th>\n",
       "      <th>flux_He_3</th>\n",
       "      <th>flux_He_4</th>\n",
       "      <th>flux_He_5</th>\n",
       "      <th>flux_He_6</th>\n",
       "      <th>flux_He_7</th>\n",
       "      <th>flux_He_8</th>\n",
       "      <th>flux_C_1</th>\n",
       "      <th>flux_C_2</th>\n",
       "      <th>...</th>\n",
       "      <th>cnt_Fe_7</th>\n",
       "      <th>cnt_Fe_8</th>\n",
       "      <th>cnt_Ni_1</th>\n",
       "      <th>cnt_Ni_2</th>\n",
       "      <th>cnt_Ni_3</th>\n",
       "      <th>cnt_Ni_4</th>\n",
       "      <th>cnt_Ni_5</th>\n",
       "      <th>cnt_Ni_6</th>\n",
       "      <th>cnt_Ni_7</th>\n",
       "      <th>cnt_Ni_8</th>\n",
       "    </tr>\n",
       "    <tr>\n",
       "      <th>Epoch</th>\n",
       "      <th></th>\n",
       "      <th></th>\n",
       "      <th></th>\n",
       "      <th></th>\n",
       "      <th></th>\n",
       "      <th></th>\n",
       "      <th></th>\n",
       "      <th></th>\n",
       "      <th></th>\n",
       "      <th></th>\n",
       "      <th></th>\n",
       "      <th></th>\n",
       "      <th></th>\n",
       "      <th></th>\n",
       "      <th></th>\n",
       "      <th></th>\n",
       "      <th></th>\n",
       "      <th></th>\n",
       "      <th></th>\n",
       "      <th></th>\n",
       "      <th></th>\n",
       "    </tr>\n",
       "  </thead>\n",
       "  <tbody>\n",
       "    <tr>\n",
       "      <th>2023-01-01 00:03:10.000000</th>\n",
       "      <td>0.0</td>\n",
       "      <td>0.000000</td>\n",
       "      <td>0.0</td>\n",
       "      <td>0.0</td>\n",
       "      <td>0.0</td>\n",
       "      <td>-999.9</td>\n",
       "      <td>-999.9</td>\n",
       "      <td>-999.9</td>\n",
       "      <td>0.0</td>\n",
       "      <td>0.0</td>\n",
       "      <td>...</td>\n",
       "      <td>0.0</td>\n",
       "      <td>0.0</td>\n",
       "      <td>0.0</td>\n",
       "      <td>0.0</td>\n",
       "      <td>0.0</td>\n",
       "      <td>0.0</td>\n",
       "      <td>0.0</td>\n",
       "      <td>0.0</td>\n",
       "      <td>0.0</td>\n",
       "      <td>0.0</td>\n",
       "    </tr>\n",
       "    <tr>\n",
       "      <th>2023-01-01 00:07:25.000000</th>\n",
       "      <td>0.0</td>\n",
       "      <td>0.000000</td>\n",
       "      <td>0.0</td>\n",
       "      <td>0.0</td>\n",
       "      <td>0.0</td>\n",
       "      <td>-999.9</td>\n",
       "      <td>-999.9</td>\n",
       "      <td>-999.9</td>\n",
       "      <td>0.0</td>\n",
       "      <td>0.0</td>\n",
       "      <td>...</td>\n",
       "      <td>0.0</td>\n",
       "      <td>0.0</td>\n",
       "      <td>0.0</td>\n",
       "      <td>0.0</td>\n",
       "      <td>0.0</td>\n",
       "      <td>0.0</td>\n",
       "      <td>0.0</td>\n",
       "      <td>0.0</td>\n",
       "      <td>0.0</td>\n",
       "      <td>0.0</td>\n",
       "    </tr>\n",
       "    <tr>\n",
       "      <th>2023-01-01 00:11:41.000000</th>\n",
       "      <td>0.0</td>\n",
       "      <td>0.000000</td>\n",
       "      <td>0.0</td>\n",
       "      <td>0.0</td>\n",
       "      <td>0.0</td>\n",
       "      <td>-999.9</td>\n",
       "      <td>-999.9</td>\n",
       "      <td>-999.9</td>\n",
       "      <td>0.0</td>\n",
       "      <td>0.0</td>\n",
       "      <td>...</td>\n",
       "      <td>0.0</td>\n",
       "      <td>0.0</td>\n",
       "      <td>0.0</td>\n",
       "      <td>0.0</td>\n",
       "      <td>0.0</td>\n",
       "      <td>0.0</td>\n",
       "      <td>0.0</td>\n",
       "      <td>0.0</td>\n",
       "      <td>0.0</td>\n",
       "      <td>0.0</td>\n",
       "    </tr>\n",
       "    <tr>\n",
       "      <th>2023-01-01 00:15:58.000000</th>\n",
       "      <td>0.0</td>\n",
       "      <td>0.000000</td>\n",
       "      <td>0.0</td>\n",
       "      <td>0.0</td>\n",
       "      <td>0.0</td>\n",
       "      <td>-999.9</td>\n",
       "      <td>-999.9</td>\n",
       "      <td>-999.9</td>\n",
       "      <td>0.0</td>\n",
       "      <td>0.0</td>\n",
       "      <td>...</td>\n",
       "      <td>0.0</td>\n",
       "      <td>0.0</td>\n",
       "      <td>0.0</td>\n",
       "      <td>0.0</td>\n",
       "      <td>0.0</td>\n",
       "      <td>0.0</td>\n",
       "      <td>0.0</td>\n",
       "      <td>0.0</td>\n",
       "      <td>0.0</td>\n",
       "      <td>0.0</td>\n",
       "    </tr>\n",
       "    <tr>\n",
       "      <th>2023-01-01 00:20:13.000000</th>\n",
       "      <td>0.0</td>\n",
       "      <td>0.000000</td>\n",
       "      <td>0.0</td>\n",
       "      <td>0.0</td>\n",
       "      <td>0.0</td>\n",
       "      <td>-999.9</td>\n",
       "      <td>-999.9</td>\n",
       "      <td>-999.9</td>\n",
       "      <td>0.0</td>\n",
       "      <td>0.0</td>\n",
       "      <td>...</td>\n",
       "      <td>0.0</td>\n",
       "      <td>0.0</td>\n",
       "      <td>0.0</td>\n",
       "      <td>0.0</td>\n",
       "      <td>0.0</td>\n",
       "      <td>0.0</td>\n",
       "      <td>0.0</td>\n",
       "      <td>0.0</td>\n",
       "      <td>0.0</td>\n",
       "      <td>0.0</td>\n",
       "    </tr>\n",
       "    <tr>\n",
       "      <th>...</th>\n",
       "      <td>...</td>\n",
       "      <td>...</td>\n",
       "      <td>...</td>\n",
       "      <td>...</td>\n",
       "      <td>...</td>\n",
       "      <td>...</td>\n",
       "      <td>...</td>\n",
       "      <td>...</td>\n",
       "      <td>...</td>\n",
       "      <td>...</td>\n",
       "      <td>...</td>\n",
       "      <td>...</td>\n",
       "      <td>...</td>\n",
       "      <td>...</td>\n",
       "      <td>...</td>\n",
       "      <td>...</td>\n",
       "      <td>...</td>\n",
       "      <td>...</td>\n",
       "      <td>...</td>\n",
       "      <td>...</td>\n",
       "      <td>...</td>\n",
       "    </tr>\n",
       "    <tr>\n",
       "      <th>2023-07-07 23:40:45.000000</th>\n",
       "      <td>0.0</td>\n",
       "      <td>0.000303</td>\n",
       "      <td>0.0</td>\n",
       "      <td>0.0</td>\n",
       "      <td>0.0</td>\n",
       "      <td>-999.9</td>\n",
       "      <td>-999.9</td>\n",
       "      <td>-999.9</td>\n",
       "      <td>0.0</td>\n",
       "      <td>0.0</td>\n",
       "      <td>...</td>\n",
       "      <td>0.0</td>\n",
       "      <td>0.0</td>\n",
       "      <td>0.0</td>\n",
       "      <td>0.0</td>\n",
       "      <td>0.0</td>\n",
       "      <td>0.0</td>\n",
       "      <td>0.0</td>\n",
       "      <td>0.0</td>\n",
       "      <td>0.0</td>\n",
       "      <td>0.0</td>\n",
       "    </tr>\n",
       "    <tr>\n",
       "      <th>2023-07-07 23:45:02.000000</th>\n",
       "      <td>0.0</td>\n",
       "      <td>0.000000</td>\n",
       "      <td>0.0</td>\n",
       "      <td>0.0</td>\n",
       "      <td>0.0</td>\n",
       "      <td>-999.9</td>\n",
       "      <td>-999.9</td>\n",
       "      <td>-999.9</td>\n",
       "      <td>0.0</td>\n",
       "      <td>0.0</td>\n",
       "      <td>...</td>\n",
       "      <td>0.0</td>\n",
       "      <td>0.0</td>\n",
       "      <td>0.0</td>\n",
       "      <td>0.0</td>\n",
       "      <td>0.0</td>\n",
       "      <td>0.0</td>\n",
       "      <td>0.0</td>\n",
       "      <td>0.0</td>\n",
       "      <td>0.0</td>\n",
       "      <td>0.0</td>\n",
       "    </tr>\n",
       "    <tr>\n",
       "      <th>2023-07-07 23:49:18.000000</th>\n",
       "      <td>0.0</td>\n",
       "      <td>0.000000</td>\n",
       "      <td>0.0</td>\n",
       "      <td>0.0</td>\n",
       "      <td>0.0</td>\n",
       "      <td>-999.9</td>\n",
       "      <td>-999.9</td>\n",
       "      <td>-999.9</td>\n",
       "      <td>0.0</td>\n",
       "      <td>0.0</td>\n",
       "      <td>...</td>\n",
       "      <td>0.0</td>\n",
       "      <td>0.0</td>\n",
       "      <td>0.0</td>\n",
       "      <td>0.0</td>\n",
       "      <td>0.0</td>\n",
       "      <td>0.0</td>\n",
       "      <td>0.0</td>\n",
       "      <td>0.0</td>\n",
       "      <td>0.0</td>\n",
       "      <td>0.0</td>\n",
       "    </tr>\n",
       "    <tr>\n",
       "      <th>2023-07-07 23:53:33.000000</th>\n",
       "      <td>0.0</td>\n",
       "      <td>0.000000</td>\n",
       "      <td>0.0</td>\n",
       "      <td>0.0</td>\n",
       "      <td>0.0</td>\n",
       "      <td>-999.9</td>\n",
       "      <td>-999.9</td>\n",
       "      <td>-999.9</td>\n",
       "      <td>0.0</td>\n",
       "      <td>0.0</td>\n",
       "      <td>...</td>\n",
       "      <td>0.0</td>\n",
       "      <td>0.0</td>\n",
       "      <td>0.0</td>\n",
       "      <td>0.0</td>\n",
       "      <td>0.0</td>\n",
       "      <td>0.0</td>\n",
       "      <td>0.0</td>\n",
       "      <td>0.0</td>\n",
       "      <td>0.0</td>\n",
       "      <td>0.0</td>\n",
       "    </tr>\n",
       "    <tr>\n",
       "      <th>2023-07-07 23:57:50.000000</th>\n",
       "      <td>0.0</td>\n",
       "      <td>0.000304</td>\n",
       "      <td>0.0</td>\n",
       "      <td>0.0</td>\n",
       "      <td>0.0</td>\n",
       "      <td>-999.9</td>\n",
       "      <td>-999.9</td>\n",
       "      <td>-999.9</td>\n",
       "      <td>0.0</td>\n",
       "      <td>0.0</td>\n",
       "      <td>...</td>\n",
       "      <td>0.0</td>\n",
       "      <td>0.0</td>\n",
       "      <td>0.0</td>\n",
       "      <td>0.0</td>\n",
       "      <td>0.0</td>\n",
       "      <td>0.0</td>\n",
       "      <td>0.0</td>\n",
       "      <td>0.0</td>\n",
       "      <td>0.0</td>\n",
       "      <td>0.0</td>\n",
       "    </tr>\n",
       "  </tbody>\n",
       "</table>\n",
       "<p>63450 rows × 192 columns</p>\n",
       "</div>"
      ],
      "text/plain": [
       "                            flux_He_1  flux_He_2  flux_He_3  flux_He_4  \\\n",
       "Epoch                                                                    \n",
       "2023-01-01 00:03:10.000000        0.0   0.000000        0.0        0.0   \n",
       "2023-01-01 00:07:25.000000        0.0   0.000000        0.0        0.0   \n",
       "2023-01-01 00:11:41.000000        0.0   0.000000        0.0        0.0   \n",
       "2023-01-01 00:15:58.000000        0.0   0.000000        0.0        0.0   \n",
       "2023-01-01 00:20:13.000000        0.0   0.000000        0.0        0.0   \n",
       "...                               ...        ...        ...        ...   \n",
       "2023-07-07 23:40:45.000000        0.0   0.000303        0.0        0.0   \n",
       "2023-07-07 23:45:02.000000        0.0   0.000000        0.0        0.0   \n",
       "2023-07-07 23:49:18.000000        0.0   0.000000        0.0        0.0   \n",
       "2023-07-07 23:53:33.000000        0.0   0.000000        0.0        0.0   \n",
       "2023-07-07 23:57:50.000000        0.0   0.000304        0.0        0.0   \n",
       "\n",
       "                            flux_He_5  flux_He_6  flux_He_7  flux_He_8  \\\n",
       "Epoch                                                                    \n",
       "2023-01-01 00:03:10.000000        0.0     -999.9     -999.9     -999.9   \n",
       "2023-01-01 00:07:25.000000        0.0     -999.9     -999.9     -999.9   \n",
       "2023-01-01 00:11:41.000000        0.0     -999.9     -999.9     -999.9   \n",
       "2023-01-01 00:15:58.000000        0.0     -999.9     -999.9     -999.9   \n",
       "2023-01-01 00:20:13.000000        0.0     -999.9     -999.9     -999.9   \n",
       "...                               ...        ...        ...        ...   \n",
       "2023-07-07 23:40:45.000000        0.0     -999.9     -999.9     -999.9   \n",
       "2023-07-07 23:45:02.000000        0.0     -999.9     -999.9     -999.9   \n",
       "2023-07-07 23:49:18.000000        0.0     -999.9     -999.9     -999.9   \n",
       "2023-07-07 23:53:33.000000        0.0     -999.9     -999.9     -999.9   \n",
       "2023-07-07 23:57:50.000000        0.0     -999.9     -999.9     -999.9   \n",
       "\n",
       "                            flux_C_1  flux_C_2  ...  cnt_Fe_7  cnt_Fe_8  \\\n",
       "Epoch                                           ...                       \n",
       "2023-01-01 00:03:10.000000       0.0       0.0  ...       0.0       0.0   \n",
       "2023-01-01 00:07:25.000000       0.0       0.0  ...       0.0       0.0   \n",
       "2023-01-01 00:11:41.000000       0.0       0.0  ...       0.0       0.0   \n",
       "2023-01-01 00:15:58.000000       0.0       0.0  ...       0.0       0.0   \n",
       "2023-01-01 00:20:13.000000       0.0       0.0  ...       0.0       0.0   \n",
       "...                              ...       ...  ...       ...       ...   \n",
       "2023-07-07 23:40:45.000000       0.0       0.0  ...       0.0       0.0   \n",
       "2023-07-07 23:45:02.000000       0.0       0.0  ...       0.0       0.0   \n",
       "2023-07-07 23:49:18.000000       0.0       0.0  ...       0.0       0.0   \n",
       "2023-07-07 23:53:33.000000       0.0       0.0  ...       0.0       0.0   \n",
       "2023-07-07 23:57:50.000000       0.0       0.0  ...       0.0       0.0   \n",
       "\n",
       "                            cnt_Ni_1  cnt_Ni_2  cnt_Ni_3  cnt_Ni_4  cnt_Ni_5  \\\n",
       "Epoch                                                                          \n",
       "2023-01-01 00:03:10.000000       0.0       0.0       0.0       0.0       0.0   \n",
       "2023-01-01 00:07:25.000000       0.0       0.0       0.0       0.0       0.0   \n",
       "2023-01-01 00:11:41.000000       0.0       0.0       0.0       0.0       0.0   \n",
       "2023-01-01 00:15:58.000000       0.0       0.0       0.0       0.0       0.0   \n",
       "2023-01-01 00:20:13.000000       0.0       0.0       0.0       0.0       0.0   \n",
       "...                              ...       ...       ...       ...       ...   \n",
       "2023-07-07 23:40:45.000000       0.0       0.0       0.0       0.0       0.0   \n",
       "2023-07-07 23:45:02.000000       0.0       0.0       0.0       0.0       0.0   \n",
       "2023-07-07 23:49:18.000000       0.0       0.0       0.0       0.0       0.0   \n",
       "2023-07-07 23:53:33.000000       0.0       0.0       0.0       0.0       0.0   \n",
       "2023-07-07 23:57:50.000000       0.0       0.0       0.0       0.0       0.0   \n",
       "\n",
       "                            cnt_Ni_6  cnt_Ni_7  cnt_Ni_8  \n",
       "Epoch                                                     \n",
       "2023-01-01 00:03:10.000000       0.0       0.0       0.0  \n",
       "2023-01-01 00:07:25.000000       0.0       0.0       0.0  \n",
       "2023-01-01 00:11:41.000000       0.0       0.0       0.0  \n",
       "2023-01-01 00:15:58.000000       0.0       0.0       0.0  \n",
       "2023-01-01 00:20:13.000000       0.0       0.0       0.0  \n",
       "...                              ...       ...       ...  \n",
       "2023-07-07 23:40:45.000000       0.0       0.0       0.0  \n",
       "2023-07-07 23:45:02.000000       0.0       0.0       0.0  \n",
       "2023-07-07 23:49:18.000000       0.0       0.0       0.0  \n",
       "2023-07-07 23:53:33.000000       0.0       0.0       0.0  \n",
       "2023-07-07 23:57:50.000000       0.0       0.0       0.0  \n",
       "\n",
       "[63450 rows x 192 columns]"
      ]
     },
     "execution_count": 28,
     "metadata": {},
     "output_type": "execute_result"
    }
   ],
   "source": [
    "https://drive.google.com/drive/folders/1vNIC5cbv2SxPtsyNdTTByQidXkLG7WbY?usp=sharing"
   ]
  },
  {
   "cell_type": "code",
   "execution_count": 41,
   "metadata": {},
   "outputs": [
    {
     "data": {
      "text/plain": [
       "(337, 1)"
      ]
     },
     "execution_count": 41,
     "metadata": {},
     "output_type": "execute_result"
    }
   ],
   "source": [
    "np.array([date.strftime('%Y-%m-%d %H:%M:%S.%f') for date in cdf['Epoch'][:]]).reshape(-1,1).shape"
   ]
  },
  {
   "cell_type": "code",
   "execution_count": 45,
   "metadata": {},
   "outputs": [],
   "source": [
    "from torchvision.datasets.utils import download_file_from_google_drive\n",
    "ids = [\n",
    "    '103L8JHqGN5mwmo3_ILZw-GZPWp7_67wl',\n",
    "    '1nvdQRlxCK4ehZHKVML-12Bpmjq2k4ZeU',\n",
    "    '1RYDWsSXXOzouB1eEDzploywH9JyBqdrk',\n",
    "    '1_ka4csXPVJb3aqb6aHzu5shlvswXK17o',\n",
    "    '1rsishcwNLmu2yzAH-Mo1EfBxDyndaAEO',\n",
    "    '1char1Vzl6UyKFVWuG3JBgFaSJptdfiJ6',\n",
    "    '1eAnalwiSfK4psFrQmEUgj7855lHg1hrQ',\n",
    "    '1veySFEI_5ZpFWZL1MBvG5mOg_OcHK7oi',\n",
    "    '1Nm_qC79kBiBIl1TSBmIJmpmuGcXeDxqU',\n",
    "    '1EpSiekDM89mitvNACgat21OjT81t92ZO',\n",
    "    '1gUOe18Q19QrIGq7eXmFyQYsjYtSxiMps',\n",
    "    '1iY-WBTSCQw7j0DRuSryd7C984-rd12oy',\n",
    "    '1RHFhfpUI4YEsAocmkw3TMb4kdx9h2jC2',\n",
    "    '1tw4GEjbc61I9iI5LgKp4HltrQ37LrGwO',\n",
    "    '1LGlgLYQWGYMSi5hXoCLPr36T1yu3cCXl',\n",
    "    '1r7V3hbBlivL4rjZqCPrmQdRDcJeXW8f9',\n",
    "    '1tb8mzlf1d0MjUpozQTiU2gc262OfvAd0',\n",
    "    '1cvqAXe5zbGV5RITQslnH1fAjMe113Kaj',\n",
    "    '108rcjTinvw3FdUG2yXGv1P1TL_q5_LqU',\n",
    "    '1l24WNUH8p4nf6WH0dAl6PozQEJhGl3oj',\n",
    "    '1WtXxcDml7lZMpnbIpqaXOtwwxN1Lkr08',\n",
    "    '1cLF7wlaMrQwJHSH4h8wz1hibe7pZ8AbK',\n",
    "    '1uB8tmkLCAzPZxYUhscE7WIz40fp-B4tT',\n",
    "    '1psKghtuesoOrRAmCKVshDbo-MU4MS78C',\n",
    "    '157pFps37v8gF9kFTfoioUoE_XbxSNk68',\n",
    "    '1fWXqQ47A1p7JrnE-u617YBny7keMzryQ',\n",
    "    '1yqCQeEcwmtVrdqN01CkDvaJvW8TG8FDv'\n",
    "]"
   ]
  },
  {
   "cell_type": "code",
   "execution_count": 46,
   "metadata": {},
   "outputs": [
    {
     "name": "stdout",
     "output_type": "stream",
     "text": [
      "0 103L8JHqGN5mwmo3_ILZw-GZPWp7_67wl\n",
      "1 1nvdQRlxCK4ehZHKVML-12Bpmjq2k4ZeU\n",
      "2 1RYDWsSXXOzouB1eEDzploywH9JyBqdrk\n",
      "3 1_ka4csXPVJb3aqb6aHzu5shlvswXK17o\n",
      "4 1rsishcwNLmu2yzAH-Mo1EfBxDyndaAEO\n",
      "5 1char1Vzl6UyKFVWuG3JBgFaSJptdfiJ6\n",
      "6 1eAnalwiSfK4psFrQmEUgj7855lHg1hrQ\n",
      "7 1veySFEI_5ZpFWZL1MBvG5mOg_OcHK7oi\n",
      "8 1Nm_qC79kBiBIl1TSBmIJmpmuGcXeDxqU\n",
      "9 1EpSiekDM89mitvNACgat21OjT81t92ZO\n",
      "10 1gUOe18Q19QrIGq7eXmFyQYsjYtSxiMps\n",
      "11 1iY-WBTSCQw7j0DRuSryd7C984-rd12oy\n",
      "12 1RHFhfpUI4YEsAocmkw3TMb4kdx9h2jC2\n",
      "13 1tw4GEjbc61I9iI5LgKp4HltrQ37LrGwO\n",
      "14 1LGlgLYQWGYMSi5hXoCLPr36T1yu3cCXl\n",
      "15 1r7V3hbBlivL4rjZqCPrmQdRDcJeXW8f9\n",
      "16 1tb8mzlf1d0MjUpozQTiU2gc262OfvAd0\n",
      "17 1cvqAXe5zbGV5RITQslnH1fAjMe113Kaj\n",
      "18 108rcjTinvw3FdUG2yXGv1P1TL_q5_LqU\n",
      "19 1l24WNUH8p4nf6WH0dAl6PozQEJhGl3oj\n",
      "20 1WtXxcDml7lZMpnbIpqaXOtwwxN1Lkr08\n",
      "21 1cLF7wlaMrQwJHSH4h8wz1hibe7pZ8AbK\n",
      "22 1uB8tmkLCAzPZxYUhscE7WIz40fp-B4tT\n",
      "23 1psKghtuesoOrRAmCKVshDbo-MU4MS78C\n",
      "24 157pFps37v8gF9kFTfoioUoE_XbxSNk68\n",
      "25 1fWXqQ47A1p7JrnE-u617YBny7keMzryQ\n",
      "26 1yqCQeEcwmtVrdqN01CkDvaJvW8TG8FDv\n"
     ]
    }
   ],
   "source": [
    "for i,id in enumerate(ids):\n",
    "    print(i,id)"
   ]
  },
  {
   "cell_type": "code",
   "execution_count": null,
   "metadata": {},
   "outputs": [],
   "source": []
  },
  {
   "cell_type": "code",
   "execution_count": null,
   "metadata": {},
   "outputs": [],
   "source": []
  }
 ],
 "metadata": {
  "kernelspec": {
   "display_name": "Python 3 (ipykernel)",
   "language": "python",
   "name": "python3"
  },
  "language_info": {
   "codemirror_mode": {
    "name": "ipython",
    "version": 3
   },
   "file_extension": ".py",
   "mimetype": "text/x-python",
   "name": "python",
   "nbconvert_exporter": "python",
   "pygments_lexer": "ipython3",
   "version": "3.10.12"
  }
 },
 "nbformat": 4,
 "nbformat_minor": 4
}
